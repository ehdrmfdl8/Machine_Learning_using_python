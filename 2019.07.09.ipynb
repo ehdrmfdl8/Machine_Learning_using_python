{
 "cells": [
  {
   "cell_type": "code",
   "execution_count": 5,
   "metadata": {},
   "outputs": [
    {
     "name": "stdout",
     "output_type": "stream",
     "text": [
      "result == 6.000000000012662\n",
      "result == 6.000000000012662\n"
     ]
    }
   ],
   "source": [
    "import numpy as np\n",
    "\n",
    "def my_func1(x):\n",
    "    return x**2\n",
    "f = lambda x : x**2\n",
    "\n",
    "def numerical_derivative(f,x):\n",
    "    delta_x = 1e-4\n",
    "    return ((f(x+delta_x)-f(x-delta_x))/(2*delta_x))\n",
    "result = numerical_derivative(f,3)\n",
    "print(\"result ==\", result)\n",
    "\n",
    "result = numerical_derivative(my_func1,3)\n",
    "print(\"result ==\", result)"
   ]
  },
  {
   "cell_type": "code",
   "execution_count": 1,
   "metadata": {},
   "outputs": [
    {
     "name": "stdout",
     "output_type": "stream",
     "text": [
      "result == 66.50150507518049\n",
      "result == 66.50150507518049\n"
     ]
    }
   ],
   "source": [
    "import numpy as np\n",
    "def my_func2(x):\n",
    "    return 3*x*(np.exp(x))\n",
    "f = lambda x : my_func2(x)\n",
    "\n",
    "def numerical_derivative(f,x):\n",
    "    delta_x = 1e-4\n",
    "    return ((f(x+delta_x)-f(x-delta_x))/(2*delta_x))\n",
    "\n",
    "result = numerical_derivative(f,2)\n",
    "print(\"result ==\", result)\n",
    "\n",
    "result = numerical_derivative(my_func2,2)\n",
    "print(\"result ==\", result)\n",
    "\n"
   ]
  },
  {
   "cell_type": "code",
   "execution_count": 3,
   "metadata": {},
   "outputs": [],
   "source": [
    "import numpy as np\n",
    "\n",
    "#f는 위에 정의된 람다 함수 이고 x는 행렬 값이다.\n",
    "# ex) f(x,y,z,w) 일때 안에있는 변수들을 행렬로 생각 한다.\n",
    "def numerical_derivative(f,x):\n",
    "    delta_x = 1e-4\n",
    "    #각 변수에 대해서 미분값, zeros_like 는 0행렬된 초기화값이다.\n",
    "    #grad = ([0,0],[0,0])\n",
    "    grad = np.zeros_like(x)\n",
    "    #it는 크기가 얼마가 되던지 제일 처음을 가리킨다.\n",
    "    it = np.nditer(x,flags=['multi_index'],op_flags = ['readwrite'])\n",
    "    #it가 끝나기 전까지\n",
    "    while not it.finished:\n",
    "        #it의 인덱스를 가져온다.\n",
    "        idx = it.multi_index\n",
    "        \n",
    "        tmp_val = x[idx] #원본값을 저장한다.\n",
    "        x[idx] = float(tmp_val) + delta_x  #원본값을 저장하는 이유,typecast를 명시적으로 해도 되고 안해도 된다.\n",
    "        fx1 = f(x) #f(x+delta_x)\n",
    "        \n",
    "        x[idx] = tmp_val - delta_x\n",
    "        fx2 = f(x) #f(x-delta_x)\n",
    "        grad[idx] = (fx1 - fx2) / (2*delta_x)\n",
    "        \n",
    "        x[idx] = tmp_val \n",
    "        it.iternext()\n",
    "        \n",
    "    return grad\n",
    "        "
   ]
  },
  {
   "cell_type": "code",
   "execution_count": 6,
   "metadata": {},
   "outputs": [
    {
     "name": "stdout",
     "output_type": "stream",
     "text": [
      "debug 1. initial input variable = [3.]\n",
      "debug 2. initial grad = [0.]\n",
      "==============================\n",
      "debug 3. idx =  (0,) , x[idx] =  3.0\n",
      "[3.0001]\n",
      "[2.9999]\n",
      "debug 4. grad[idx] =  6.000000000012662\n",
      "debug 5. grad =  [6.]\n",
      "============================\n",
      "[3.]\n"
     ]
    },
    {
     "data": {
      "text/plain": [
       "array([6.])"
      ]
     },
     "execution_count": 6,
     "metadata": {},
     "output_type": "execute_result"
    }
   ],
   "source": [
    "import numpy as np\n",
    "\n",
    "def numerical_derivative(f,x):\n",
    "    delta_x = 1e-4\n",
    "    grad = np.zeros_like(x)\n",
    "    print(\"debug 1. initial input variable =\",x)\n",
    "    print(\"debug 2. initial grad =\",grad)\n",
    "    print(\"==============================\")\n",
    "    it = np.nditer(x,flags=['multi_index'],op_flags = ['readwrite'])\n",
    "   \n",
    "    while not it.finished:\n",
    "        idx = it.multi_index\n",
    "        \n",
    "        print(\"debug 3. idx = \", idx, \", x[idx] = \",x[idx])\n",
    "        \n",
    "        tmp_val = x[idx] \n",
    "        x[idx] = float(tmp_val) + delta_x  \n",
    "        fx1 = f(x) #f(x+delta_x)\n",
    "        \n",
    "        print(x)\n",
    "        \n",
    "        x[idx] = tmp_val - delta_x\n",
    "        fx2 = f(x) #f(x-delta_x)\n",
    "        grad[idx] = (fx1 - fx2) / (2*delta_x)\n",
    "        print(x)\n",
    "        print(\"debug 4. grad[idx] = \", grad[idx])\n",
    "        print(\"debug 5. grad = \", grad)\n",
    "        print(\"============================\")\n",
    "        x[idx] = tmp_val \n",
    "        print(x)\n",
    "        it.iternext()\n",
    "        \n",
    "    return grad\n",
    "def func1(input_obj):\n",
    "    x = input_obj[0]\n",
    "    return x**2\n",
    "f = lambda x : func1(x)\n",
    "# x =3.0 에서의 편미분 값\n",
    "numerical_derivative(f,np.array([3.0]))"
   ]
  },
  {
   "cell_type": "code",
   "execution_count": 8,
   "metadata": {},
   "outputs": [
    {
     "name": "stdout",
     "output_type": "stream",
     "text": [
      "debug 1. initial input variable = [1. 2.]\n",
      "debug 2. initial grad = [0. 0.]\n",
      "==============================\n",
      "debug 3. idx =  (0,) , x[idx] =  1.0\n",
      "[1.0001 2.    ]\n",
      "[0.9999 2.    ]\n",
      "debug 4. grad[idx] =  7.999999999990237\n",
      "debug 5. grad =  [8. 0.]\n",
      "============================\n",
      "[1. 2.]\n",
      "debug 3. idx =  (1,) , x[idx] =  2.0\n",
      "[1.     2.0001]\n",
      "[1.     1.9999]\n",
      "debug 4. grad[idx] =  15.000000010019221\n",
      "debug 5. grad =  [ 8.         15.00000001]\n",
      "============================\n",
      "[1. 2.]\n"
     ]
    },
    {
     "data": {
      "text/plain": [
       "array([ 8.        , 15.00000001])"
      ]
     },
     "execution_count": 8,
     "metadata": {},
     "output_type": "execute_result"
    }
   ],
   "source": [
    "import numpy as np\n",
    "\n",
    "def numerical_derivative(f,x):\n",
    "    delta_x = 1e-4\n",
    "    grad = np.zeros_like(x)\n",
    "    print(\"debug 1. initial input variable =\",x)\n",
    "    print(\"debug 2. initial grad =\",grad)\n",
    "    print(\"==============================\")\n",
    "    it = np.nditer(x,flags=['multi_index'],op_flags = ['readwrite'])\n",
    "   \n",
    "    while not it.finished:\n",
    "        idx = it.multi_index\n",
    "        \n",
    "        print(\"debug 3. idx = \", idx, \", x[idx] = \",x[idx])\n",
    "        \n",
    "        tmp_val = x[idx] \n",
    "        x[idx] = float(tmp_val) + delta_x  \n",
    "        fx1 = f(x) #f(x+delta_x)\n",
    "        \n",
    "        print(x)\n",
    "        \n",
    "        x[idx] = tmp_val - delta_x\n",
    "        fx2 = f(x) #f(x-delta_x)\n",
    "        grad[idx] = (fx1 - fx2) / (2*delta_x)\n",
    "        print(x)\n",
    "        print(\"debug 4. grad[idx] = \", grad[idx])\n",
    "        print(\"debug 5. grad = \", grad)\n",
    "        print(\"============================\")\n",
    "        x[idx] = tmp_val \n",
    "        print(x)\n",
    "        it.iternext()\n",
    "        \n",
    "    return grad\n",
    "def func1(W):\n",
    "    x = W[0]\n",
    "    y = W[1]\n",
    "    return (2*x + 3*x*y + np.power(y,3))\n",
    "f = lambda W : func1(W)\n",
    "# (x,y) = (1.0, 2.0) 에서의 편미분 값\n",
    "W = np.array([1.0, 2.0])\n",
    "\n",
    "numerical_derivative(f,W)"
   ]
  },
  {
   "cell_type": "code",
   "execution_count": 9,
   "metadata": {},
   "outputs": [
    {
     "name": "stdout",
     "output_type": "stream",
     "text": [
      "debug 1. initial input variable = [[1. 2.]\n",
      " [3. 4.]]\n",
      "debug 2. initial grad = [[0. 0.]\n",
      " [0. 0.]]\n",
      "==============================\n",
      "debug 3. idx =  (0, 0) , x[idx] =  1.0\n",
      "[[1.0001 2.    ]\n",
      " [3.     4.    ]]\n",
      "[[0.9999 2.    ]\n",
      " [3.     4.    ]]\n",
      "debug 4. grad[idx] =  5.000000000023874\n",
      "debug 5. grad =  [[5. 0.]\n",
      " [0. 0.]]\n",
      "============================\n",
      "[[1. 2.]\n",
      " [3. 4.]]\n",
      "debug 3. idx =  (0, 1) , x[idx] =  2.0\n",
      "[[1.     2.0001]\n",
      " [3.     4.    ]]\n",
      "[[1.     1.9999]\n",
      " [3.     4.    ]]\n",
      "debug 4. grad[idx] =  13.00000000000523\n",
      "debug 5. grad =  [[ 5. 13.]\n",
      " [ 0.  0.]]\n",
      "============================\n",
      "[[1. 2.]\n",
      " [3. 4.]]\n",
      "debug 3. idx =  (1, 0) , x[idx] =  3.0\n",
      "[[1.     2.    ]\n",
      " [3.0001 4.    ]]\n",
      "[[1.     2.    ]\n",
      " [2.9999 4.    ]]\n",
      "debug 4. grad[idx] =  32.00000000006753\n",
      "debug 5. grad =  [[ 5. 13.]\n",
      " [32.  0.]]\n",
      "============================\n",
      "[[1. 2.]\n",
      " [3. 4.]]\n",
      "debug 3. idx =  (1, 1) , x[idx] =  4.0\n",
      "[[1.     2.    ]\n",
      " [3.     4.0001]]\n",
      "[[1.     2.    ]\n",
      " [3.     3.9999]]\n",
      "debug 4. grad[idx] =  15.000000000000568\n",
      "debug 5. grad =  [[ 5. 13.]\n",
      " [32. 15.]]\n",
      "============================\n",
      "[[1. 2.]\n",
      " [3. 4.]]\n"
     ]
    },
    {
     "data": {
      "text/plain": [
       "array([[ 5., 13.],\n",
       "       [32., 15.]])"
      ]
     },
     "execution_count": 9,
     "metadata": {},
     "output_type": "execute_result"
    }
   ],
   "source": [
    "import numpy as np\n",
    "\n",
    "def numerical_derivative(f,x):\n",
    "    delta_x = 1e-4\n",
    "    grad = np.zeros_like(x)\n",
    "    print(\"debug 1. initial input variable =\",x)\n",
    "    print(\"debug 2. initial grad =\",grad)\n",
    "    print(\"==============================\")\n",
    "    it = np.nditer(x,flags=['multi_index'],op_flags = ['readwrite'])\n",
    "   \n",
    "    while not it.finished:\n",
    "        idx = it.multi_index\n",
    "        \n",
    "        print(\"debug 3. idx = \", idx, \", x[idx] = \",x[idx])\n",
    "        \n",
    "        tmp_val = x[idx] \n",
    "        x[idx] = float(tmp_val) + delta_x  \n",
    "        fx1 = f(x) #f(x+delta_x)\n",
    "        \n",
    "        print(x)\n",
    "        \n",
    "        x[idx] = tmp_val - delta_x\n",
    "        fx2 = f(x) #f(x-delta_x)\n",
    "        grad[idx] = (fx1 - fx2) / (2*delta_x)\n",
    "        print(x)\n",
    "        print(\"debug 4. grad[idx] = \", grad[idx])\n",
    "        print(\"debug 5. grad = \", grad)\n",
    "        print(\"============================\")\n",
    "        x[idx] = tmp_val \n",
    "        print(x)\n",
    "        it.iternext()\n",
    "        \n",
    "    return grad\n",
    "def func1(input_obj):\n",
    "    w = input_obj[0,0]\n",
    "    x = input_obj[0,1]\n",
    "    y = input_obj[1,0]\n",
    "    z = input_obj[1,1]\n",
    "    \n",
    "    return (w*x + x*y*z + 3*w + z*np.power(y,2))\n",
    "input = np.array([[1.0,2.0],[3.0,4.0]])\n",
    "numerical_derivative(func1,input)"
   ]
  },
  {
   "cell_type": "code",
   "execution_count": 11,
   "metadata": {},
   "outputs": [
    {
     "name": "stdout",
     "output_type": "stream",
     "text": [
      "debug 1. initial input variable = [1. 2. 3. 4.]\n",
      "debug 2. initial grad = [0. 0. 0. 0.]\n",
      "==============================\n",
      "debug 3. idx =  (0,) , x[idx] =  1.0\n",
      "[1.0001 2.     3.     4.    ]\n",
      "[0.9999 2.     3.     4.    ]\n",
      "debug 4. grad[idx] =  5.000000000023874\n",
      "debug 5. grad =  [5. 0. 0. 0.]\n",
      "============================\n",
      "[1. 2. 3. 4.]\n",
      "debug 3. idx =  (1,) , x[idx] =  2.0\n",
      "[1.     2.0001 3.     4.    ]\n",
      "[1.     1.9999 3.     4.    ]\n",
      "debug 4. grad[idx] =  13.00000000000523\n",
      "debug 5. grad =  [ 5. 13.  0.  0.]\n",
      "============================\n",
      "[1. 2. 3. 4.]\n",
      "debug 3. idx =  (2,) , x[idx] =  3.0\n",
      "[1.     2.     3.0001 4.    ]\n",
      "[1.     2.     2.9999 4.    ]\n",
      "debug 4. grad[idx] =  32.00000000006753\n",
      "debug 5. grad =  [ 5. 13. 32.  0.]\n",
      "============================\n",
      "[1. 2. 3. 4.]\n",
      "debug 3. idx =  (3,) , x[idx] =  4.0\n",
      "[1.     2.     3.     4.0001]\n",
      "[1.     2.     3.     3.9999]\n",
      "debug 4. grad[idx] =  15.000000000000568\n",
      "debug 5. grad =  [ 5. 13. 32. 15.]\n",
      "============================\n",
      "[1. 2. 3. 4.]\n"
     ]
    },
    {
     "data": {
      "text/plain": [
       "array([ 5., 13., 32., 15.])"
      ]
     },
     "execution_count": 11,
     "metadata": {},
     "output_type": "execute_result"
    }
   ],
   "source": [
    "import numpy as np\n",
    "\n",
    "def numerical_derivative(f,x):\n",
    "    delta_x = 1e-4\n",
    "    grad = np.zeros_like(x)\n",
    "    print(\"debug 1. initial input variable =\",x)\n",
    "    print(\"debug 2. initial grad =\",grad)\n",
    "    print(\"==============================\")\n",
    "    it = np.nditer(x,flags=['multi_index'],op_flags = ['readwrite'])\n",
    "   \n",
    "    while not it.finished:\n",
    "        idx = it.multi_index\n",
    "        \n",
    "        print(\"debug 3. idx = \", idx, \", x[idx] = \",x[idx])\n",
    "        \n",
    "        tmp_val = x[idx] \n",
    "        x[idx] = float(tmp_val) + delta_x  \n",
    "        fx1 = f(x) #f(x+delta_x)\n",
    "        \n",
    "        print(x)\n",
    "        \n",
    "        x[idx] = tmp_val - delta_x\n",
    "        fx2 = f(x) #f(x-delta_x)\n",
    "        grad[idx] = (fx1 - fx2) / (2*delta_x)\n",
    "        print(x)\n",
    "        print(\"debug 4. grad[idx] = \", grad[idx])\n",
    "        print(\"debug 5. grad = \", grad)\n",
    "        print(\"============================\")\n",
    "        x[idx] = tmp_val \n",
    "        print(x)\n",
    "        it.iternext()\n",
    "        \n",
    "    return grad\n",
    "#행렬을 벡터로 변환 *항상 데이터의 입력을 주는 부분을 바꾸어주어야한다.*\n",
    "def func1(input_obj):\n",
    "    w = input_obj[0]\n",
    "    x = input_obj[1]\n",
    "    y = input_obj[2]\n",
    "    z = input_obj[3]\n",
    "    #w = input_obj[0,0]\n",
    "    #x = input_obj[0,1]\n",
    "    #y = input_obj[1,0]\n",
    "    #z = input_obj[1,1]\n",
    "    return (w*x + x*y*z + 3*w + z*np.power(y,2))\n",
    "input = np.array([1.0,2.0,3.0,4.0])\n",
    "#input = np.array([1.0,2.0,3.0,4.0]).reshape(2,2)\n",
    "numerical_derivative(func1,input)"
   ]
  },
  {
   "cell_type": "code",
   "execution_count": null,
   "metadata": {},
   "outputs": [],
   "source": []
  }
 ],
 "metadata": {
  "kernelspec": {
   "display_name": "Python 3",
   "language": "python",
   "name": "python3"
  },
  "language_info": {
   "codemirror_mode": {
    "name": "ipython",
    "version": 3
   },
   "file_extension": ".py",
   "mimetype": "text/x-python",
   "name": "python",
   "nbconvert_exporter": "python",
   "pygments_lexer": "ipython3",
   "version": "3.6.5"
  }
 },
 "nbformat": 4,
 "nbformat_minor": 2
}
