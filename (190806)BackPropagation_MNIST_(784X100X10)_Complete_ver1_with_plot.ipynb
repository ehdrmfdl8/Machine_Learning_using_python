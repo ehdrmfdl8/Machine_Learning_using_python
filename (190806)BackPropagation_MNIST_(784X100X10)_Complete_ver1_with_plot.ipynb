{
 "cells": [
  {
   "cell_type": "code",
   "execution_count": 1,
   "metadata": {},
   "outputs": [],
   "source": [
    "import numpy as np\n",
    "import matplotlib.pyplot as plt\n",
    "\n",
    "%matplotlib inline\n",
    "\n",
    "def sigmoid(x):\n",
    "    return 1 / (1+np.exp(-x))"
   ]
  },
  {
   "cell_type": "code",
   "execution_count": 2,
   "metadata": {},
   "outputs": [],
   "source": [
    "from datetime import datetime      # datetime.now() 를 이용하여 학습 경과 시간 측정\n",
    "\n",
    "class NeuralNetwork:\n",
    "    \n",
    "    def __init__(self, input_nodes, hidden_nodes, output_nodes, learning_rate):\n",
    "        \n",
    "        self.input_nodes = input_nodes\n",
    "        self.hidden_nodes = hidden_nodes\n",
    "        self.output_nodes = output_nodes\n",
    "        \n",
    "        # 은닉층 가중치  W2 = (784 X 100) Xavier/He 방법으로 self.W2 가중치 초기화\n",
    "        self.W2 = np.random.randn(self.input_nodes, self.hidden_nodes) / np.sqrt(self.input_nodes/2)\n",
    "        self.b2 = np.random.rand(self.hidden_nodes)      \n",
    "        \n",
    "        # 출력층 가중치는 W3 = (100X10)  Xavier/He 방법으로 self.W3 가중치 초기화\n",
    "        self.W3 = np.random.randn(self.hidden_nodes, self.output_nodes) / np.sqrt(self.hidden_nodes/2)\n",
    "        self.b3 = np.random.rand(self.output_nodes)      \n",
    "                        \n",
    "        # 출력층 선형회귀 값 Z3, 출력값 A3 정의 (모두 행렬로 표시)\n",
    "        self.Z3 = np.zeros([1,output_nodes])\n",
    "        self.A3 = np.zeros([1,output_nodes])\n",
    "        \n",
    "        # 은닉층 선형회귀 값 Z2, 출력값 A2 정의 (모두 행렬로 표시)\n",
    "        self.Z2 = np.zeros([1,hidden_nodes])\n",
    "        self.A2 = np.zeros([1,hidden_nodes])\n",
    "        \n",
    "        # 입력층 선형회귀 값 Z1, 출력값 A1 정의 (모두 행렬로 표시)\n",
    "        self.Z1 = np.zeros([1,input_nodes])    \n",
    "        self.A1 = np.zeros([1,input_nodes])       \n",
    "        \n",
    "        # 학습률 learning rate 초기화\n",
    "        self.learning_rate = learning_rate\n",
    "        \n",
    "    def feed_forward(self):  \n",
    "        \n",
    "        delta = 1e-7    # log 무한대 발산 방지\n",
    "        \n",
    "        # 입력층 선형회귀 값 Z1, 출력값 A1 계산\n",
    "        self.Z1 = self.input_data\n",
    "        self.A1 = self.input_data\n",
    "        \n",
    "        # 은닉층 선형회귀 값 Z2, 출력값 A2 계산    \n",
    "        self.Z2 = np.dot(self.A1, self.W2) + self.b2\n",
    "        self.A2 = sigmoid(self.Z2)\n",
    "        \n",
    "        # 출력층 선형회귀 값 Z3, 출력값 A3 계산\n",
    "        self.Z3 = np.dot(self.A2, self.W3) + self.b3\n",
    "        self.A3 = sigmoid(self.Z3)\n",
    "        \n",
    "        return  -np.sum( self.target_data*np.log(self.A3 + delta) + (1-self.target_data)*np.log((1 - self.A3)+delta ) )    \n",
    "    \n",
    "    def loss_val(self):\n",
    "        \n",
    "        delta = 1e-7    # log 무한대 발산 방지\n",
    "        \n",
    "        # 입력층 선형회귀 값 Z1, 출력값 A1 계산\n",
    "        self.Z1 = self.input_data\n",
    "        self.A1 = self.input_data\n",
    "        \n",
    "        # 은닉층 선형회귀 값 Z2, 출력값 A2 계산    \n",
    "        self.Z2 = np.dot(self.A1, self.W2) + self.b2\n",
    "        self.A2 = sigmoid(self.Z2)\n",
    "        \n",
    "        # 출력층 선형회귀 값 Z3, 출력값 A3 계산\n",
    "        self.Z3 = np.dot(self.A2, self.W3) + self.b3\n",
    "        self.A3 = sigmoid(self.Z3)\n",
    "        \n",
    "        return  -np.sum( self.target_data*np.log(self.A3 + delta) + (1-self.target_data)*np.log((1 - self.A3)+delta ) )\n",
    "    \n",
    "   \n",
    "    # 정확도 측정함수 1\n",
    "    def accuracy1(self, test_data):\n",
    "        \n",
    "        matched_list = []\n",
    "        not_matched_list = []\n",
    "        \n",
    "        # list which contains (index, label, prediction) value\n",
    "        index_label_prediction_list = []\n",
    "        \n",
    "        # temp list which contains label and prediction in sequence\n",
    "        temp_list = []\n",
    "        \n",
    "        for index in range(len(test_data)):\n",
    "                        \n",
    "            label = int(test_data[index, 0])\n",
    "                        \n",
    "            # one-hot encoding을 위한 데이터 정규화 (data normalize)\n",
    "            data = (test_data[index, 1:] / 255.0 * 0.99) + 0.01\n",
    "            \n",
    "                  \n",
    "            # predict 를 위해서 vector 을 matrix 로 변환하여 인수로 넘겨줌\n",
    "            predicted_num = self.predict(np.array(data, ndmin=2)) \n",
    "        \n",
    "            if label == predicted_num:\n",
    "                matched_list.append(index)\n",
    "                \n",
    "            else:\n",
    "                \n",
    "                not_matched_list.append(index)\n",
    "                \n",
    "                # index_label_prediction_list\n",
    "                temp_list.append(index)\n",
    "                temp_list.append(label)\n",
    "                temp_list.append(predicted_num)\n",
    "                \n",
    "                index_label_prediction_list.append(temp_list)\n",
    "                \n",
    "                temp_list = []\n",
    "                \n",
    "                \n",
    "        print(\"Current Accuracy = \", (len(matched_list)/(len(test_data))) )\n",
    "        \n",
    "        return matched_list, not_matched_list, index_label_prediction_list\n",
    "    \n",
    "    # 정확도 측정함수 2\n",
    "    def accuracy2(self, test_input_data, test_target_data):\n",
    "        \n",
    "        matched_list = []\n",
    "        not_matched_list = []\n",
    "        \n",
    "        # list which contains (index, label, prediction) value\n",
    "        index_label_prediction_list = []\n",
    "        \n",
    "        # temp list which contains label and prediction in sequence\n",
    "        temp_list = []\n",
    "        \n",
    "        for index in range(len(test_input_data)):\n",
    "                        \n",
    "            label = int(test_target_data[index])\n",
    "                        \n",
    "            # one-hot encoding을 위한 데이터 정규화 (data normalize)\n",
    "            data = (test_input_data[index] / 255.0 * 0.99) + 0.01\n",
    "                  \n",
    "            # predict 를 위해서 vector 을 matrix 로 변환하여 인수로 넘겨줌\n",
    "            predicted_num = self.predict(np.array(data, ndmin=2)) \n",
    "        \n",
    "            if label == predicted_num:\n",
    "                matched_list.append(index)\n",
    "                \n",
    "            else:\n",
    "                \n",
    "                not_matched_list.append(index)\n",
    "                \n",
    "                # label_prediction_list\n",
    "                temp_list.append(index)\n",
    "                temp_list.append(label)\n",
    "                temp_list.append(predicted_num)\n",
    "                \n",
    "                index_label_prediction_list.append(temp_list)\n",
    "                \n",
    "                temp_list = []\n",
    "                \n",
    "                \n",
    "        print(\"Current Accuracy = \", (len(matched_list)/(len(test_input_data))) )\n",
    "        \n",
    "        return matched_list, not_matched_list, index_label_prediction_list\n",
    "    \n",
    "    \n",
    "    def train(self, input_data, target_data):   # input_data : 784 개, target_data : 10개\n",
    "        \n",
    "        self.target_data = target_data    \n",
    "        self.input_data = input_data\n",
    "        \n",
    "        # 먼저 feed forward 를 통해서 최종 출력값과 이를 바탕으로 현재의 에러 값 계산\n",
    "        loss_val = self.feed_forward()\n",
    "        \n",
    "        # 출력층 loss 인 loss_3 구함\n",
    "        loss_3 = (self.A3-self.target_data) * self.A3 * (1-self.A3)\n",
    "        \n",
    "        # 은닉층 loss 인 loss_2 구함        \n",
    "        loss_2 = np.dot(loss_3, self.W3.T) * self.A2 * (1-self.A2)\n",
    "                        \n",
    "        # 출력층 가중치 W3, 출력층 바이어스 b3 업데이트\n",
    "        self.W3 = self.W3 - self.learning_rate * np.dot(self.A2.T, loss_3)   \n",
    "        \n",
    "        self.b3 = self.b3 - self.learning_rate * loss_3           \n",
    "        \n",
    "        # 은닉층 가중치 W2, 은닉층 바이어스 b2 업데이트\n",
    "        self.W2 = self.W2 - self.learning_rate * np.dot(self.A1.T, loss_2)   \n",
    "        \n",
    "        self.b2 = self.b2 - self.learning_rate * loss_2\n",
    "        \n",
    "    def predict(self, input_data):        # input_data 는 행렬로 입력됨 즉, (1, 784) shape 을 가짐        \n",
    "        \n",
    "        Z2 = np.dot(input_data, self.W2) + self.b2\n",
    "        A2 = sigmoid(Z2)\n",
    "        \n",
    "        Z3 = np.dot(A2, self.W3) + self.b3\n",
    "        A3 = sigmoid(Z3)\n",
    "        \n",
    "        predicted_num = np.argmax(A3)\n",
    "    \n",
    "        return predicted_num"
   ]
  },
  {
   "cell_type": "code",
   "execution_count": 3,
   "metadata": {},
   "outputs": [
    {
     "name": "stdout",
     "output_type": "stream",
     "text": [
      "training_data.shape =  (60000, 785)\n",
      "training_data[0,0] =  5.0 , len(training_data[0]) =  785\n"
     ]
    }
   ],
   "source": [
    "# 0~9 숫자 이미지가 784개의 숫자 (28X28) 로 구성되어 있는 training data 읽어옴\n",
    "training_data = np.loadtxt('./mnist_train.csv', delimiter=',', dtype=np.float32)\n",
    "\n",
    "print(\"training_data.shape = \", training_data.shape)\n",
    "print(\"training_data[0,0] = \", training_data[0,0], \", len(training_data[0]) = \", len(training_data[0]))"
   ]
  },
  {
   "cell_type": "code",
   "execution_count": 17,
   "metadata": {},
   "outputs": [
    {
     "name": "stdout",
     "output_type": "stream",
     "text": [
      "epochs =  0 , step =  0 , current loss_val =  5.901799993806896\n",
      "epochs =  0 , step =  2000 , current loss_val =  2.162323051486117\n",
      "epochs =  0 , step =  4000 , current loss_val =  1.1356314108759722\n",
      "epochs =  0 , step =  6000 , current loss_val =  0.6379185795253435\n",
      "epochs =  0 , step =  8000 , current loss_val =  0.6513580654453849\n",
      "epochs =  0 , step =  10000 , current loss_val =  0.6364112366588753\n",
      "epochs =  0 , step =  12000 , current loss_val =  0.8212194655923145\n",
      "epochs =  0 , step =  14000 , current loss_val =  0.6959085497741945\n",
      "epochs =  0 , step =  16000 , current loss_val =  0.6444892627480147\n",
      "epochs =  0 , step =  18000 , current loss_val =  1.0615794648566932\n",
      "epochs =  0 , step =  20000 , current loss_val =  0.6970929293322057\n",
      "epochs =  0 , step =  22000 , current loss_val =  0.9947284729685946\n",
      "epochs =  0 , step =  24000 , current loss_val =  0.7243508213202718\n",
      "epochs =  0 , step =  26000 , current loss_val =  0.6800355769398946\n",
      "epochs =  0 , step =  28000 , current loss_val =  0.716387628278942\n",
      "epochs =  0 , step =  30000 , current loss_val =  0.7253410509419915\n",
      "epochs =  0 , step =  32000 , current loss_val =  0.6627512642581856\n",
      "epochs =  0 , step =  34000 , current loss_val =  0.8818812813205047\n",
      "epochs =  0 , step =  36000 , current loss_val =  0.9197974121818613\n",
      "epochs =  0 , step =  38000 , current loss_val =  0.8103166049139799\n",
      "epochs =  0 , step =  40000 , current loss_val =  0.7316615494111094\n",
      "epochs =  0 , step =  42000 , current loss_val =  0.7025108853068127\n",
      "epochs =  0 , step =  44000 , current loss_val =  0.7762150786126749\n",
      "epochs =  0 , step =  46000 , current loss_val =  0.9137547649595601\n",
      "epochs =  0 , step =  48000 , current loss_val =  0.8703533504373433\n",
      "epochs =  0 , step =  50000 , current loss_val =  0.8466246000203494\n",
      "epochs =  0 , step =  52000 , current loss_val =  0.7574310868598927\n",
      "epochs =  0 , step =  54000 , current loss_val =  0.8813725898190379\n",
      "epochs =  0 , step =  56000 , current loss_val =  0.7654335812406496\n",
      "epochs =  0 , step =  58000 , current loss_val =  1.004441713857488\n",
      "\n",
      "elapsed time =  0:00:17.078944\n"
     ]
    }
   ],
   "source": [
    "# hyper-parameter\n",
    "i_nodes = training_data.shape[1] - 1    # input nodes 개수\n",
    "h1_nodes = 100     # hidden 1 nodes\n",
    "o_nodes = 10       # output nodes\n",
    "lr = 0.1           # learning rate\n",
    "epochs = 1         # epochs\n",
    "\n",
    "# 손실함수 값을 저장할 list 생성\n",
    "loss_val_list = []\n",
    "\n",
    "nn = NeuralNetwork(i_nodes, h1_nodes, o_nodes, lr)\n",
    "\n",
    "start_time = datetime.now()\n",
    "\n",
    "for i in range(epochs):\n",
    "    \n",
    "    for step in range(len(training_data)):  # train\n",
    "    \n",
    "        # input_data, target_data normalize        \n",
    "        target_data = np.zeros(o_nodes) + 0.01    \n",
    "        target_data[int(training_data[step, 0])] = 0.99\n",
    "    \n",
    "        input_data = ((training_data[step, 1:] / 255.0) * 0.99) + 0.01\n",
    "    \n",
    "        nn.train( np.array(input_data, ndmin=2), np.array(target_data, ndmin=2) )\n",
    "    \n",
    "        if step % 2000 == 0:\n",
    "            print(\"epochs = \", i, \", step = \", step,  \", current loss_val = \", nn.loss_val())\n",
    "        \n",
    "        # 손실함수 값 저장\n",
    "        loss_val_list.append(nn.loss_val())        \n",
    "        \n",
    "end_time = datetime.now() \n",
    "print(\"\\nelapsed time = \", end_time - start_time) "
   ]
  },
  {
   "cell_type": "code",
   "execution_count": 7,
   "metadata": {},
   "outputs": [
    {
     "name": "stdout",
     "output_type": "stream",
     "text": [
      "test_data.shape =  (10000, 785)\n",
      "test_data[0,0] =  7.0 , len(test_data[0]) =  785\n",
      "Current Accuracy =  0.932\n",
      "Current Accuracy =  0.932\n"
     ]
    }
   ],
   "source": [
    "# 0~9 숫자 이미지가 784개의 숫자 (28X28) 로 구성되어 있는 test data 읽어옴\n",
    "test_data = np.loadtxt('./mnist_test.csv', delimiter=',', dtype=np.float32)\n",
    "\n",
    "test_input_data = test_data[ : , 1: ]\n",
    "test_target_data = test_data[ : , 0 ]\n",
    "\n",
    "print(\"test_data.shape = \", test_data.shape)\n",
    "print(\"test_data[0,0] = \", test_data[0,0], \", len(test_data[0]) = \", len(test_data[0]))\n",
    "\n",
    "# measure accuracy\n",
    "(true_list_1, false_list_1, index_label_prediction_list_1) = nn.accuracy1(test_data)    \n",
    "(true_list_2, false_list_2, index_label_prediction_list_2) = nn.accuracy2(test_input_data, test_target_data)   "
   ]
  },
  {
   "cell_type": "code",
   "execution_count": 8,
   "metadata": {},
   "outputs": [
    {
     "name": "stdout",
     "output_type": "stream",
     "text": [
      "[8, 33, 111, 139, 149, 233, 241, 247, 257, 259, 290, 300, 313, 318, 320, 321, 325, 340, 352, 362, 381, 403, 444, 445, 448, 449, 468, 479, 511, 531, 543, 550, 551, 565, 571, 578, 582, 591, 605, 610, 624, 628, 629, 658, 659, 667, 684, 689, 691, 707, 717, 720, 740, 741, 760, 787, 791, 810, 839, 844, 846, 857, 881, 924, 930, 938, 939, 947, 950, 951, 956, 959, 965, 975, 1003, 1012, 1014, 1032, 1039, 1044, 1050, 1055, 1062, 1068, 1073, 1082, 1107, 1112, 1114, 1119, 1125, 1173, 1181, 1191, 1192, 1194, 1198, 1200, 1204, 1206, 1208, 1224, 1226, 1232, 1242, 1243, 1247, 1248, 1256, 1260, 1270, 1283, 1289, 1299, 1319, 1325, 1326, 1328, 1337, 1347, 1357, 1378, 1393, 1409, 1410, 1413, 1433, 1440, 1444, 1453, 1465, 1466, 1467, 1494, 1500, 1522, 1525, 1527, 1530, 1549, 1553, 1559, 1581, 1609, 1621, 1634, 1640, 1641, 1678, 1681, 1686, 1696, 1709, 1716, 1717, 1718, 1721, 1722, 1751, 1754, 1772, 1790, 1839, 1850, 1855, 1865, 1878, 1883, 1899, 1901, 1911, 1917, 1930, 1938, 1941, 1952, 1963, 1968, 1970, 1973, 1982, 1984, 2016, 2024, 2035, 2037, 2040, 2043, 2044, 2053, 2063, 2070, 2093, 2098, 2099, 2109, 2118, 2125, 2129, 2130, 2135, 2138, 2148, 2182, 2185, 2186, 2189, 2203, 2208, 2215, 2224, 2266, 2272, 2293, 2299, 2325, 2369, 2371, 2387, 2393, 2394, 2395, 2406, 2422, 2425, 2433, 2447, 2488, 2514, 2525, 2526, 2534, 2539, 2556, 2559, 2573, 2574, 2578, 2586, 2598, 2604, 2607, 2610, 2631, 2635, 2648, 2654, 2670, 2683, 2713, 2730, 2758, 2770, 2771, 2780, 2810, 2818, 2832, 2850, 2877, 2896, 2905, 2907, 2919, 2921, 2925, 2927, 2945, 2953, 2990, 2995, 3005, 3060, 3062, 3073, 3100, 3102, 3114, 3117, 3130, 3132, 3133, 3136, 3145, 3151, 3166, 3167, 3183, 3189, 3206, 3225, 3240, 3262, 3269, 3280, 3288, 3289, 3316, 3329, 3330, 3333, 3376, 3405, 3436, 3437, 3450, 3468, 3490, 3503, 3520, 3525, 3549, 3558, 3565, 3567, 3573, 3580, 3597, 3604, 3626, 3629, 3702, 3716, 3718, 3726, 3730, 3751, 3757, 3758, 3767, 3769, 3776, 3780, 3794, 3796, 3806, 3808, 3811, 3817, 3818, 3838, 3846, 3848, 3853, 3855, 3862, 3876, 3893, 3902, 3906, 3926, 3941, 3943, 3946, 3951, 3954, 3976, 4000, 4007, 4017, 4027, 4063, 4065, 4068, 4072, 4075, 4076, 4078, 4093, 4131, 4140, 4152, 4159, 4163, 4176, 4177, 4199, 4201, 4205, 4211, 4212, 4224, 4238, 4248, 4265, 4271, 4289, 4297, 4300, 4302, 4306, 4313, 4341, 4355, 4356, 4369, 4374, 4382, 4400, 4433, 4435, 4449, 4451, 4477, 4497, 4498, 4500, 4523, 4540, 4567, 4571, 4575, 4578, 4601, 4615, 4639, 4671, 4690, 4695, 4721, 4722, 4731, 4751, 4761, 4763, 4785, 4807, 4808, 4812, 4814, 4823, 4827, 4829, 4837, 4852, 4860, 4863, 4874, 4876, 4879, 4880, 4886, 4915, 4939, 4950, 4956, 4966, 4981, 4990, 4995, 5046, 5054, 5065, 5067, 5068, 5078, 5140, 5143, 5159, 5177, 5201, 5246, 5331, 5457, 5495, 5600, 5611, 5617, 5620, 5634, 5642, 5649, 5677, 5688, 5691, 5709, 5714, 5734, 5735, 5749, 5821, 5835, 5842, 5854, 5858, 5862, 5866, 5874, 5887, 5888, 5891, 5906, 5913, 5914, 5922, 5926, 5936, 5937, 5955, 5957, 5972, 5973, 5975, 5981, 5982, 5985, 5997, 6004, 6024, 6035, 6037, 6042, 6043, 6056, 6059, 6065, 6071, 6081, 6091, 6109, 6157, 6166, 6172, 6173, 6347, 6390, 6391, 6392, 6400, 6425, 6426, 6505, 6517, 6555, 6558, 6560, 6568, 6569, 6577, 6578, 6597, 6598, 6599, 6603, 6625, 6651, 6721, 6744, 6746, 6769, 6775, 6785, 6796, 6906, 6926, 6981, 7121, 7130, 7153, 7216, 7220, 7241, 7338, 7432, 7434, 7451, 7498, 7539, 7545, 7619, 7637, 7691, 7779, 7797, 7812, 7821, 7826, 7839, 7842, 7849, 7850, 7851, 7858, 7859, 7870, 7886, 7888, 7899, 7902, 7905, 7915, 7917, 7918, 7921, 7928, 7945, 7990, 8020, 8062, 8081, 8091, 8094, 8095, 8165, 8196, 8246, 8277, 8279, 8294, 8308, 8339, 8353, 8406, 8408, 8410, 8520, 8522, 8863, 9009, 9010, 9013, 9015, 9019, 9024, 9036, 9045, 9103, 9110, 9168, 9182, 9209, 9211, 9280, 9316, 9446, 9482, 9534, 9538, 9560, 9587, 9595, 9624, 9634, 9642, 9679, 9698, 9700, 9716, 9729, 9733, 9744, 9745, 9749, 9752, 9768, 9770, 9777, 9779, 9780, 9792, 9808, 9811, 9839, 9858, 9867, 9879, 9883, 9888, 9892, 9893, 9905, 9925, 9941, 9943, 9944, 9970, 9975, 9980, 9982, 9998]\n"
     ]
    }
   ],
   "source": [
    "print(false_list_2)"
   ]
  },
  {
   "cell_type": "code",
   "execution_count": 9,
   "metadata": {},
   "outputs": [
    {
     "name": "stdout",
     "output_type": "stream",
     "text": [
      "[[8, 5, 6], [33, 4, 6], [111, 7, 1], [139, 4, 9], [149, 2, 9], [233, 8, 7], [241, 9, 3], [247, 4, 2], [257, 8, 1], [259, 6, 0], [290, 8, 4], [300, 4, 1], [313, 3, 5], [318, 2, 3], [320, 9, 1], [321, 2, 7], [325, 4, 9], [340, 5, 3], [352, 5, 0], [362, 2, 7], [381, 3, 7], [403, 8, 9], [444, 2, 8], [445, 6, 0], [448, 9, 8], [449, 3, 5], [468, 7, 9], [479, 9, 3], [511, 4, 1], [531, 3, 6], [543, 8, 3], [550, 7, 9], [551, 7, 1], [565, 4, 9], [571, 4, 9], [578, 3, 8], [582, 8, 3], [591, 8, 3], [605, 7, 9], [610, 4, 6], [624, 2, 1], [628, 3, 9], [629, 2, 6], [658, 7, 4], [659, 2, 9], [667, 7, 1], [684, 7, 2], [689, 7, 9], [691, 8, 4], [707, 4, 9], [717, 0, 6], [720, 5, 8], [740, 4, 9], [741, 2, 8], [760, 4, 9], [787, 8, 3], [791, 5, 9], [810, 7, 2], [839, 8, 3], [844, 8, 7], [846, 7, 9], [857, 5, 3], [881, 4, 9], [924, 2, 7], [930, 7, 1], [938, 3, 5], [939, 2, 0], [947, 8, 9], [950, 7, 2], [951, 5, 4], [956, 1, 6], [959, 4, 9], [965, 6, 0], [975, 2, 3], [1003, 5, 3], [1012, 7, 9], [1014, 6, 5], [1032, 5, 8], [1039, 7, 9], [1044, 6, 8], [1050, 2, 6], [1055, 7, 9], [1062, 3, 9], [1068, 8, 4], [1073, 5, 8], [1082, 5, 3], [1107, 9, 3], [1112, 4, 6], [1114, 3, 8], [1119, 7, 2], [1125, 8, 9], [1173, 7, 9], [1181, 6, 1], [1191, 0, 6], [1192, 9, 4], [1194, 7, 9], [1198, 8, 4], [1200, 8, 3], [1204, 3, 9], [1206, 7, 2], [1208, 3, 9], [1224, 2, 6], [1226, 7, 2], [1232, 9, 4], [1242, 4, 9], [1243, 5, 6], [1247, 9, 0], [1248, 8, 5], [1256, 2, 0], [1260, 7, 1], [1270, 4, 9], [1283, 7, 2], [1289, 5, 9], [1299, 5, 7], [1319, 8, 3], [1325, 8, 6], [1326, 7, 2], [1328, 7, 9], [1337, 2, 6], [1347, 7, 9], [1357, 4, 9], [1378, 5, 6], [1393, 5, 3], [1409, 2, 1], [1410, 2, 6], [1413, 4, 9], [1433, 8, 1], [1440, 4, 9], [1444, 6, 7], [1453, 4, 9], [1465, 4, 1], [1466, 5, 3], [1467, 5, 9], [1494, 7, 9], [1500, 7, 1], [1522, 7, 9], [1525, 5, 0], [1527, 1, 6], [1530, 8, 7], [1549, 4, 6], [1553, 9, 8], [1559, 9, 3], [1581, 7, 9], [1609, 2, 6], [1621, 0, 6], [1634, 4, 7], [1640, 9, 4], [1641, 5, 2], [1678, 2, 0], [1681, 3, 7], [1686, 8, 5], [1696, 2, 9], [1709, 9, 5], [1716, 7, 1], [1717, 8, 0], [1718, 7, 9], [1721, 7, 9], [1722, 2, 4], [1751, 4, 3], [1754, 7, 2], [1772, 7, 4], [1790, 2, 9], [1839, 2, 3], [1850, 8, 7], [1855, 8, 3], [1865, 4, 9], [1878, 8, 3], [1883, 7, 9], [1899, 8, 3], [1901, 9, 4], [1911, 5, 0], [1917, 5, 8], [1930, 2, 4], [1938, 4, 6], [1941, 7, 2], [1952, 9, 5], [1963, 4, 9], [1968, 8, 1], [1970, 5, 3], [1973, 8, 5], [1982, 6, 5], [1984, 2, 0], [2016, 7, 2], [2024, 7, 9], [2035, 5, 3], [2037, 5, 3], [2040, 5, 4], [2043, 4, 8], [2044, 2, 7], [2053, 4, 9], [2063, 7, 1], [2070, 7, 9], [2093, 8, 1], [2098, 2, 0], [2099, 8, 9], [2109, 3, 7], [2118, 6, 0], [2125, 5, 9], [2129, 9, 8], [2130, 4, 9], [2135, 6, 1], [2138, 2, 3], [2148, 4, 9], [2182, 1, 3], [2185, 0, 5], [2186, 2, 3], [2189, 9, 1], [2203, 8, 3], [2208, 8, 3], [2215, 6, 5], [2224, 5, 6], [2266, 1, 6], [2272, 8, 0], [2293, 9, 6], [2299, 2, 7], [2325, 7, 2], [2369, 5, 9], [2371, 4, 9], [2387, 9, 1], [2393, 8, 3], [2394, 4, 9], [2395, 8, 3], [2406, 9, 1], [2422, 6, 4], [2425, 8, 3], [2433, 2, 1], [2447, 4, 9], [2488, 2, 6], [2514, 4, 9], [2525, 5, 3], [2526, 5, 3], [2534, 3, 5], [2539, 7, 9], [2556, 5, 8], [2559, 5, 3], [2573, 5, 8], [2574, 5, 7], [2578, 7, 1], [2586, 5, 3], [2598, 8, 2], [2604, 5, 3], [2607, 7, 1], [2610, 2, 8], [2631, 0, 6], [2635, 2, 7], [2648, 9, 0], [2654, 6, 1], [2670, 5, 8], [2683, 4, 9], [2713, 0, 8], [2730, 7, 4], [2758, 8, 3], [2770, 3, 6], [2771, 4, 9], [2780, 2, 3], [2810, 5, 3], [2818, 4, 9], [2832, 5, 3], [2850, 5, 3], [2877, 4, 9], [2896, 8, 0], [2905, 8, 3], [2907, 4, 9], [2919, 5, 9], [2921, 3, 2], [2925, 5, 0], [2927, 3, 2], [2945, 3, 9], [2953, 3, 5], [2990, 8, 9], [2995, 6, 5], [3005, 9, 1], [3060, 9, 7], [3062, 8, 3], [3073, 1, 3], [3100, 5, 3], [3102, 5, 3], [3114, 4, 6], [3117, 5, 9], [3130, 6, 0], [3132, 1, 2], [3133, 4, 9], [3136, 7, 9], [3145, 5, 9], [3151, 2, 1], [3166, 7, 9], [3167, 3, 1], [3183, 5, 9], [3189, 7, 4], [3206, 8, 3], [3225, 7, 1], [3240, 9, 3], [3262, 7, 1], [3269, 6, 0], [3280, 2, 8], [3288, 4, 9], [3289, 8, 9], [3316, 7, 4], [3329, 7, 3], [3330, 2, 3], [3333, 7, 9], [3376, 7, 9], [3405, 4, 9], [3436, 2, 1], [3437, 4, 9], [3450, 0, 8], [3468, 5, 4], [3490, 4, 9], [3503, 9, 1], [3520, 6, 4], [3525, 7, 2], [3549, 3, 2], [3558, 5, 0], [3565, 5, 3], [3567, 8, 5], [3573, 7, 4], [3580, 7, 1], [3597, 9, 3], [3604, 7, 0], [3626, 8, 3], [3629, 8, 3], [3702, 5, 3], [3716, 9, 3], [3718, 4, 9], [3726, 4, 9], [3730, 7, 9], [3751, 7, 1], [3757, 8, 1], [3758, 4, 9], [3767, 7, 2], [3769, 3, 9], [3776, 5, 8], [3780, 4, 6], [3794, 8, 3], [3796, 2, 1], [3806, 5, 8], [3808, 7, 3], [3811, 2, 4], [3817, 2, 8], [3818, 0, 6], [3838, 7, 1], [3846, 6, 2], [3848, 7, 3], [3853, 6, 5], [3855, 5, 0], [3862, 2, 3], [3876, 2, 3], [3893, 5, 6], [3902, 5, 3], [3906, 1, 3], [3926, 9, 3], [3941, 4, 6], [3943, 3, 5], [3946, 2, 1], [3951, 8, 5], [3954, 8, 9], [3976, 7, 1], [4000, 9, 4], [4007, 7, 9], [4017, 4, 9], [4027, 7, 9], [4063, 6, 5], [4065, 0, 6], [4068, 8, 3], [4072, 5, 3], [4075, 8, 0], [4076, 5, 9], [4078, 9, 3], [4093, 9, 4], [4131, 5, 1], [4140, 8, 2], [4152, 5, 1], [4159, 8, 3], [4163, 9, 0], [4176, 2, 6], [4177, 5, 4], [4199, 7, 9], [4201, 1, 7], [4205, 2, 3], [4211, 6, 5], [4212, 1, 3], [4224, 9, 7], [4238, 7, 9], [4248, 2, 4], [4265, 4, 9], [4271, 5, 3], [4289, 2, 7], [4297, 7, 3], [4300, 5, 9], [4302, 5, 1], [4306, 3, 7], [4313, 4, 9], [4341, 2, 3], [4355, 5, 9], [4356, 5, 8], [4369, 9, 4], [4374, 5, 6], [4382, 4, 9], [4400, 7, 9], [4433, 7, 3], [4435, 3, 7], [4449, 6, 0], [4451, 2, 8], [4477, 0, 6], [4497, 8, 7], [4498, 7, 8], [4500, 9, 1], [4523, 8, 3], [4540, 7, 3], [4567, 4, 9], [4571, 6, 2], [4575, 4, 2], [4578, 7, 9], [4601, 8, 4], [4615, 2, 4], [4639, 8, 9], [4671, 8, 3], [4690, 7, 2], [4695, 4, 9], [4721, 4, 9], [4722, 5, 7], [4731, 8, 7], [4751, 4, 6], [4761, 9, 1], [4763, 5, 6], [4785, 3, 8], [4807, 8, 3], [4808, 3, 5], [4812, 2, 1], [4814, 6, 0], [4823, 9, 4], [4827, 4, 9], [4829, 8, 3], [4837, 7, 1], [4852, 8, 6], [4860, 4, 9], [4863, 8, 9], [4874, 9, 0], [4876, 2, 4], [4879, 8, 6], [4880, 0, 8], [4886, 7, 1], [4915, 5, 8], [4939, 2, 3], [4950, 2, 3], [4956, 8, 4], [4966, 7, 1], [4981, 2, 3], [4990, 3, 1], [4995, 2, 3], [5046, 3, 2], [5054, 3, 8], [5065, 8, 1], [5067, 3, 2], [5068, 4, 1], [5078, 3, 2], [5140, 3, 2], [5143, 3, 6], [5159, 4, 9], [5177, 7, 9], [5201, 4, 9], [5246, 7, 2], [5331, 1, 6], [5457, 1, 8], [5495, 8, 3], [5600, 7, 9], [5611, 8, 1], [5617, 4, 9], [5620, 7, 9], [5634, 2, 3], [5642, 1, 5], [5649, 7, 9], [5677, 4, 6], [5688, 7, 9], [5691, 4, 1], [5709, 7, 9], [5714, 7, 9], [5734, 3, 9], [5735, 5, 6], [5749, 8, 6], [5821, 5, 3], [5835, 7, 9], [5842, 4, 7], [5854, 7, 9], [5858, 7, 9], [5862, 5, 3], [5866, 7, 9], [5874, 5, 3], [5887, 7, 0], [5888, 4, 0], [5891, 5, 6], [5906, 7, 9], [5913, 5, 3], [5914, 7, 9], [5922, 5, 3], [5926, 4, 9], [5936, 4, 9], [5937, 5, 3], [5955, 3, 8], [5957, 5, 3], [5972, 5, 3], [5973, 3, 8], [5975, 4, 9], [5981, 5, 3], [5982, 5, 3], [5985, 5, 3], [5997, 5, 3], [6004, 8, 9], [6024, 8, 3], [6035, 2, 0], [6037, 4, 9], [6042, 5, 3], [6043, 5, 3], [6056, 8, 3], [6059, 3, 9], [6065, 3, 8], [6071, 9, 3], [6081, 9, 8], [6091, 9, 8], [6109, 2, 8], [6157, 9, 0], [6166, 9, 3], [6172, 9, 0], [6173, 9, 0], [6347, 8, 6], [6390, 5, 8], [6391, 2, 6], [6392, 5, 2], [6400, 0, 6], [6425, 6, 2], [6426, 0, 6], [6505, 9, 0], [6517, 3, 0], [6555, 8, 9], [6558, 6, 2], [6560, 9, 3], [6568, 9, 4], [6569, 3, 9], [6577, 7, 1], [6578, 8, 1], [6597, 0, 7], [6598, 5, 3], [6599, 7, 1], [6603, 8, 7], [6625, 8, 7], [6651, 0, 5], [6721, 2, 4], [6744, 2, 8], [6746, 5, 4], [6769, 4, 9], [6775, 5, 1], [6785, 2, 4], [6796, 2, 7], [6906, 2, 6], [6926, 6, 4], [6981, 5, 6], [7121, 8, 9], [7130, 3, 9], [7153, 4, 9], [7216, 0, 6], [7220, 8, 3], [7241, 5, 1], [7338, 4, 9], [7432, 7, 1], [7434, 4, 8], [7451, 5, 6], [7498, 5, 3], [7539, 2, 8], [7545, 8, 9], [7619, 2, 3], [7637, 2, 3], [7691, 8, 3], [7779, 5, 2], [7797, 5, 6], [7812, 1, 8], [7821, 3, 2], [7826, 5, 8], [7839, 1, 8], [7842, 5, 8], [7849, 3, 9], [7850, 5, 8], [7851, 6, 0], [7858, 3, 2], [7859, 5, 6], [7870, 5, 4], [7886, 2, 4], [7888, 5, 4], [7899, 1, 8], [7902, 7, 8], [7905, 3, 2], [7915, 7, 8], [7917, 2, 4], [7918, 5, 6], [7921, 8, 1], [7928, 1, 8], [7945, 2, 6], [7990, 1, 8], [8020, 1, 8], [8062, 5, 8], [8081, 4, 6], [8091, 2, 8], [8094, 2, 8], [8095, 4, 8], [8165, 2, 4], [8196, 6, 0], [8246, 3, 9], [8277, 3, 5], [8279, 8, 6], [8294, 8, 5], [8308, 3, 5], [8339, 8, 6], [8353, 2, 4], [8406, 4, 9], [8408, 8, 6], [8410, 8, 6], [8520, 4, 9], [8522, 8, 6], [8863, 5, 6], [9009, 7, 2], [9010, 2, 8], [9013, 5, 6], [9015, 7, 2], [9019, 7, 2], [9024, 7, 2], [9036, 7, 2], [9045, 7, 2], [9103, 4, 8], [9110, 8, 3], [9168, 2, 3], [9182, 3, 9], [9209, 2, 8], [9211, 4, 9], [9280, 8, 5], [9316, 8, 9], [9446, 2, 4], [9482, 5, 3], [9534, 7, 9], [9538, 4, 9], [9560, 7, 3], [9587, 9, 4], [9595, 2, 8], [9624, 3, 8], [9634, 0, 3], [9642, 9, 7], [9679, 6, 5], [9698, 6, 5], [9700, 2, 6], [9716, 2, 0], [9729, 5, 6], [9733, 9, 8], [9744, 8, 1], [9745, 4, 2], [9749, 5, 6], [9752, 2, 0], [9768, 2, 0], [9770, 5, 0], [9777, 5, 0], [9779, 2, 0], [9780, 8, 1], [9792, 4, 9], [9808, 9, 4], [9811, 2, 8], [9839, 2, 7], [9858, 6, 3], [9867, 2, 8], [9879, 0, 2], [9883, 5, 1], [9888, 6, 8], [9892, 8, 6], [9893, 2, 8], [9905, 3, 9], [9925, 3, 8], [9941, 5, 6], [9943, 3, 5], [9944, 3, 9], [9970, 5, 3], [9975, 3, 2], [9980, 2, 3], [9982, 5, 2], [9998, 5, 8]]\n"
     ]
    }
   ],
   "source": [
    "print(index_label_prediction_list_2)"
   ]
  },
  {
   "cell_type": "code",
   "execution_count": 10,
   "metadata": {},
   "outputs": [
    {
     "data": {
      "image/png": "[encoded data removed]",
      "text/plain": [
       "<Figure size 432x288 with 1 Axes>"
      ]
     },
     "metadata": {
      "needs_background": "light"
     },
     "output_type": "display_data"
    }
   ],
   "source": [
    "# check false data\n",
    "import matplotlib.pyplot as plt\n",
    "%matplotlib inline\n",
    "\n",
    "img = test_data[1901, 1:].reshape(28,28)\n",
    "\n",
    "plt.imshow(img, cmap='gray')\n",
    "plt.show()"
   ]
  },
  {
   "cell_type": "code",
   "execution_count": 11,
   "metadata": {},
   "outputs": [
    {
     "data": {
      "image/png": "[encoded data removed]",
      "text/plain": [
       "<Figure size 432x288 with 1 Axes>"
      ]
     },
     "metadata": {
      "needs_background": "light"
     },
     "output_type": "display_data"
    }
   ],
   "source": [
    "img = test_data[9982, 1:].reshape(28,28)\n",
    "\n",
    "plt.imshow(img, cmap='gray')\n",
    "plt.show()"
   ]
  },
  {
   "cell_type": "code",
   "execution_count": 12,
   "metadata": {},
   "outputs": [
    {
     "data": {
      "image/png": "[encoded data removed]",
      "text/plain": [
       "<Figure size 432x288 with 1 Axes>"
      ]
     },
     "metadata": {
      "needs_background": "light"
     },
     "output_type": "display_data"
    }
   ],
   "source": [
    "img = test_data[717, 1:].reshape(28,28)\n",
    "\n",
    "plt.imshow(img, cmap='gray')\n",
    "plt.show()"
   ]
  },
  {
   "cell_type": "code",
   "execution_count": 13,
   "metadata": {},
   "outputs": [
    {
     "data": {
      "image/png": "[encoded data removed]",
      "text/plain": [
       "<Figure size 432x288 with 1 Axes>"
      ]
     },
     "metadata": {
      "needs_background": "light"
     },
     "output_type": "display_data"
    }
   ],
   "source": [
    "# 손실함수 추세 확인\n",
    "Y_DATA_LIST = []\n",
    "\n",
    "for index in range(0, len(loss_val_list), 500):\n",
    "    Y_DATA_LIST.append(loss_val_list[index])\n",
    "    \n",
    "plt.title('MNIST Loss Value Trend')\n",
    "plt.xlabel('data index ( X 500)')\n",
    "plt.ylabel('loss value')\n",
    "plt.grid()\n",
    "plt.plot(Y_DATA_LIST, color='b')\n",
    "plt.show()"
   ]
  },
  {
   "cell_type": "code",
   "execution_count": 14,
   "metadata": {},
   "outputs": [
    {
     "name": "stdout",
     "output_type": "stream",
     "text": [
      "max_loss =  16.1632621721991 , max_loss_index =  24798 , min_loss =  0.5795107720860361 , min_loss_index =  6529\n"
     ]
    }
   ],
   "source": [
    "max_loss = np.max(loss_val_list)\n",
    "min_loss = np.min(loss_val_list)\n",
    "max_loss_index = np.argmax(loss_val_list)\n",
    "min_loss_index = np.argmin(loss_val_list)\n",
    "\n",
    "print(\"max_loss = \", max_loss, \", max_loss_index = \", max_loss_index, \", min_loss = \", min_loss, \", min_loss_index = \", min_loss_index)"
   ]
  },
  {
   "cell_type": "code",
   "execution_count": 15,
   "metadata": {},
   "outputs": [
    {
     "data": {
      "image/png": "[encoded data removed]",
      "text/plain": [
       "<Figure size 432x288 with 1 Axes>"
      ]
     },
     "metadata": {
      "needs_background": "light"
     },
     "output_type": "display_data"
    },
    {
     "name": "stdout",
     "output_type": "stream",
     "text": [
      "label =  4.0\n"
     ]
    }
   ],
   "source": [
    "# check max loss data\n",
    "import matplotlib.pyplot as plt\n",
    "%matplotlib inline\n",
    "\n",
    "img = training_data[max_loss_index, 1:].reshape(28,28)\n",
    "\n",
    "plt.imshow(img, cmap='gray')\n",
    "plt.show()\n",
    "\n",
    "print(\"label = \", training_data[max_loss_index, 0])"
   ]
  },
  {
   "cell_type": "code",
   "execution_count": 16,
   "metadata": {},
   "outputs": [
    {
     "data": {
      "image/png": "[encoded data removed]",
      "text/plain": [
       "<Figure size 432x288 with 1 Axes>"
      ]
     },
     "metadata": {
      "needs_background": "light"
     },
     "output_type": "display_data"
    },
    {
     "name": "stdout",
     "output_type": "stream",
     "text": [
      "label =  5.0\n"
     ]
    }
   ],
   "source": [
    "# check min loss data\n",
    "import matplotlib.pyplot as plt\n",
    "%matplotlib inline\n",
    "\n",
    "img = training_data[min_loss_index, 1:].reshape(28,28)\n",
    "\n",
    "plt.imshow(img, cmap='gray')\n",
    "plt.show()\n",
    "\n",
    "print(\"label = \", training_data[min_loss_index, 0])"
   ]
  },
  {
   "cell_type": "code",
   "execution_count": null,
   "metadata": {
    "collapsed": true
   },
   "outputs": [],
   "source": []
  }
 ],
 "metadata": {
  "anaconda-cloud": {},
  "kernelspec": {
   "display_name": "Python 3",
   "language": "python",
   "name": "python3"
  },
  "language_info": {
   "codemirror_mode": {
    "name": "ipython",
    "version": 3
   },
   "file_extension": ".py",
   "mimetype": "text/x-python",
   "name": "python",
   "nbconvert_exporter": "python",
   "pygments_lexer": "ipython3",
   "version": "3.6.8"
  }
 },
 "nbformat": 4,
 "nbformat_minor": 1
}
