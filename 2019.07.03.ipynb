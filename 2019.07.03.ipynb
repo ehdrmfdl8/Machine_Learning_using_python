{
 "cells": [
  {
   "cell_type": "code",
   "execution_count": 14,
   "metadata": {},
   "outputs": [
    {
     "name": "stdout",
     "output_type": "stream",
     "text": [
      "list index out of range\n",
      "0\n"
     ]
    }
   ],
   "source": [
    "def calc(list_data):\n",
    "    \n",
    "    sum = 0\n",
    "    \n",
    "    try:\n",
    "        sum = list_data[0] + list_data[1] + list_data[2]\n",
    "        \n",
    "        if sum < 0:\n",
    "            raise Exception(\"sum is minus\")\n",
    "    except IndexError as err:\n",
    "        print(str(err))\n",
    "    except Exception as err:\n",
    "        print(str(err))\n",
    "    finally:\n",
    "        print(sum)\n",
    "calc([1,2])"
   ]
  },
  {
   "cell_type": "markdown",
   "metadata": {},
   "source": [
    "#with 구문\n",
    "일반적으로 파일(file) 또는 세션(session) 을 사용하는 순서는 다음과 같음\n",
    "open() => read() 또는 write() => close()\n"
   ]
  },
  {
   "cell_type": "code",
   "execution_count": 15,
   "metadata": {},
   "outputs": [],
   "source": [
    "f = open(\"./file_test.txt\", 'w')\n",
    "f.write(\"Hello, python !!!\")\n",
    "f.close()"
   ]
  },
  {
   "cell_type": "code",
   "execution_count": 16,
   "metadata": {},
   "outputs": [],
   "source": [
    "with open(\"./file_test.txt\", 'w') as f:\n",
    "    f.write(\"hello,python !!!!\")"
   ]
  },
  {
   "cell_type": "code",
   "execution_count": 24,
   "metadata": {},
   "outputs": [
    {
     "name": "stdout",
     "output_type": "stream",
     "text": [
      "(10, 10)\n",
      "(15, 20)\n",
      "(17, 25)\n"
     ]
    }
   ],
   "source": [
    "class point:\n",
    "    def __init__(self,X,Y):\n",
    "        self.X = X\n",
    "        self.Y = Y\n",
    "    def setx(self,X):\n",
    "        self.X = X\n",
    "    def sety(self,Y):\n",
    "        self.Y = Y\n",
    "    def get(self):\n",
    "        return self.X, self.Y\n",
    "    def move(self,dx,dy):\n",
    "        self.X = self.X + dx\n",
    "        self.Y = self.Y + dy\n",
    "obj = point(10,10)\n",
    "print(obj.get())\n",
    "obj.setx(15)\n",
    "obj.sety(20)\n",
    "print(obj.get())\n",
    "obj.move(2,5)\n",
    "print(obj.get())\n",
    "    \n"
   ]
  },
  {
   "cell_type": "code",
   "execution_count": 53,
   "metadata": {},
   "outputs": [
    {
     "name": "stdout",
     "output_type": "stream",
     "text": [
      "20\n",
      "20\n",
      "0\n",
      "\n"
     ]
    }
   ],
   "source": [
    "class MyCalc:\n",
    "    def __init__(self,A,B):\n",
    "        self.A = A\n",
    "        self.B = B\n",
    "        result = 0\n",
    "    def sum(self):\n",
    "        result = self.A + self.B\n",
    "        return result\n",
    "    def subtract(self):\n",
    "        result = self.A - self.B\n",
    "        return result\n",
    "    def multiply(self):\n",
    "        result = self.A * self.B\n",
    "        return result\n",
    "    def divide(self):\n",
    "        if self.B == 0:\n",
    "            raise Exception\n",
    "        else:\n",
    "            result = self.A / self.B\n",
    "            return result\n",
    "obj2 = MyCalc(20,0)\n",
    "\n",
    "print(obj2.sum())\n",
    "print(obj2.subtract())\n",
    "print(obj2.multiply())\n",
    "try:\n",
    "    print(obj2.divide())\n",
    "except Exception as err:\n",
    "    print(str(err))"
   ]
  },
  {
   "cell_type": "code",
   "execution_count": 65,
   "metadata": {},
   "outputs": [
    {
     "name": "stdout",
     "output_type": "stream",
     "text": [
      "A+B =\n",
      " [[2 1]\n",
      " [1 2]]\n",
      "C=\n",
      " [[1 2 3]\n",
      " [0 1 2]\n",
      " [0 0 1]]\n",
      "(3, 3)\n"
     ]
    }
   ],
   "source": [
    "import numpy as np\n",
    "A = np.array([[1,0],[0,1]])\n",
    "B = np.array([[1,1],[1,1]])\n",
    "C = np.array([[1,2,3],[0,1,2],[0,0,1]])\n",
    "print(\"A+B =\\n\",A+B)\n",
    "print(\"C=\\n\",C)\n",
    "print(C.shape)"
   ]
  },
  {
   "cell_type": "code",
   "execution_count": 67,
   "metadata": {},
   "outputs": [
    {
     "name": "stdout",
     "output_type": "stream",
     "text": [
      "A == [1 2 3] , B ==  [4 5 6]\n",
      "A.shape == (3,) ,B.shape == (3,)\n",
      "A.ndim == 1 B.ndim == 1\n"
     ]
    }
   ],
   "source": [
    "A = np.array([1,2,3])\n",
    "B = np.array([4,5,6])\n",
    "print(\"A ==\", A, \", B == \",B)\n",
    "print(\"A.shape ==\",A.shape,\",B.shape ==\", B.shape)\n",
    "print(\"A.ndim ==\", A.ndim, \"B.ndim ==\", B.ndim)"
   ]
  },
  {
   "cell_type": "code",
   "execution_count": 69,
   "metadata": {},
   "outputs": [
    {
     "name": "stdout",
     "output_type": "stream",
     "text": [
      "A + B == [5 7 9]\n",
      "A - B == [-3 -3 -3]\n",
      "A * B == [ 4 10 18]\n",
      "A / B == [0.25 0.4  0.5 ]\n"
     ]
    }
   ],
   "source": [
    "print(\"A + B ==\", A+B)\n",
    "print(\"A - B ==\", A-B)\n",
    "print(\"A * B ==\", A*B)\n",
    "print(\"A / B ==\", A/B)"
   ]
  },
  {
   "cell_type": "code",
   "execution_count": 71,
   "metadata": {},
   "outputs": [
    {
     "name": "stdout",
     "output_type": "stream",
     "text": [
      "A.shape == (2, 3) B.shape == (2, 3)\n",
      "A.ndim == 2 B.ndim == 2\n",
      "(3, 2)\n"
     ]
    }
   ],
   "source": [
    "A = np.array([[1,2,3],[4,5,6]])\n",
    "B = np.array([[-1,-2,-3],[-4,-5,-6]])\n",
    "print(\"A.shape ==\",A.shape, \"B.shape ==\",B.shape)\n",
    "print(\"A.ndim ==\",A.ndim,\"B.ndim ==\",B.ndim)\n",
    "A = A.reshape(3,2)\n",
    "print(A.shape)"
   ]
  },
  {
   "cell_type": "code",
   "execution_count": 72,
   "metadata": {},
   "outputs": [
    {
     "name": "stdout",
     "output_type": "stream",
     "text": [
      "[[-22 -28]\n",
      " [-49 -64]]\n"
     ]
    }
   ],
   "source": [
    "A = np.array([[1,2,3],[4,5,6]]) #2*3 행렬\n",
    "B = np.array([[-1,-2],[-3,-4],[-5,-6]]) #3*2 행렬\n",
    "#(2*3)dot product(3*2) == (2*2) 행렬\n",
    "C = np.dot(A,B) # 행렬곱 수행\n",
    "print(C)"
   ]
  },
  {
   "cell_type": "code",
   "execution_count": 73,
   "metadata": {},
   "outputs": [
    {
     "name": "stdout",
     "output_type": "stream",
     "text": [
      "[[6 7]\n",
      " [8 9]]\n"
     ]
    }
   ],
   "source": [
    "A = np.array([[1,2],[3,4]])\n",
    "B = 5\n",
    "print(A+B)"
   ]
  },
  {
   "cell_type": "code",
   "execution_count": 74,
   "metadata": {},
   "outputs": [
    {
     "name": "stdout",
     "output_type": "stream",
     "text": [
      "A.shape == (3, 2) ,B.shape == (2, 3)\n",
      "[[1 2]\n",
      " [3 4]\n",
      " [5 6]]\n",
      "[[1 3 5]\n",
      " [2 4 6]]\n"
     ]
    }
   ],
   "source": [
    "A = np.array([[1,2],[3,4],[5,6]]) #3X2 행렬\n",
    "B = A.T #A의 전치행렬, 2X3 행렬\n",
    "print(\"A.shape ==\",A.shape,\",B.shape ==\",B.shape)\n",
    "print(A)\n",
    "print(B)"
   ]
  },
  {
   "cell_type": "code",
   "execution_count": 75,
   "metadata": {},
   "outputs": [
    {
     "name": "stdout",
     "output_type": "stream",
     "text": [
      "[[1]\n",
      " [2]\n",
      " [3]\n",
      " [4]\n",
      " [5]]\n"
     ]
    }
   ],
   "source": [
    "C= np.array([1,2,3,4,5])\n",
    "D= C.T\n",
    "E = C.reshape(1,5)\n",
    "F = E.T\n",
    "print(F)"
   ]
  },
  {
   "cell_type": "code",
   "execution_count": null,
   "metadata": {},
   "outputs": [],
   "source": []
  }
 ],
 "metadata": {
  "kernelspec": {
   "display_name": "Python 3",
   "language": "python",
   "name": "python3"
  },
  "language_info": {
   "codemirror_mode": {
    "name": "ipython",
    "version": 3
   },
   "file_extension": ".py",
   "mimetype": "text/x-python",
   "name": "python",
   "nbconvert_exporter": "python",
   "pygments_lexer": "ipython3",
   "version": "3.6.5"
  }
 },
 "nbformat": 4,
 "nbformat_minor": 2
}
