{
 "cells": [
  {
   "cell_type": "markdown",
   "metadata": {},
   "source": [
    "Supervised Learing - Example"
   ]
  },
  {
   "cell_type": "code",
   "execution_count": 12,
   "metadata": {},
   "outputs": [
    {
     "name": "stdout",
     "output_type": "stream",
     "text": [
      "W = [[0.25692863]] , W.shape = (1, 1) ,b=  [0.97775563] ,b.shape = (1,)\n",
      "initial error value = 45.15732866160994 Initial W =  [[0.25692863]] \n",
      " , b =  [0.97775563]\n",
      "step = 0 error value =  26.59070611741712 W =  [[0.70173899]] , b =  [1.07609618]\n",
      "step = 400 error value =  0.004279339483062412 W =  [[2.04248006]] , b =  [1.84667105]\n",
      "step = 800 error value =  0.0002730471583578563 W =  [[2.01073039]] , b =  [1.96126936]\n",
      "step = 1200 error value =  1.7422022950601252e-05 W =  [[2.00271048]] , b =  [1.99021671]\n",
      "step = 1600 error value =  1.1116280627747055e-06 W =  [[2.00068466]] , b =  [1.99752876]\n",
      "step = 2000 error value =  7.092844231963969e-08 W =  [[2.00017294]] , b =  [1.99937577]\n",
      "step = 2400 error value =  4.525653947047971e-09 W =  [[2.00004369]] , b =  [1.99984232]\n",
      "step = 2800 error value =  2.8876347734658677e-10 W =  [[2.00001103]] , b =  [1.99996017]\n",
      "step = 3200 error value =  1.8424817015618254e-11 W =  [[2.00000279]] , b =  [1.99998994]\n",
      "step = 3600 error value =  1.175612249506628e-12 W =  [[2.0000007]] , b =  [1.99999746]\n",
      "step = 4000 error value =  7.501101101779624e-14 W =  [[2.00000018]] , b =  [1.99999936]\n",
      "step = 4400 error value =  4.786145913439464e-15 W =  [[2.00000004]] , b =  [1.99999984]\n",
      "step = 4800 error value =  3.0538440322136063e-16 W =  [[2.00000001]] , b =  [1.99999996]\n",
      "step = 5200 error value =  1.9485316646985437e-17 W =  [[2.]] , b =  [1.99999999]\n",
      "step = 5600 error value =  1.2432771996063408e-18 W =  [[2.]] , b =  [2.]\n",
      "step = 6000 error value =  7.932773626525722e-20 W =  [[2.]] , b =  [2.]\n",
      "step = 6400 error value =  5.0615831922809e-21 W =  [[2.]] , b =  [2.]\n",
      "step = 6800 error value =  3.2296862820582347e-22 W =  [[2.]] , b =  [2.]\n",
      "step = 7200 error value =  2.0608374732987595e-23 W =  [[2.]] , b =  [2.]\n",
      "step = 7600 error value =  1.318226488986115e-24 W =  [[2.]] , b =  [2.]\n",
      "step = 8000 error value =  8.391760314778184e-26 W =  [[2.]] , b =  [2.]\n"
     ]
    },
    {
     "data": {
      "text/plain": [
       "array([88.])"
      ]
     },
     "execution_count": 12,
     "metadata": {},
     "output_type": "execute_result"
    }
   ],
   "source": [
    "import numpy as np\n",
    "\n",
    "def numerical_derivative(f,x):\n",
    "    delta_x = 1e-4\n",
    "    grad = np.zeros_like(x)\n",
    "    it = np.nditer(x,flags=['multi_index'],op_flags = ['readwrite'])\n",
    "   \n",
    "    while not it.finished:\n",
    "        idx = it.multi_index\n",
    "\n",
    "        tmp_val = x[idx] \n",
    "        x[idx] = float(tmp_val) + delta_x  \n",
    "        fx1 = f(x) #f(x+delta_x)\n",
    "        \n",
    "        x[idx] = tmp_val - delta_x\n",
    "        fx2 = f(x) #f(x-delta_x)\n",
    "        grad[idx] = (fx1 - fx2) / (2*delta_x)\n",
    "        x[idx] = tmp_val \n",
    "        it.iternext()\n",
    "        \n",
    "    return grad\n",
    "x_data = np.array([1,2,3,4,5]).reshape(5,1)\n",
    "t_data = np.array([4,6,8,10,12]).reshape(5,1)\n",
    "\n",
    "W = np.random.rand(1,1)\n",
    "b = np.random.rand(1)\n",
    "print(\"W =\", W,\", W.shape =\", W.shape, \",b= \", b,\",b.shape =\", b.shape)\n",
    "\n",
    "def loss_func(x, t):\n",
    "    y = np.dot(x,W) + b\n",
    "    \n",
    "    return(np.sum((t - y)**2)) / (len(x))\n",
    "\n",
    "def error_val(x,t):\n",
    "    y = np.dot(x,W) + b\n",
    "    \n",
    "    return (np.sum((t - y)**2))/(len(x))\n",
    "def predict(x):\n",
    "    y = np.dot(x,W) + b\n",
    "    return y\n",
    "\n",
    "learning_rate = 1e-2\n",
    "f = lambda x : loss_func(x_data,t_data)\n",
    "print(\"initial error value =\", error_val(x_data,t_data),\"Initial W = \", W, \"\\n\",\", b = \", b)\n",
    "for step in range(8001):\n",
    "    W -= learning_rate * numerical_derivative(f,W)\n",
    "    b -= learning_rate * numerical_derivative(f,b)\n",
    "    \n",
    "    if(step % 400 == 0):\n",
    "        print(\"step =\", step, \"error value = \", error_val(x_data,t_data), \"W = \", W,\", b = \",b)\n",
    "test_score = np.array([43])\n",
    "predict(test_score)"
   ]
  },
  {
   "cell_type": "code",
   "execution_count": null,
   "metadata": {},
   "outputs": [],
   "source": []
  }
 ],
 "metadata": {
  "kernelspec": {
   "display_name": "Python 3",
   "language": "python",
   "name": "python3"
  },
  "language_info": {
   "codemirror_mode": {
    "name": "ipython",
    "version": 3
   },
   "file_extension": ".py",
   "mimetype": "text/x-python",
   "name": "python",
   "nbconvert_exporter": "python",
   "pygments_lexer": "ipython3",
   "version": "3.6.5"
  }
 },
 "nbformat": 4,
 "nbformat_minor": 2
}
