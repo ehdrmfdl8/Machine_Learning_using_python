{
 "cells": [
  {
   "cell_type": "code",
   "execution_count": 1,
   "metadata": {},
   "outputs": [],
   "source": [
    "import numpy as np\n",
    "\n",
    "def sigmoid(z):\n",
    "    return 1 / (1 + np.exp(-z))\n",
    "\n",
    "def numerical_derivative(f, x):\n",
    "    delta_x = 1e-4 # 0.0001\n",
    "    grad = np.zeros_like(x)\n",
    "    \n",
    "    it = np.nditer(x, flags=['multi_index'], op_flags=['readwrite'])\n",
    "    \n",
    "    while not it.finished:\n",
    "        idx = it.multi_index        \n",
    "        tmp_val = x[idx]\n",
    "        x[idx] = float(tmp_val) + delta_x\n",
    "        fx1 = f(x) # f(x+delta_x)\n",
    "        \n",
    "        x[idx] = tmp_val - delta_x \n",
    "        fx2 = f(x) # f(x-delta_x)\n",
    "        grad[idx] = (fx1 - fx2) / (2*delta_x)\n",
    "        \n",
    "        x[idx] = tmp_val \n",
    "        it.iternext()   \n",
    "        \n",
    "    return grad"
   ]
  },
  {
   "cell_type": "code",
   "execution_count": 2,
   "metadata": {},
   "outputs": [],
   "source": [
    "# and, or, nand, xor data\n",
    "x_data = np.array([ [0,0], [0,1], [1,0], [1,1] ])   \n",
    "\n",
    "and_tdata = np.array([0, 0, 0, 1]).reshape(4,1)\n",
    "or_tdata = np.array([0, 1, 1, 1]).reshape(4,1)\n",
    "nand_tdata = np.array([1, 1, 1, 0]).reshape(4,1)\n",
    "xor_tdata = np.array([0, 1, 1, 0]).reshape(4,1)\n",
    "\n",
    "# test data\n",
    "test_data = np.array([ [0,0], [0,1], [1,0], [1,1] ])"
   ]
  },
  {
   "cell_type": "code",
   "execution_count": 5,
   "metadata": {},
   "outputs": [],
   "source": [
    "import numpy as np\n",
    "from datetime import datetime\n",
    "\n",
    "def loss_func(x,t):\n",
    "    delta = 1e-7\n",
    "    \n",
    "    z2 = np.dot(x,W2) + b2\n",
    "    a2 = sigmoid(z2)\n",
    "    \n",
    "    z3 = np.dot(a2,W3) + b3\n",
    "    y = a3 = sigmoid(z3)\n",
    "    \n",
    "    return -np.sum(t*np.log(y+delta)+(1-t)*np.log(1-y+delta))\n",
    "\n",
    "def feed_f0orward(x,t):\n",
    "    delta = 1e-7\n",
    "    \n",
    "    z2 = np.dot(x,W2) + b2\n",
    "    a2 = sigmoid(z2)\n",
    "    \n",
    "    z3 = np.dot(a2,W3) + b3\n",
    "    y = a3 = sigmoid(z3)\n",
    "    \n",
    "    return -np.sum(t*np.log(y+delta)+(1-t)*np.log(1-y+delta))\n",
    "\n",
    "def predict(test_data):\n",
    "    z2 = np.dot(test_data,W2) + b2\n",
    "    a2 = sigmoid(z2)\n",
    "    \n",
    "    z3 = np.dot(a2,W3) + b3\n",
    "    y = a3 = sigmoid(z3)\n",
    "    \n",
    "    if y >= 0.5:\n",
    "        result = 1\n",
    "    else:\n",
    "        result = 0\n",
    "    \n",
    "    return y, result\n",
    "\n",
    "def accuracy(test_xdata,test_tdata):\n",
    "    matched_list = []\n",
    "    for index in range(len(test_xdata)):\n",
    "        (real_val, logical_val) = predict(test_xdata[index])\n",
    "        if logical_val == test_tdata[index]:\n",
    "            matched_list.append(True)\n",
    "            \n",
    "    return len(matched_list) / len(test_xdata)\n"
   ]
  },
  {
   "cell_type": "code",
   "execution_count": 6,
   "metadata": {},
   "outputs": [
    {
     "name": "stdout",
     "output_type": "stream",
     "text": [
      "step =  0 error_rate =  3.76867353833238\n",
      "step =  400 error_rate =  2.651188068244778\n",
      "step =  800 error_rate =  2.251944896810029\n",
      "step =  1200 error_rate =  2.059977231123156\n",
      "step =  1600 error_rate =  1.9960374262639076\n",
      "step =  2000 error_rate =  1.9670528499021156\n",
      "step =  2400 error_rate =  1.9508355693088129\n",
      "step =  2800 error_rate =  1.9402728316538091\n",
      "step =  3200 error_rate =  1.9321882399282566\n",
      "step =  3600 error_rate =  1.9238120734109978\n",
      "step =  4000 error_rate =  1.9012179870471981\n",
      "step =  4400 error_rate =  0.5582926112841422\n",
      "step =  4800 error_rate =  0.1621916565992422\n",
      "step =  5200 error_rate =  0.09272297138119875\n",
      "step =  5600 error_rate =  0.06536141832204585\n",
      "step =  6000 error_rate =  0.050684297560645214\n",
      "step =  6400 error_rate =  0.041484260126383135\n",
      "step =  6800 error_rate =  0.035154568418120306\n",
      "step =  7200 error_rate =  0.030522124003827134\n",
      "step =  7600 error_rate =  0.026979413680345638\n",
      "step =  8000 error_rate =  0.024179448333092494\n",
      "step =  8400 error_rate =  0.021909193775249396\n",
      "step =  8800 error_rate =  0.02003039481214413\n",
      "step =  9200 error_rate =  0.018449293197720273\n",
      "step =  9600 error_rate =  0.017099994873550902\n",
      "step =  10000 error_rate =  0.015934798270139598\n",
      "\n",
      "time-escaped :  0:00:05.900697\n"
     ]
    }
   ],
   "source": [
    "input_nodes = 2\n",
    "hidden_nodes = 2\n",
    "output_nodes = 1\n",
    "\n",
    "W2 = np.random.rand(input_nodes,hidden_nodes)\n",
    "b2 = np.random.rand(hidden_nodes)\n",
    "\n",
    "W3 = np.random.rand(hidden_nodes,output_nodes)\n",
    "b3 = np.random.rand(output_nodes)\n",
    "\n",
    "learning_rate = 1e-1\n",
    "iteration_count = 10001\n",
    "f = lambda x : loss_func(x_data,xor_tdata)\n",
    "start_time = datetime.now()\n",
    "for step in range(iteration_count):\n",
    "    W2 -= learning_rate * numerical_derivative(f,W2)\n",
    "    b2 -= learning_rate * numerical_derivative(f,b2)\n",
    "    \n",
    "    W3 -= learning_rate * numerical_derivative(f,W3)\n",
    "    b3 -= learning_rate * numerical_derivative(f,b3)\n",
    "    \n",
    "    if (step % 400) == 0:\n",
    "        print(\"step = \", step, \"error_rate = \", loss_func(x_data,xor_tdata))\n",
    "end_time = datetime.now()\n",
    "print(\"\")\n",
    "print(\"time-escaped : \", end_time - start_time)"
   ]
  },
  {
   "cell_type": "code",
   "execution_count": 7,
   "metadata": {},
   "outputs": [
    {
     "name": "stdout",
     "output_type": "stream",
     "text": [
      "real_val =  [0.00460903] , logical_val =  0\n",
      "real_val =  [0.99637782] , logical_val =  1\n",
      "real_val =  [0.99637781] , logical_val =  1\n",
      "real_val =  [0.00404977] , logical_val =  0\n"
     ]
    }
   ],
   "source": [
    "for data in test_data:\n",
    "    (real_val, logical_val) = predict(data)\n",
    "    print(\"real_val = \", real_val, \", logical_val = \", logical_val)"
   ]
  },
  {
   "cell_type": "code",
   "execution_count": null,
   "metadata": {},
   "outputs": [],
   "source": []
  }
 ],
 "metadata": {
  "kernelspec": {
   "display_name": "Python 3",
   "language": "python",
   "name": "python3"
  },
  "language_info": {
   "codemirror_mode": {
    "name": "ipython",
    "version": 3
   },
   "file_extension": ".py",
   "mimetype": "text/x-python",
   "name": "python",
   "nbconvert_exporter": "python",
   "pygments_lexer": "ipython3",
   "version": "3.6.8"
  }
 },
 "nbformat": 4,
 "nbformat_minor": 2
}
