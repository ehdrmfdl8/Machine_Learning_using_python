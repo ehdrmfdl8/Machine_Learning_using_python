{
 "cells": [
  {
   "cell_type": "markdown",
   "metadata": {},
   "source": [
    "## 은닉층 1개를 가지는 신경망을 tensorflow로 구현"
   ]
  },
  {
   "cell_type": "code",
   "execution_count": 11,
   "metadata": {},
   "outputs": [
    {
     "name": "stdout",
     "output_type": "stream",
     "text": [
      "loaded_data.shape =  (759, 9)\n"
     ]
    }
   ],
   "source": [
    "import numpy as np\n",
    "import tensorflow as tf\n",
    "import random\n",
    "\n",
    "loaded_data = np.loadtxt('./diabetes.csv', delimiter = ',')\n",
    "print(\"loaded_data.shape = \", loaded_data.shape)"
   ]
  },
  {
   "cell_type": "code",
   "execution_count": 12,
   "metadata": {},
   "outputs": [
    {
     "name": "stdout",
     "output_type": "stream",
     "text": [
      "training_data.shape =  (506, 9) test_data.shape =  (253, 9)\n",
      "training_xdata.shape =  (506, 8) training_tdata.shape =  (506, 1)\n",
      "test_xdata.shape =  (253, 8) test_tdata.shape =  (253, 1)\n"
     ]
    }
   ],
   "source": [
    "training_data_list = []\n",
    "test_data_list = []\n",
    "\n",
    "seperate_rate = 3\n",
    "for index in range(len(loaded_data)):\n",
    "    if index % seperate_rate == 0:\n",
    "        test_data_list.append(loaded_data[index])\n",
    "    else:\n",
    "        training_data_list.append(loaded_data[index])\n",
    "training_data = np.array(training_data_list)\n",
    "test_data = np.array(test_data_list)\n",
    "\n",
    "print(\"training_data.shape = \", training_data.shape, \"test_data.shape = \", test_data.shape)\n",
    "\n",
    "training_xdata = training_data[ : , : -1]\n",
    "training_tdata = training_data[ : , [-1]]\n",
    "\n",
    "print(\"training_xdata.shape = \", training_xdata.shape, \"training_tdata.shape = \", training_tdata.shape)\n",
    "\n",
    "test_xdata = test_data[:,:-1]\n",
    "test_tdata = test_data[:,[-1]]\n",
    "\n",
    "print(\"test_xdata.shape = \", test_xdata.shape, \"test_tdata.shape = \", test_tdata.shape)"
   ]
  },
  {
   "cell_type": "code",
   "execution_count": 13,
   "metadata": {},
   "outputs": [],
   "source": [
    "learning_rate = 0.01\n",
    "input_nodes = training_xdata.shape[1]\n",
    "hidden_nodes = 10\n",
    "output_nodes = 1\n",
    "epochs = 1"
   ]
  },
  {
   "cell_type": "code",
   "execution_count": 20,
   "metadata": {},
   "outputs": [
    {
     "name": "stdout",
     "output_type": "stream",
     "text": [
      "(?, 8)\n"
     ]
    }
   ],
   "source": [
    "X = tf.placeholder(tf.float32, [None, input_nodes])\n",
    "T = tf.placeholder(tf.float32, [None, output_nodes])\n",
    "\n",
    "W2 = tf.Variable(tf.random_normal([input_nodes,hidden_nodes]))\n",
    "b2 = tf.Variable(tf.random_normal([hidden_nodes]))\n",
    "\n",
    "W3 = tf.Variable(tf.random_normal([hidden_nodes, output_nodes]))\n",
    "b3 = tf.Variable(tf.random_normal([output_nodes]))\n",
    "\n",
    "print(X.shape)"
   ]
  },
  {
   "cell_type": "code",
   "execution_count": 21,
   "metadata": {},
   "outputs": [],
   "source": [
    "z2 = tf.matmul(X , W2) + b2\n",
    "A2 = tf.sigmoid(z2)\n",
    "\n",
    "z3 = tf.matmul(A2, W3) + b3\n",
    "y = A3 = tf.sigmoid(z3)\n",
    "\n",
    "loss = -tf.reduce_mean(T * tf.log(y) + (1-T)*tf.log(1-y))"
   ]
  },
  {
   "cell_type": "code",
   "execution_count": 22,
   "metadata": {},
   "outputs": [],
   "source": [
    "\n",
    "optimizer = tf.train.GradientDescentOptimizer(learning_rate)\n",
    "train = optimizer.minimize(loss)"
   ]
  },
  {
   "cell_type": "code",
   "execution_count": 23,
   "metadata": {},
   "outputs": [],
   "source": [
    "predicted = tf.cast(y > 0.5, dtype = tf.float32)\n",
    "accuracy = tf.reduce_mean(tf.cast(tf.equal(predicted, T), dtype = tf.float32))"
   ]
  },
  {
   "cell_type": "code",
   "execution_count": 24,
   "metadata": {},
   "outputs": [
    {
     "name": "stdout",
     "output_type": "stream",
     "text": [
      "step =  0 , loss_val =  2.8145218\n",
      "step =  500 , loss_val =  0.6476216\n",
      "step =  1000 , loss_val =  0.6326896\n",
      "step =  1500 , loss_val =  0.6197551\n",
      "step =  2000 , loss_val =  0.60786784\n",
      "step =  2500 , loss_val =  0.5967189\n",
      "step =  3000 , loss_val =  0.58616406\n",
      "step =  3500 , loss_val =  0.5761527\n",
      "step =  4000 , loss_val =  0.56668174\n",
      "step =  4500 , loss_val =  0.5577676\n",
      "step =  5000 , loss_val =  0.54943025\n",
      "step =  5500 , loss_val =  0.5416865\n",
      "step =  6000 , loss_val =  0.5345451\n",
      "step =  6500 , loss_val =  0.5280055\n",
      "step =  7000 , loss_val =  0.5220576\n",
      "step =  7500 , loss_val =  0.51668185\n",
      "step =  8000 , loss_val =  0.51185113\n",
      "step =  8500 , loss_val =  0.5075326\n",
      "step =  9000 , loss_val =  0.5036888\n",
      "step =  9500 , loss_val =  0.5002807\n",
      "step =  10000 , loss_val =  0.49726853\n",
      "(253, 1) (253, 1)\n",
      "0.7786561\n"
     ]
    }
   ],
   "source": [
    "with tf.Session() as sess:\n",
    "    sess.run(tf.global_variables_initializer())\n",
    "    for i in range(epochs):\n",
    "        for step in range(10001):\n",
    "            loss_val, _ = sess.run([loss, train], feed_dict = {X:training_xdata, T:training_tdata})\n",
    "\n",
    "            if step % 500 == 0:\n",
    "                print(\"step = \", step, \", loss_val = \", loss_val)\n",
    "    y_val , predicted_val, accuracy_val = sess.run([y, predicted, accuracy], feed_dict = {X:test_xdata, T:test_tdata})\n",
    "    print(y_val.shape , predicted_val.shape)\n",
    "    print(accuracy_val)"
   ]
  },
  {
   "cell_type": "code",
   "execution_count": null,
   "metadata": {},
   "outputs": [],
   "source": []
  },
  {
   "cell_type": "code",
   "execution_count": null,
   "metadata": {},
   "outputs": [],
   "source": []
  }
 ],
 "metadata": {
  "kernelspec": {
   "display_name": "Python 3",
   "language": "python",
   "name": "python3"
  },
  "language_info": {
   "codemirror_mode": {
    "name": "ipython",
    "version": 3
   },
   "file_extension": ".py",
   "mimetype": "text/x-python",
   "name": "python",
   "nbconvert_exporter": "python",
   "pygments_lexer": "ipython3",
   "version": "3.6.9"
  }
 },
 "nbformat": 4,
 "nbformat_minor": 2
}
