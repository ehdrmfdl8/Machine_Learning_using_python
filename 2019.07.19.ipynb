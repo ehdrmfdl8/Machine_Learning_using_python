{
 "cells": [
  {
   "cell_type": "code",
   "execution_count": 25,
   "metadata": {},
   "outputs": [],
   "source": [
    "import numpy as np\n",
    "\n",
    "#sigmoid 함수\n",
    "def sigmoid(z):\n",
    "    return 1 / (1+np.exp(-z))\n",
    "\n",
    "#수치미분 함수\n",
    "def numerical_derivative(f, x):\n",
    "    delta_x = 1e-4 # 0.0001\n",
    "    grad = np.zeros_like(x)\n",
    "    \n",
    "    it = np.nditer(x, flags=['multi_index'], op_flags=['readwrite'])\n",
    "    \n",
    "    while not it.finished:\n",
    "        idx = it.multi_index        \n",
    "        tmp_val = x[idx]\n",
    "        x[idx] = float(tmp_val) + delta_x\n",
    "        fx1 = f(x) # f(x+delta_x)\n",
    "        \n",
    "        x[idx] = tmp_val - delta_x \n",
    "        fx2 = f(x) # f(x-delta_x)\n",
    "        grad[idx] = (fx1 - fx2) / (2*delta_x)\n",
    "        \n",
    "        x[idx] = tmp_val \n",
    "        it.iternext()   \n",
    "        \n",
    "    return grad"
   ]
  },
  {
   "cell_type": "code",
   "execution_count": 59,
   "metadata": {},
   "outputs": [],
   "source": [
    "# LogicGate Class\n",
    "import numpy as np\n",
    "class LogicGate:\n",
    "    \n",
    "    def __init__(self, gate_name, x_data, t_data):\n",
    "        \n",
    "        self.gate_name = gate_name\n",
    "        #self.x_data = x_data.reshape(4, 2)\n",
    "        #self.t_data = t_data.reshape(4, 1)\n",
    "        if x_data.ndim == 1:\n",
    "            self.x_data = x_data.reshape(-1,1)\n",
    "            self.t_data = t_data.reshape(-1,1)\n",
    "        elif x_data.ndim == 2:\n",
    "            self.x_data = x_data.reshape(-1,2)\n",
    "            self.t_data = t_data.reshape(-1,1)\n",
    "        \n",
    "        self.W = np.random.rand(self.x_data.shape[1],1)\n",
    "        self.b = np.random.rand(1)\n",
    "        self.learning_rate = 1e-2\n",
    "        #self.iteration_count = 12001\n",
    "    \n",
    "    def loss_func(self):\n",
    "        delta = 1e-7    # log 무한대 발산 방지\n",
    "    \n",
    "        z = np.dot(self.x_data, self.W) + self.b\n",
    "        y = sigmoid(z)\n",
    "    \n",
    "        # cross-entropy \n",
    "        return  -np.sum( self.t_data*np.log(y + delta) + (1-self.t_data)*np.log((1 - y)+delta ) )\n",
    "    def error_val(self):\n",
    "        delta = 1e-7    # log 무한대 발산 방지\n",
    "    \n",
    "        z = np.dot(self.x_data, self.W) + self.b\n",
    "        y = sigmoid(z)\n",
    "    \n",
    "        # cross-entropy \n",
    "        return  -np.sum( self.t_data*np.log(y + delta) + (1-self.t_data)*np.log((1 - y)+delta ) )\n",
    "    def predict(self,input_data):\n",
    "        \n",
    "        z = np.dot(input_data, self.W) + self.b\n",
    "        y = sigmoid(z)\n",
    "        \n",
    "        if y > 0.5 :\n",
    "            result = 1\n",
    "        else:\n",
    "            result = 0\n",
    "        return y, result\n",
    "    \n",
    "    def accuracy(self, test_xdata, test_tdata):\n",
    "        matched_list = []\n",
    "        \n",
    "        for index in range(len(self.x_data)):\n",
    "            (real_val, logical_val) = self.predict(test_xdata[index])\n",
    "            \n",
    "            if logical_val == test_tdata[index]:\n",
    "                matched_list.append(True)\n",
    "                \n",
    "        return (len(matched_list) / len(test_xdata))\n",
    "    \n",
    "    def train(self):\n",
    "        \n",
    "        f = lambda x : self.loss_func()\n",
    "        \n",
    "        print(\"Initial_error_value = \", self.error_val())\n",
    "        \n",
    "        for step in range(16001):\n",
    "            \n",
    "            self.W -= self.learning_rate * numerical_derivative(f, self.W)\n",
    "    \n",
    "            self.b -= self.learning_rate * numerical_derivative(f, self.b)\n",
    "            \n",
    "            if(step % 1000 == 0):\n",
    "                print(\"step = \", step, \"error_value = \", self.error_val(), \"W = \",self.W,\"b = \",self.b)\n",
    "            "
   ]
  },
  {
   "cell_type": "code",
   "execution_count": 60,
   "metadata": {},
   "outputs": [
    {
     "name": "stdout",
     "output_type": "stream",
     "text": [
      "Initial_error_value =  4.817202945544323\n",
      "step =  0 error_value =  4.7562270783592995 W =  [[0.42789415]\n",
      " [0.92676337]] b =  [0.84508106]\n",
      "step =  1000 error_value =  1.0202842429901047 W =  [[1.75676477]\n",
      " [1.82037903]] b =  [-2.97069121]\n",
      "step =  2000 error_value =  0.6657388171781267 W =  [[2.70961238]\n",
      " [2.72255498]] b =  [-4.30350978]\n",
      "step =  3000 error_value =  0.4944702327705819 W =  [[3.35479222]\n",
      " [3.35843096]] b =  [-5.24359536]\n",
      "step =  4000 error_value =  0.3922269775719863 W =  [[3.84953903]\n",
      " [3.85081999]] b =  [-5.97353016]\n",
      "step =  5000 error_value =  0.3242602877396496 W =  [[4.25175813]\n",
      " [4.25228824]] b =  [-6.57006522]\n",
      "step =  6000 error_value =  0.27589545307067836 W =  [[4.59058052]\n",
      " [4.59082803]] b =  [-7.07395639]\n",
      "step =  7000 error_value =  0.23978857141407123 W =  [[4.88309672]\n",
      " [4.88322354]] b =  [-7.50970809]\n",
      "step =  8000 error_value =  0.21184709331562424 W =  [[5.14028328]\n",
      " [5.14035322]] b =  [-7.89325978]\n",
      "step =  9000 error_value =  0.1896100347764033 W =  [[5.3696323 ]\n",
      " [5.36967322]] b =  [-8.23557181]\n",
      "step =  10000 error_value =  0.1715099526477088 W =  [[5.57649069]\n",
      " [5.57651584]] b =  [-8.54450337]\n",
      "step =  11000 error_value =  0.1565022216627635 W =  [[5.76480849]\n",
      " [5.7648246 ]] b =  [-8.82587927]\n",
      "step =  12000 error_value =  0.14386453574144437 W =  [[5.93758593]\n",
      " [5.93759661]] b =  [-9.08413416]\n",
      "step =  13000 error_value =  0.1330819437273083 W =  [[6.09715464]\n",
      " [6.09716193]] b =  [-9.32272056]\n",
      "step =  14000 error_value =  0.12377770813661629 W =  [[6.24536192]\n",
      " [6.24536703]] b =  [-9.54437769]\n",
      "step =  15000 error_value =  0.11567003217027519 W =  [[6.38369575]\n",
      " [6.38369941]] b =  [-9.75131441]\n",
      "step =  16000 error_value =  0.10854404384151053 W =  [[6.5133719 ]\n",
      " [6.51337459]] b =  [-9.94533717]\n"
     ]
    }
   ],
   "source": [
    "x_data = np.array([[0,0],[0,1],[1,0],[1,1]])\n",
    "t_data = np.array([0,0,0,1])\n",
    "\n",
    "AND_obj = LogicGate(\"AND_GATE\",x_data,t_data)\n",
    "AND_obj.train()"
   ]
  },
  {
   "cell_type": "code",
   "execution_count": 61,
   "metadata": {},
   "outputs": [
    {
     "name": "stdout",
     "output_type": "stream",
     "text": [
      "AND_GATE \n",
      "\n",
      "Accuracy =>  1.0\n"
     ]
    }
   ],
   "source": [
    "# AND Gate prediction\n",
    "print(AND_obj.gate_name, \"\\n\")\n",
    "\n",
    "test_xdata = np.array([[0,0],[0,1],[1,0],[1,1]])\n",
    "test_tdata = np.array([0,0,0,1])\n",
    "\n",
    "accuracy_ret = AND_obj.accuracy(test_xdata,test_tdata)\n",
    "print(\"Accuracy => \", accuracy_ret)"
   ]
  },
  {
   "cell_type": "code",
   "execution_count": 62,
   "metadata": {},
   "outputs": [
    {
     "name": "stdout",
     "output_type": "stream",
     "text": [
      "Initial_error_value =  2.070082038577781\n",
      "step =  0 error_value =  2.0595061887680175 W =  [[0.11363274]\n",
      " [0.56041494]] b =  [0.2417648]\n",
      "step =  1000 error_value =  0.7081570771038146 W =  [[2.51114372]\n",
      " [2.62143715]] b =  [-0.62571534]\n",
      "step =  2000 error_value =  0.4272517698318406 W =  [[3.62751379]\n",
      " [3.67136623]] b =  [-1.26634213]\n",
      "step =  3000 error_value =  0.30142516794945073 W =  [[4.37469906]\n",
      " [4.39714395]] b =  [-1.66943112]\n",
      "step =  4000 error_value =  0.23123944158320833 W =  [[4.93240231]\n",
      " [4.9457782 ]] b =  [-1.96327043]\n",
      "step =  5000 error_value =  0.1868788037911371 W =  [[5.37568757]\n",
      " [5.38448366]] b =  [-2.19396599]\n",
      "step =  6000 error_value =  0.15646421763204849 W =  [[5.74272909]\n",
      " [5.74892116]] b =  [-2.38353692]\n",
      "step =  7000 error_value =  0.13438359216754264 W =  [[6.0554838 ]\n",
      " [6.06006449]] b =  [-2.54423683]\n",
      "step =  8000 error_value =  0.11765935789223056 W =  [[6.32769592]\n",
      " [6.33121453]] b =  [-2.68358164]\n",
      "step =  9000 error_value =  0.10457208814556007 W =  [[6.56851897]\n",
      " [6.57130256]] b =  [-2.80650809]\n",
      "step =  10000 error_value =  0.09406250977568814 W =  [[6.78434534]\n",
      " [6.78660017]] b =  [-2.91642926]\n",
      "step =  11000 error_value =  0.08544383383125059 W =  [[6.97980992]\n",
      " [6.9816722 ]] b =  [-3.01580095]\n",
      "step =  12000 error_value =  0.07825195945379854 W =  [[7.15837722]\n",
      " [7.15994037]] b =  [-3.1064478]\n",
      "step =  13000 error_value =  0.07216235471955673 W =  [[7.32270295]\n",
      " [7.3240331 ]] b =  [-3.18976166]\n",
      "step =  14000 error_value =  0.06694146569076438 W =  [[7.4748665 ]\n",
      " [7.47601175]] b =  [-3.26682791]\n",
      "step =  15000 error_value =  0.06241704376754054 W =  [[7.61652573]\n",
      " [7.61752184]] b =  [-3.33850899]\n",
      "step =  16000 error_value =  0.05845934187052513 W =  [[7.74902318]\n",
      " [7.74989731]] b =  [-3.40550129]\n"
     ]
    }
   ],
   "source": [
    "x_data = np.array([ [0, 0], [0, 1], [1, 0], [1, 1] ])\n",
    "t_data = np.array([0, 1, 1, 1])\n",
    "\n",
    "OR_obj = LogicGate(\"OR_GATE\", x_data, t_data)\n",
    "\n",
    "OR_obj.train() "
   ]
  },
  {
   "cell_type": "code",
   "execution_count": 65,
   "metadata": {},
   "outputs": [
    {
     "name": "stdout",
     "output_type": "stream",
     "text": [
      "OR_GATE \n",
      "\n",
      "Accuracy =>  1.0\n"
     ]
    }
   ],
   "source": [
    "# OR Gate prediction\n",
    "print(OR_obj.gate_name, \"\\n\")\n",
    "\n",
    "test_xdata = np.array([ [0, 0], [0, 1], [1, 0], [1, 1] ])\n",
    "test_tdata = np.array([ 0, 1, 1, 1])\n",
    "\n",
    "accuracy_ret = OR_obj.accuracy(test_xdata, test_tdata)\n",
    "\n",
    "print(\"Accuracy => \", accuracy_ret)"
   ]
  },
  {
   "cell_type": "code",
   "execution_count": 66,
   "metadata": {},
   "outputs": [
    {
     "name": "stdout",
     "output_type": "stream",
     "text": [
      "Initial_error_value =  2.7632466075828583\n",
      "step =  0 error_value =  2.7581483383367864 W =  [[0.13408467]\n",
      " [0.71556806]] b =  [0.40562686]\n",
      "step =  1000 error_value =  1.0545591150583515 W =  [[-1.75420893]\n",
      " [-1.67947369]] b =  [2.86998087]\n",
      "step =  2000 error_value =  0.6797000777203368 W =  [[-2.67856917]\n",
      " [-2.66371428]] b =  [4.23798525]\n",
      "step =  3000 error_value =  0.5022069650366937 W =  [[-3.32541273]\n",
      " [-3.32130294]] b =  [5.19455845]\n",
      "step =  4000 error_value =  0.3971497627550949 W =  [[-3.82444365]\n",
      " [-3.82301319]] b =  [5.93432535]\n",
      "step =  5000 error_value =  0.32766101570449946 W =  [[-4.23036694]\n",
      " [-4.22977987]] b =  [6.53744014]\n",
      "step =  6000 error_value =  0.278379831339046 W =  [[-4.57209876]\n",
      " [-4.57182637]] b =  [7.04605021]\n",
      "step =  7000 error_value =  0.24167939699998797 W =  [[-4.86689083]\n",
      " [-4.86675195]] b =  [7.48535045]\n",
      "step =  8000 error_value =  0.21333215427391733 W =  [[-5.12588402]\n",
      " [-5.12580773]] b =  [7.8716656]\n",
      "step =  9000 error_value =  0.19080589273096418 W =  [[-5.35669319]\n",
      " [-5.35664869]] b =  [8.21618886]\n",
      "step =  10000 error_value =  0.17249269389888125 W =  [[-5.56475222]\n",
      " [-5.56472495]] b =  [8.52692863]\n",
      "step =  11000 error_value =  0.1573235619502652 W =  [[-5.75407268]\n",
      " [-5.75405525]] b =  [8.8098098]\n",
      "step =  12000 error_value =  0.14456081676583446 W =  [[-5.92769891]\n",
      " [-5.92768738]] b =  [9.06933662]\n",
      "step =  13000 error_value =  0.13367942766602978 W =  [[-6.08799476]\n",
      " [-6.0879869 ]] b =  [9.30901149]\n",
      "step =  14000 error_value =  0.12429583092229401 W =  [[-6.23683156]\n",
      " [-6.23682605]] b =  [9.53161033]\n",
      "step =  15000 error_value =  0.11612347669209463 W =  [[-6.37571541]\n",
      " [-6.37571147]] b =  [9.73936956]\n",
      "step =  16000 error_value =  0.10894410304638608 W =  [[-6.50587609]\n",
      " [-6.50587321]] b =  [9.93411673]\n"
     ]
    }
   ],
   "source": [
    "x_data = np.array([ [0, 0], [0, 1], [1, 0], [1, 1] ])\n",
    "t_data = np.array([1, 1, 1, 0])\n",
    "\n",
    "NAND_obj = LogicGate(\"NAND_GATE\", x_data, t_data)\n",
    "\n",
    "NAND_obj.train()"
   ]
  },
  {
   "cell_type": "code",
   "execution_count": 68,
   "metadata": {},
   "outputs": [
    {
     "name": "stdout",
     "output_type": "stream",
     "text": [
      "NAND_GATE \n",
      "\n",
      "Accuracy =>  1.0\n"
     ]
    }
   ],
   "source": [
    "# NAND Gate prediction\n",
    "print(NAND_obj.gate_name, \"\\n\")\n",
    "\n",
    "test_xdata = np.array([ [0, 0], [0, 1], [1, 0], [1, 1] ])\n",
    "test_tdata = np.array([ 1, 1, 1, 0])\n",
    "\n",
    "accuracy_ret = NAND_obj.accuracy(test_xdata, test_tdata)\n",
    "\n",
    "print(\"Accuracy => \", accuracy_ret)"
   ]
  },
  {
   "cell_type": "code",
   "execution_count": 71,
   "metadata": {},
   "outputs": [
    {
     "name": "stdout",
     "output_type": "stream",
     "text": [
      "[0 0]  =  0\n",
      "\n",
      "[0 1]  =  1\n",
      "\n",
      "[1 0]  =  1\n",
      "\n",
      "[1 1]  =  0\n",
      "\n"
     ]
    }
   ],
   "source": [
    "# XOR 을 NAND + OR => AND 조합으로 계산함\n",
    "input_data = np.array([[0,0],[0,1],[1,0],[1,1]])\n",
    "\n",
    "s1 = []\n",
    "s2 = []\n",
    "\n",
    "new_input_data = []\n",
    "final_output = []\n",
    "\n",
    "for index in range(len(input_data)):\n",
    "    \n",
    "    s1 = NAND_obj.predict(input_data[index]) #NAND 출력\n",
    "    s2 = OR_obj.predict(input_data[index]) #OR 출력\n",
    "    \n",
    "    new_input_data.append(s1[-1]) # AND 입력\n",
    "    new_input_data.append(s2[-1]) # AND 입력\n",
    "    \n",
    "    (sigmoid_val, logical_val) = AND_obj.predict(np.array(new_input_data))\n",
    "    final_output.append(logical_val) #AND 출력, 즉 XOR 출력\n",
    "    new_input_data = [] # AND 입력 초기화\n",
    "    \n",
    "for index in range(len(input_data)):\n",
    "    print(input_data[index], \" = \", final_output[index], end='')\n",
    "    print(\"\\n\")"
   ]
  },
  {
   "cell_type": "code",
   "execution_count": null,
   "metadata": {},
   "outputs": [],
   "source": []
  }
 ],
 "metadata": {
  "kernelspec": {
   "display_name": "Python 3",
   "language": "python",
   "name": "python3"
  },
  "language_info": {
   "codemirror_mode": {
    "name": "ipython",
    "version": 3
   },
   "file_extension": ".py",
   "mimetype": "text/x-python",
   "name": "python",
   "nbconvert_exporter": "python",
   "pygments_lexer": "ipython3",
   "version": "3.6.8"
  }
 },
 "nbformat": 4,
 "nbformat_minor": 2
}
