{
 "cells": [
  {
   "cell_type": "code",
   "execution_count": 1,
   "metadata": {},
   "outputs": [],
   "source": [
    "import tensorflow as tf\n",
    "import numpy as np\n",
    "import random\n",
    "from datetime import datetime"
   ]
  },
  {
   "cell_type": "code",
   "execution_count": 23,
   "metadata": {},
   "outputs": [],
   "source": [
    "class DataGeneration:\n",
    "    \n",
    "    def __init__(self, name, file_path, seperation_rate, is_normalized = False):\n",
    "        self.name = name\n",
    "        self.file_path = file_path\n",
    "        self.seperation_rate = seperation_rate\n",
    "        self.is_normalized = is_normalized\n",
    "        print(\"DataGeneration object is created !!\")\n",
    "        \n",
    "    def data_normalize_using_min_max(self, loaded_data):\n",
    "        transpose_loaded_data = loaded_data.T\n",
    "        \n",
    "        print(\"transpose_loaded_data.shape = ,\", transpose_loaded_data.shape)\n",
    "        \n",
    "        transpose_normalize_data_list = []\n",
    "        \n",
    "        for index in range(len(transpose_loaded_data)):\n",
    "            max_value = np.max(transpose_loaded_data[index, :]) # 각 행의 최대값을 찾음\n",
    "            min_value = np.min(transpose_loaded_data[index, :]) # 각 행의 최대값을 찾음\n",
    "            transpose_normalize_data_list.append((transpose_loaded_data[index, :] - min_value)  / (max_value - min_value))\n",
    "                                                     \n",
    "            \n",
    "        transpose_normalize_data = np.array(transpose_normalize_data_list)\n",
    "\n",
    "        print(transpose_normalize_data.shape)\n",
    "\n",
    "        normalize_data = transpose_normalize_data.T\n",
    "\n",
    "        print(normalize_data.shape)\n",
    "\n",
    "        data_save_path = './Normalize_' + self.name + '_data.csv'\n",
    "\n",
    "        np.savetxt(data_save_path, normalize_data, delimiter= ',')\n",
    "\n",
    "        return normalize_data\n",
    "        \n",
    "    def generate(self):\n",
    "        loaded_data = np.loadtxt(self.file_path, delimiter=',', dtype=np.float32)\n",
    "        print(\"loaded_data.shape = \", loaded_data.shape)\n",
    "\n",
    "        if(self.is_normalized == True):\n",
    "            loaded_data = self.data_normalize_using_min_max(loaded_data)\n",
    "\n",
    "        training_data_list = []\n",
    "        test_data_list = []\n",
    "\n",
    "        total_data_num = len(loaded_data)\n",
    "        test_data_num = int(len(loaded_data) * self.seperation_rate)\n",
    "\n",
    "        total_data_index_list = [index for index in range(total_data_num)]\n",
    "\n",
    "        random.shuffle(total_data_index_list)\n",
    "\n",
    "        test_data_index_list = total_data_index_list[ 0:test_data_num ]\n",
    "\n",
    "        print(\"length of test_data_index_list = \", len(test_data_index_list))\n",
    "\n",
    "        # training data 를 위한 인덱스는 total_data_index_list 에서 test data 인덱스를 제외한 나머지 부분\n",
    "        training_data_index_list = total_data_index_list[ test_data_num: ]\n",
    "\n",
    "        print(\"length of training_data_index_list = \", len(training_data_index_list))\n",
    "\n",
    "        # training data 구성\n",
    "        for training_data_index in training_data_index_list:\n",
    "\n",
    "            training_data_list.append(loaded_data[training_data_index])\n",
    "\n",
    "        # test data 구성\n",
    "        for test_data_index in test_data_index_list:\n",
    "\n",
    "            test_data_list.append(loaded_data[test_data_index])\n",
    "\n",
    "        # generate training data from training_data_list using np.arrya(...)\n",
    "        training_data = np.array(training_data_list)\n",
    "\n",
    "        # generate test data from test_data_list using np.arrya(...)\n",
    "        test_data = np.array(test_data_list)\n",
    "\n",
    "        # verification shape\n",
    "        print(\"training_data.shape = \", training_data.shape)\n",
    "        print(\"test_data.shape = \", test_data.shape)\n",
    "\n",
    "        # save training & test data (.csv)\n",
    "        training_data_save_path = './random_' + self.name + '_training_data.csv'\n",
    "        test_data_save_path = './random_' + self.name + '_test_data.csv'\n",
    "\n",
    "        np.savetxt(training_data_save_path, training_data, delimiter=',')\n",
    "        np.savetxt(test_data_save_path, test_data, delimiter=',')\n",
    "\n",
    "        return training_data, test_data\n"
   ]
  },
  {
   "cell_type": "code",
   "execution_count": 24,
   "metadata": {},
   "outputs": [
    {
     "name": "stdout",
     "output_type": "stream",
     "text": [
      "DataGeneration object is created !!\n",
      "loaded_data.shape =  (470, 18)\n",
      "transpose_loaded_data.shape = , (18, 470)\n",
      "(18, 470)\n",
      "(470, 18)\n",
      "length of test_data_index_list =  141\n",
      "length of training_data_index_list =  329\n",
      "training_data.shape =  (329, 18)\n",
      "test_data.shape =  (141, 18)\n",
      "training_data.shape =  (329, 18)\n",
      "test_data.shape =  (141, 18)\n"
     ]
    }
   ],
   "source": [
    "seperation_rate = 0.3\n",
    "data_obj = DataGeneration('ThoracicSurgery', './ThoracicSurgery.csv', seperation_rate,True)\n",
    "\n",
    "(training_data, test_data) = data_obj.generate()\n",
    "\n",
    "print(\"training_data.shape = \", training_data.shape)\n",
    "print(\"test_data.shape = \", test_data.shape)\n"
   ]
  },
  {
   "cell_type": "code",
   "execution_count": 25,
   "metadata": {},
   "outputs": [
    {
     "name": "stdout",
     "output_type": "stream",
     "text": [
      "training_x_data.shape =  (329, 17)\n",
      "training_t_data.shape =  (329, 1)\n",
      "test_x_data.shape =  (141, 17)\n",
      "test_x_data.shape =  (141, 17)\n"
     ]
    }
   ],
   "source": [
    "training_x_data = training_data[ :, 0:-1]\n",
    "training_t_data = training_data[ :, [-1]]\n",
    "\n",
    "print(\"training_x_data.shape = \", training_x_data.shape)\n",
    "print(\"training_t_data.shape = \", training_t_data.shape)\n",
    "\n",
    "test_x_data = test_data[ :, 0:-1]\n",
    "test_t_data = test_data[ :, [-1]]\n",
    "\n",
    "print(\"test_x_data.shape = \", test_x_data.shape)\n",
    "print(\"test_x_data.shape = \", test_x_data.shape)"
   ]
  },
  {
   "cell_type": "code",
   "execution_count": 26,
   "metadata": {},
   "outputs": [],
   "source": [
    "learning_rate = 0.01\n",
    "input_nodes = training_x_data.shape[1]\n",
    "hidden_nodes = 10\n",
    "output_nodes = 1\n",
    "epochs = 1"
   ]
  },
  {
   "cell_type": "code",
   "execution_count": 27,
   "metadata": {},
   "outputs": [],
   "source": [
    "X = tf.placeholder(tf.float32, [None, input_nodes])\n",
    "T = tf.placeholder(tf.float32, [None, output_nodes])\n",
    "\n",
    "W2 = tf.Variable(tf.random_normal([input_nodes, hidden_nodes]))\n",
    "b2 = tf.Variable(tf.random_normal([hidden_nodes]))\n",
    "\n",
    "W3 = tf.Variable(tf.random_normal([hidden_nodes, output_nodes]))\n",
    "b3 = tf.Variable(tf.random_normal([output_nodes]))\n",
    "    "
   ]
  },
  {
   "cell_type": "code",
   "execution_count": 28,
   "metadata": {},
   "outputs": [],
   "source": [
    "Z2 = tf.matmul(X, W2) + b2\n",
    "A2 = tf.sigmoid(Z2)\n",
    "\n",
    "Z3 = tf.matmul(A2, W3) + b3\n",
    "y = A3 = tf.sigmoid(Z3)\n",
    "\n",
    "loss = -tf.reduce_mean(T * tf.log(y) + (1-T)*tf.log(1-y))"
   ]
  },
  {
   "cell_type": "code",
   "execution_count": 29,
   "metadata": {},
   "outputs": [],
   "source": [
    "optimizer = tf.train.GradientDescentOptimizer(learning_rate)\n",
    "train = optimizer.minimize(loss)"
   ]
  },
  {
   "cell_type": "code",
   "execution_count": 30,
   "metadata": {},
   "outputs": [],
   "source": [
    "predicted = tf.cast(y > 0.5, dtype = tf.float32)\n",
    "\n",
    "accuracy = tf.reduce_mean(tf.cast(tf.equal(predicted, T), dtype = tf.float32))"
   ]
  },
  {
   "cell_type": "code",
   "execution_count": 32,
   "metadata": {},
   "outputs": [
    {
     "name": "stdout",
     "output_type": "stream",
     "text": [
      "epochs :  1 step =  0 loss_val =  0.43519452\n",
      "epochs :  1 step =  500 loss_val =  0.42628673\n",
      "epochs :  1 step =  1000 loss_val =  0.4244888\n",
      "epochs :  1 step =  1500 loss_val =  0.42278\n",
      "epochs :  1 step =  2000 loss_val =  0.42113966\n",
      "epochs :  1 step =  2500 loss_val =  0.419559\n",
      "epochs :  1 step =  3000 loss_val =  0.41803128\n",
      "epochs :  1 step =  3500 loss_val =  0.4165525\n",
      "epochs :  1 step =  4000 loss_val =  0.41511962\n",
      "epochs :  1 step =  4500 loss_val =  0.41373137\n",
      "epochs :  1 step =  5000 loss_val =  0.41238722\n",
      "epochs :  1 step =  5500 loss_val =  0.4110869\n",
      "epochs :  1 step =  6000 loss_val =  0.40983054\n",
      "epochs :  1 step =  6500 loss_val =  0.4086182\n",
      "epochs :  1 step =  7000 loss_val =  0.40744963\n",
      "epochs :  1 step =  7500 loss_val =  0.40632415\n",
      "epochs :  1 step =  8000 loss_val =  0.405241\n",
      "epochs :  1 step =  8500 loss_val =  0.4041985\n",
      "epochs :  1 step =  9000 loss_val =  0.40319517\n",
      "epochs :  1 step =  9500 loss_val =  0.40222904\n",
      "epochs :  1 step =  10000 loss_val =  0.4012983\n",
      "\n",
      "Elapsed time :  0:00:04.740504\n",
      "y_val.shape =  (141, 1) , predicted_val =  (141, 1)\n",
      "accuracy_val =  0.8652482\n"
     ]
    }
   ],
   "source": [
    "with tf.Session() as sess:\n",
    "    sess.run(tf.global_variables_initializer())\n",
    "    start_time = datetime.now()\n",
    "    \n",
    "    for i in range(epochs):\n",
    "        for step in range(10001):\n",
    "            loss_val, _ = sess.run([loss, train], feed_dict = {X : training_x_data, T : training_t_data})\n",
    "            \n",
    "            if step % 500 == 0:\n",
    "                print(\"epochs : \", epochs, \"step = \", step, \"loss_val = \", loss_val)\n",
    "    end_time = datetime.now()\n",
    "    \n",
    "    print(\"\")\n",
    "    print(\"Elapsed time : \", end_time - start_time)\n",
    "    \n",
    "    y_val , predicted_val, accuracy_val = sess.run([y, predicted, accuracy], feed_dict = {X:test_x_data, T: test_t_data})\n",
    "    \n",
    "    print(\"y_val.shape = \", y_val.shape, \", predicted_val = \", predicted_val.shape)\n",
    "    print(\"accuracy_val = \", accuracy_val)"
   ]
  }
 ],
 "metadata": {
  "kernelspec": {
   "display_name": "Python 3",
   "language": "python",
   "name": "python3"
  },
  "language_info": {
   "codemirror_mode": {
    "name": "ipython",
    "version": 3
   },
   "file_extension": ".py",
   "mimetype": "text/x-python",
   "name": "python",
   "nbconvert_exporter": "python",
   "pygments_lexer": "ipython3",
   "version": "3.6.8"
  }
 },
 "nbformat": 4,
 "nbformat_minor": 2
}
