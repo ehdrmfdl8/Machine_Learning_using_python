{
 "cells": [
  {
   "cell_type": "code",
   "execution_count": 2,
   "metadata": {},
   "outputs": [
    {
     "name": "stdout",
     "output_type": "stream",
     "text": [
      "W = [[0.71066813]\n",
      " [0.43986545]\n",
      " [0.32999021]] , W.shape = (3, 1) ,b=  [0.65503273] ,b.shape = (1,)\n",
      "initial error value = 1936.6221201407038 Initial W =  [[0.71066813]\n",
      " [0.43986545]\n",
      " [0.32999021]] \n",
      " , b =  [0.65503273]\n",
      "step = 0 error value =  726.8299074863287 W =  [[0.78054021]\n",
      " [0.51016705]\n",
      " [0.40225159]] , b =  [0.65556008]\n",
      "step = 400 error value =  14.433104869163735 W =  [[0.83696616]\n",
      " [0.58618991]\n",
      " [0.59716226]] , b =  [0.65628863]\n",
      "step = 800 error value =  12.44436968616159 W =  [[0.78998273]\n",
      " [0.56015768]\n",
      " [0.66826465]] , b =  [0.65610692]\n",
      "step = 1200 error value =  10.96570379406229 W =  [[0.74766935]\n",
      " [0.53994941]\n",
      " [0.72913815]] , b =  [0.65584642]\n",
      "step = 1600 error value =  9.859863171048083 W =  [[0.70954905]\n",
      " [0.52446571]\n",
      " [0.78132048]] , b =  [0.65551839]\n",
      "step = 2000 error value =  9.027887682812507 W =  [[0.67519557]\n",
      " [0.51280061]\n",
      " [0.82611112]] , b =  [0.65513236]\n",
      "step = 2400 error value =  8.398148633687098 W =  [[0.64422765]\n",
      " [0.50420874]\n",
      " [0.86460888]] , b =  [0.65469648]\n",
      "step = 2800 error value =  7.918582774471267 W =  [[0.61630407]\n",
      " [0.49807787]\n",
      " [0.8977436 ]] , b =  [0.65421768]\n",
      "step = 3200 error value =  7.551175642832276 W =  [[0.59111915]\n",
      " [0.49390612]\n",
      " [0.92630268]] , b =  [0.65370189]\n",
      "step = 3600 error value =  7.26803459381538 W =  [[0.56839894]\n",
      " [0.491283  ]\n",
      " [0.95095346]] , b =  [0.65315417]\n",
      "step = 4000 error value =  7.048586851404589 W =  [[0.54789773]\n",
      " [0.48987358]\n",
      " [0.97226199]] , b =  [0.65257885]\n",
      "step = 4400 error value =  6.877574974206999 W =  [[0.52939502]\n",
      " [0.48940534]\n",
      " [0.99070881]] , b =  [0.65197964]\n",
      "step = 4800 error value =  6.743618531814416 W =  [[0.51269282]\n",
      " [0.4896573 ]\n",
      " [1.00670226]] , b =  [0.65135972]\n",
      "step = 5200 error value =  6.638178636652808 W =  [[0.49761326]\n",
      " [0.49045089]\n",
      " [1.02058965]] , b =  [0.65072182]\n",
      "step = 5600 error value =  6.554809761803297 W =  [[0.48399646]\n",
      " [0.49164248]\n",
      " [1.03266671]] , b =  [0.65006829]\n",
      "step = 6000 error value =  6.488616958955294 W =  [[0.47169865]\n",
      " [0.49311711]\n",
      " [1.04318547]] , b =  [0.64940116]\n",
      "step = 6400 error value =  6.435860356830666 W =  [[0.4605905 ]\n",
      " [0.49478329]\n",
      " [1.052361  ]] , b =  [0.64872217]\n",
      "step = 6800 error value =  6.393665607739104 W =  [[0.45055561]\n",
      " [0.49656879]\n",
      " [1.06037701]] , b =  [0.64803284]\n",
      "step = 7200 error value =  6.359810822871579 W =  [[0.44148917]\n",
      " [0.49841702]\n",
      " [1.06739062]] , b =  [0.64733446]\n",
      "step = 7600 error value =  6.332568946434071 W =  [[0.43329679]\n",
      " [0.50028415]\n",
      " [1.07353638]] , b =  [0.64662817]\n",
      "step = 8000 error value =  6.310590485102041 W =  [[0.42589343]\n",
      " [0.50213671]\n",
      " [1.07892967]] , b =  [0.64591494]\n",
      "step = 8400 error value =  6.292815750366656 W =  [[0.41920245]\n",
      " [0.50394955]\n",
      " [1.0836695 ]] , b =  [0.64519564]\n",
      "step = 8800 error value =  6.278408792600102 W =  [[0.41315475]\n",
      " [0.50570424]\n",
      " [1.08784105]] , b =  [0.64447099]\n",
      "step = 9200 error value =  6.266707363208423 W =  [[0.40768803]\n",
      " [0.50738773]\n",
      " [1.0915176 ]] , b =  [0.64374165]\n",
      "step = 9600 error value =  6.2571847862396295 W =  [[0.40274609]\n",
      " [0.50899122]\n",
      " [1.09476236]] , b =  [0.64300818]\n",
      "step = 10000 error value =  6.249420730587424 W =  [[0.39827823]\n",
      " [0.51050931]\n",
      " [1.09762987]] , b =  [0.64227107]\n"
     ]
    },
    {
     "data": {
      "text/plain": [
       "array([179.40802674])"
      ]
     },
     "execution_count": 2,
     "metadata": {},
     "output_type": "execute_result"
    }
   ],
   "source": [
    "import numpy as np\n",
    "##################### 미분함수 ####################\n",
    "def numerical_derivative(f,x):\n",
    "    delta_x = 1e-4\n",
    "    grad = np.zeros_like(x)\n",
    "    it = np.nditer(x,flags=['multi_index'],op_flags = ['readwrite'])\n",
    "    \n",
    "    while not it.finished:\n",
    "        idx = it.multi_index\n",
    "        \n",
    "        tmp_val = x[idx]\n",
    "        x[idx] = float(tmp_val) + delta_x\n",
    "        fx1 = f(x)\n",
    "        \n",
    "        x[idx] = tmp_val - delta_x\n",
    "        fx2 = f(x)\n",
    "        grad[idx] = (fx1 - fx2) / (2*delta_x)\n",
    "        x[idx] = tmp_val\n",
    "        it.iternext()\n",
    "    return grad\n",
    "##########################################################\n",
    "#####################입력부분#############################\n",
    "load_data = np.loadtxt('./data-01.csv',delimiter=',', dtype = np.float32)\n",
    "x_data = load_data[:,0:-1]\n",
    "t_data = load_data[:,[-1]]\n",
    "\n",
    "W = np.random.rand(x_data.shape[1],1)\n",
    "b = np.random.rand(1)\n",
    "print(\"W =\", W,\", W.shape =\", W.shape, \",b= \", b,\",b.shape =\", b.shape)\n",
    "###########################################################\n",
    "def loss_func(x,t):\n",
    "    y = np.dot(x,W) + b\n",
    "    return np.sum((t-y)**2) / len(x)\n",
    "\n",
    "def error_val(x,t):\n",
    "    y = np.dot(x,W) + b\n",
    "    return np.sum((t-y)**2) / len(x)\n",
    "\n",
    "def pridict(x):\n",
    "    y = np.dot(x,W) + b\n",
    "    return y\n",
    "\n",
    "learning_rate = 1e-5\n",
    "f = lambda x : loss_func(x_data,t_data)\n",
    "print(\"initial error value =\", error_val(x_data,t_data),\"Initial W = \", W, \"\\n\",\", b = \", b)\n",
    "for step in range(10001):\n",
    "    W -= learning_rate * numerical_derivative(f,W)\n",
    "    b -= learning_rate * numerical_derivative(f,b)\n",
    "    \n",
    "    if(step % 400 == 0):\n",
    "        print(\"step =\", step, \"error value = \", error_val(x_data,t_data), \"W = \", W,\", b = \",b)\n",
    "test_score = np.array([100,98,81])\n",
    "pridict(test_score)"
   ]
  },
  {
   "cell_type": "code",
   "execution_count": 3,
   "metadata": {},
   "outputs": [
    {
     "name": "stdout",
     "output_type": "stream",
     "text": [
      "W = [[0.35006737]\n",
      " [0.16659613]\n",
      " [0.10902937]\n",
      " [0.74511039]] , W.shape = (4, 1) ,b=  [0.18421185] ,b.shape = (1,)\n",
      "initial error value = 50.93643215605147 Initial W =  [[0.35006737]\n",
      " [0.16659613]\n",
      " [0.10902937]\n",
      " [0.74511039]] \n",
      " , b =  [0.18421185]\n",
      "step = 0 error value =  50.71932224047044 W =  [[0.34984674]\n",
      " [0.1641617 ]\n",
      " [0.10974325]\n",
      " [0.74122725]] , b =  [0.18378966]\n",
      "step = 2000 error value =  0.07349534934800155 W =  [[ 0.93592556]\n",
      " [-0.97967036]\n",
      " [ 0.97004827]\n",
      " [-0.93563913]] , b =  [0.0690976]\n",
      "step = 4000 error value =  0.0019458135631335665 W =  [[ 0.9899682 ]\n",
      " [-1.00530783]\n",
      " [ 0.99834488]\n",
      " [-0.99886165]] , b =  [0.0571898]\n",
      "step = 6000 error value =  0.0011716378462747216 W =  [[ 0.99416057]\n",
      " [-1.00480032]\n",
      " [ 0.99935158]\n",
      " [-1.00156717]] , b =  [0.04643313]\n",
      "step = 8000 error value =  0.0007673389034763779 W =  [[ 0.99539284]\n",
      " [-1.00389607]\n",
      " [ 0.99949997]\n",
      " [-1.0013931 ]] , b =  [0.03759275]\n",
      "step = 10000 error value =  0.0005027209223391453 W =  [[ 0.99627706]\n",
      " [-1.0031537 ]\n",
      " [ 0.99959629]\n",
      " [-1.0011339 ]] , b =  [0.03042857]\n",
      "\n",
      "Time :  0:00:01.597279\n"
     ]
    },
    {
     "data": {
      "text/plain": [
       "array([52.28235446])"
      ]
     },
     "execution_count": 3,
     "metadata": {},
     "output_type": "execute_result"
    }
   ],
   "source": [
    "import numpy as np\n",
    "from datetime import datetime\n",
    "\n",
    "##################### 미분함수 ####################\n",
    "def numerical_derivative(f,x):\n",
    "    delta_x = 1e-4\n",
    "    grad = np.zeros_like(x)\n",
    "    it = np.nditer(x,flags=['multi_index'],op_flags = ['readwrite'])\n",
    "    \n",
    "    while not it.finished:\n",
    "        idx = it.multi_index\n",
    "        \n",
    "        tmp_val = x[idx]\n",
    "        x[idx] = float(tmp_val) + delta_x\n",
    "        fx1 = f(x)\n",
    "        \n",
    "        x[idx] = tmp_val - delta_x\n",
    "        fx2 = f(x)\n",
    "        grad[idx] = (fx1 - fx2) / (2*delta_x)\n",
    "        x[idx] = tmp_val\n",
    "        it.iternext()\n",
    "    return grad\n",
    "##########################################################\n",
    "#####################입력부분#############################\n",
    "load_data = np.loadtxt('./regression_testdata_03.csv',delimiter=',', dtype = np.float32)\n",
    "x_data = load_data[:,0:-1]\n",
    "t_data = load_data[:,[-1]]\n",
    "\n",
    "W = np.random.rand(x_data.shape[1],1)\n",
    "b = np.random.rand(1)\n",
    "print(\"W =\", W,\", W.shape =\", W.shape, \",b= \", b,\",b.shape =\", b.shape)\n",
    "###########################################################\n",
    "def loss_func(x,t):\n",
    "    y = np.dot(x,W) + b\n",
    "    return np.sum((t-y)**2) / len(x)\n",
    "\n",
    "def error_val(x,t):\n",
    "    y = np.dot(x,W) + b\n",
    "    return np.sum((t-y)**2) / len(x)\n",
    "\n",
    "def predict(x):\n",
    "    y = np.dot(x,W) + b\n",
    "    return y\n",
    "\n",
    "learning_rate = 1e-4\n",
    "f = lambda x : loss_func(x_data,t_data)\n",
    "print(\"initial error value =\", error_val(x_data,t_data),\"Initial W = \", W, \"\\n\",\", b = \", b)\n",
    "start_time = datetime.now()\n",
    "for step in range(10001):\n",
    "    W -= learning_rate * numerical_derivative(f,W)\n",
    "    b -= learning_rate * numerical_derivative(f,b)\n",
    "    \n",
    "    if(step % 2000 == 0):\n",
    "        print(\"step =\", step, \"error value = \", error_val(x_data,t_data), \"W = \", W,\", b = \",b)\n",
    "\n",
    "end_time = datetime.now()\n",
    "print(\"\")\n",
    "print(\"Time : \",end_time - start_time)\n",
    "test_score = np.array([100,98,81,30])\n",
    "predict(test_score)\n"
   ]
  },
  {
   "cell_type": "code",
   "execution_count": 4,
   "metadata": {},
   "outputs": [
    {
     "name": "stdout",
     "output_type": "stream",
     "text": [
      "predicted value =  [-0.00322842]\n"
     ]
    }
   ],
   "source": [
    "ex_data_01 = np.array([4,4,4,4])\n",
    "print(\"predicted value = \",predict(ex_data_01))"
   ]
  },
  {
   "cell_type": "code",
   "execution_count": 5,
   "metadata": {},
   "outputs": [
    {
     "name": "stdout",
     "output_type": "stream",
     "text": [
      "predicted value =  [5.00162384]\n"
     ]
    }
   ],
   "source": [
    "ex_data_02 = np.array([5,2,4,2])\n",
    "print(\"predicted value = \",predict(ex_data_02))"
   ]
  },
  {
   "cell_type": "code",
   "execution_count": 6,
   "metadata": {},
   "outputs": [
    {
     "name": "stdout",
     "output_type": "stream",
     "text": [
      "predicted value =  [2073.60462342]\n"
     ]
    }
   ],
   "source": [
    "ex_data_03 = np.array([2001,222,403,100])\n",
    "print(\"predicted value = \",predict(ex_data_03))"
   ]
  },
  {
   "cell_type": "code",
   "execution_count": null,
   "metadata": {},
   "outputs": [],
   "source": []
  }
 ],
 "metadata": {
  "kernelspec": {
   "display_name": "Python 3",
   "language": "python",
   "name": "python3"
  }
 },
 "nbformat": 4,
 "nbformat_minor": 2
}
