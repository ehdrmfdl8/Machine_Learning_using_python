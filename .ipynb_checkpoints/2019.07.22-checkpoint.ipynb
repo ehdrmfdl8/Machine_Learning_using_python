{
 "cells": [
  {
   "cell_type": "code",
   "execution_count": 24,
   "metadata": {},
   "outputs": [],
   "source": [
    "import numpy as np\n",
    "def sigmoid(z):\n",
    "    return 1 / (1+np.exp(-z))\n",
    "\n",
    "def numerical_derivative(f, x):\n",
    "    delta_x = 1e-4 # 0.0001\n",
    "    grad = np.zeros_like(x)\n",
    "    \n",
    "    it = np.nditer(x, flags=['multi_index'], op_flags=['readwrite'])\n",
    "    \n",
    "    while not it.finished:\n",
    "        idx = it.multi_index        \n",
    "        tmp_val = x[idx]\n",
    "        x[idx] = float(tmp_val) + delta_x\n",
    "        fx1 = f(x) # f(x+delta_x)\n",
    "        \n",
    "        x[idx] = tmp_val - delta_x \n",
    "        fx2 = f(x) # f(x-delta_x)\n",
    "        grad[idx] = (fx1 - fx2) / (2*delta_x)\n",
    "        \n",
    "        x[idx] = tmp_val \n",
    "        it.iternext()   \n",
    "        \n",
    "    return grad"
   ]
  },
  {
   "cell_type": "code",
   "execution_count": 28,
   "metadata": {},
   "outputs": [],
   "source": [
    "# and, or, nand, xor data\n",
    "x_data = np.array([ [0,0], [0,1], [1,0], [1,1] ])   \n",
    "\n",
    "and_tdata = np.array([0, 0, 0, 1]).reshape(4,1)\n",
    "or_tdata = np.array([0, 1, 1, 1]).reshape(4,1)\n",
    "nand_tdata = np.array([1, 1, 1, 0]).reshape(4,1)\n",
    "xor_tdata = np.array([0, 1, 1, 0]).reshape(4,1)\n",
    "\n",
    "# test data\n",
    "test_data = np.array([ [0,0], [0,1], [1,0], [1,1] ])"
   ]
  },
  {
   "cell_type": "code",
   "execution_count": 35,
   "metadata": {},
   "outputs": [
    {
     "name": "stdout",
     "output_type": "stream",
     "text": [
      "W2.shape =  (2, 2) b2.shape =  (2,) W3.shape =  (2, 1) b3.shape =  (1,)\n",
      "step = 0 ,error_rate =  3.798017876071282\n",
      "step = 1000 ,error_rate =  1.840047742764368\n",
      "step = 2000 ,error_rate =  0.15261758093456781\n",
      "step = 3000 ,error_rate =  0.060226507538031736\n",
      "step = 4000 ,error_rate =  0.03710890744549497\n",
      "step = 5000 ,error_rate =  0.026722064873533347\n",
      "step = 6000 ,error_rate =  0.020844050894732694\n",
      "step = 7000 ,error_rate =  0.017070079383409778\n",
      "step = 8000 ,error_rate =  0.01444495145887896\n",
      "step = 9000 ,error_rate =  0.01251480209856594\n",
      "step = 10000 ,error_rate =  0.011036654435727732\n",
      "\n",
      "time_escape :  0:00:04.091974\n"
     ]
    }
   ],
   "source": [
    "import numpy as np\n",
    "from datetime import datetime\n",
    "\n",
    "def loss_func(x,t):\n",
    "    delta = 1e-7\n",
    "    \n",
    "    z2 = np.dot(x,W2) + b2\n",
    "    a2 = sigmoid(z2)\n",
    "    \n",
    "    z3 = np.dot(a2,W3) + b3\n",
    "    y= a3 = sigmoid(z3)\n",
    "    \n",
    "    return -np.sum(t*np.log(y+delta)+(1-t)*np.log((1-y)+delta))\n",
    "\n",
    "def predict(test_data):\n",
    "    z2 = np.dot(test_data,W2) + b2\n",
    "    a2 = sigmoid(z2)\n",
    "    \n",
    "    z3 = np.dot(a2,W3) + b3\n",
    "    y= a3 = sigmoid(z3)\n",
    "    \n",
    "    if y >= 0.5:\n",
    "        result = 1\n",
    "    else:\n",
    "        result = 0\n",
    "    return y,result\n",
    "\n",
    "def accruracy(test_xdata,test_tdata):\n",
    "    matched_list = []\n",
    "    for index in range(len(test_xdata)):\n",
    "        (real_val, logical_val) = predict(test_xdata[index])\n",
    "        if logical_val == test_tdata[index]:\n",
    "            matched_list.append(True)\n",
    "            \n",
    "    return len(matched_list) / len(test_xdata)\n",
    "    \n",
    "def feed_forward(x,t):\n",
    "    \n",
    "    delta = 1e-7\n",
    "    \n",
    "    z2 = np.dot(x,W2) + b2\n",
    "    a2 = sigmoid(z2)\n",
    "    \n",
    "    z3 = np.dot(a2,W3) + b3\n",
    "    y= a3 = sigmoid(z3)\n",
    "    \n",
    "    return -np.sum(t*np.log(y+delta)+(1-t)*np.log((1-y)+delta))\n",
    "\n",
    "\n",
    "input_nodes = 2\n",
    "hidden_nodes = 2\n",
    "output_nodes = 1\n",
    "\n",
    "W2 = np.random.rand(input_nodes,hidden_nodes)\n",
    "b2 = np.random.rand(hidden_nodes)\n",
    "\n",
    "W3 = np.random.rand(hidden_nodes,output_nodes)\n",
    "b3 = np.random.rand(output_nodes)\n",
    "\n",
    "print(\"W2.shape = \",W2.shape,\"b2.shape = \",b2.shape,\"W3.shape = \", W3.shape, \"b3.shape = \", b3.shape)\n",
    "\n",
    "learning_rate = 1e-1\n",
    "iteration_count = 10001\n",
    "f = lambda x : loss_func(x_data,xor_tdata)\n",
    "start_time = datetime.now()\n",
    "for step in range(iteration_count):\n",
    "    W2 -= learning_rate * numerical_derivative(f,W2)\n",
    "\n",
    "    b2 -= learning_rate * numerical_derivative(f,b2)\n",
    "\n",
    "    W3 -= learning_rate * numerical_derivative(f, W3)\n",
    "\n",
    "    b3 -= learning_rate * numerical_derivative(f, b3)\n",
    "    if (step % 1000) == 0:\n",
    "        print(\"step =\",step,\",error_rate = \",loss_func(x_data,xor_tdata))\n",
    "end_time = datetime.now()\n",
    "print(\"\")\n",
    "print(\"time_escape : \", end_time - start_time)"
   ]
  },
  {
   "cell_type": "code",
   "execution_count": 34,
   "metadata": {},
   "outputs": [
    {
     "name": "stdout",
     "output_type": "stream",
     "text": [
      "real_val [0.0034058] , logical_val =  0\n",
      "real_val [0.99757929] , logical_val =  1\n",
      "real_val [0.99758457] , logical_val =  1\n",
      "real_val [0.00251528] , logical_val =  0\n"
     ]
    }
   ],
   "source": [
    "for data in test_data:\n",
    "    (real_val, logical_val) = predict(data)\n",
    "    print(\"real_val\", real_val, \", logical_val = \", logical_val)"
   ]
  },
  {
   "cell_type": "markdown",
   "metadata": {},
   "source": [
    "# Hyper-parameter 선택 조건\n",
    "1. 민감도가 적을 조건 (error_rate)\n",
    "2. 수행시간이 가장 짧은 조간(performance)\n",
    "3. 서버의 백엔드에 최적화 시켜야한다. "
   ]
  },
  {
   "cell_type": "code",
   "execution_count": null,
   "metadata": {},
   "outputs": [],
   "source": []
  }
 ],
 "metadata": {
  "kernelspec": {
   "display_name": "Python 3",
   "language": "python",
   "name": "python3"
  },
  "language_info": {
   "codemirror_mode": {
    "name": "ipython",
    "version": 3
   },
   "file_extension": ".py",
   "mimetype": "text/x-python",
   "name": "python",
   "nbconvert_exporter": "python",
   "pygments_lexer": "ipython3",
   "version": "3.6.5"
  }
 },
 "nbformat": 4,
 "nbformat_minor": 2
}
