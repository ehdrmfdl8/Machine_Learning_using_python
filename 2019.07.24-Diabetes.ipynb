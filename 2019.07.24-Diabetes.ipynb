{
 "cells": [
  {
   "cell_type": "markdown",
   "metadata": {},
   "source": [
    "# Diabetes class 구현"
   ]
  },
  {
   "cell_type": "code",
   "execution_count": 5,
   "metadata": {},
   "outputs": [],
   "source": [
    "import numpy as np\n",
    "from datetime import datetime\n",
    "\n",
    "def sigmoid(z):\n",
    "    return 1 / (1 + np.exp(-z))\n",
    "\n",
    "def numerical_derivative(f, x):\n",
    "    delta_x = 1e-4 # 0.0001\n",
    "    grad = np.zeros_like(x)\n",
    "    \n",
    "    it = np.nditer(x, flags=['multi_index'], op_flags=['readwrite'])\n",
    "    \n",
    "    while not it.finished:\n",
    "        idx = it.multi_index        \n",
    "        tmp_val = x[idx]\n",
    "        x[idx] = float(tmp_val) + delta_x\n",
    "        fx1 = f(x) # f(x+delta_x)\n",
    "        \n",
    "        x[idx] = tmp_val - delta_x \n",
    "        fx2 = f(x) # f(x-delta_x)\n",
    "        grad[idx] = (fx1 - fx2) / (2*delta_x)\n",
    "        \n",
    "        x[idx] = tmp_val \n",
    "        it.iternext()   \n",
    "        \n",
    "    return grad"
   ]
  },
  {
   "cell_type": "code",
   "execution_count": 17,
   "metadata": {},
   "outputs": [],
   "source": [
    "import numpy as np\n",
    "from datetime import datetime\n",
    "\n",
    "class Diabetes:\n",
    "    def __init__(self,name,xdata,tdata,i_node,h1_node,o_node,learning_rate,iteration_count):\n",
    "        self.name = name\n",
    "        self.xdata = xdata\n",
    "        if xdata.ndim == 1:\n",
    "            self.xdata = xdata.reshape(-1,1)\n",
    "            self.tdata = tdata.reshape(-1,1)\n",
    "        elif xdata.ndim == 2:\n",
    "            self.xdata = xdata\n",
    "            self.tdata = tdata.reshape(-1,1)\n",
    "        self.i_node = i_node\n",
    "        self.h1_node = h1_node\n",
    "        self.o_node = o_node\n",
    "        self.learning_rate = learning_rate\n",
    "        self.iteration_count = iteration_count\n",
    "        \n",
    "        self.W2 = np.random.rand(self.i_node,self.h1_node)\n",
    "        self.b2 = np.random.rand(self.h1_node)\n",
    "        \n",
    "        self.W3 = np.random.rand(self.h1_node,self.o_node)\n",
    "        self.b3 = np.random.rand(self.o_node)\n",
    "    \n",
    "    def loss_func(self):\n",
    "        delta = 1e-7\n",
    "        \n",
    "        z2 = np.dot(self.xdata, self.W2) + self.b2\n",
    "        a2 = sigmoid(z2)\n",
    "        \n",
    "        z3 = np.dot(a2,self.W3) + self.b3\n",
    "        y = a3 = sigmoid(z3) \n",
    "        \n",
    "        return -np.sum(self.tdata * np.log(y + delta) + (1 - self.tdata) * np.log((1 - y) + delta))\n",
    "    \n",
    "    def predict(self,test_xdata):\n",
    "        z2 = np.dot(test_xdata, self.W2) + self.b2\n",
    "        a2 = sigmoid(z2)\n",
    "        \n",
    "        z3 = np.dot(a2,self.W3) + self.b3\n",
    "        y = a3 = sigmoid(z3)\n",
    "        \n",
    "        if y >= 0.5:\n",
    "            result = 1\n",
    "        else:\n",
    "            result = 0\n",
    "        \n",
    "        return y, result\n",
    "    \n",
    "    def accuracy(self,test_xdata,test_tdata):\n",
    "        matched_list = []\n",
    "        not_matched_list = []\n",
    "        index_label_prediction_list = []\n",
    "        for index in range(len(test_xdata)):\n",
    "            (real_val, logical_val) = self.predict(test_xdata[index])\n",
    "            if logical_val == test_tdata[index]:\n",
    "                matched_list.append(index)\n",
    "            else:\n",
    "                not_matched_list.append(index)\n",
    "            T_data = test_tdata[index]\n",
    "            index_label_prediction_list.append([index,T_data,logical_val])\n",
    "\n",
    "        print(\"accuracy => \", len(matched_list) / len(test_xdata))\n",
    "        return matched_list, not_matched_list, index_label_prediction_list\n",
    "    \n",
    "    def train(self):\n",
    "        f = lambda x : self.loss_func()\n",
    "        strat_time = datetime.now()\n",
    "        for step in range(self.iteration_count):\n",
    "            self.W2 -= self.learning_rate * numerical_derivative(f,self.W2)\n",
    "            self.b2 -= self.learning_rate * numerical_derivative(f,self.b2)\n",
    "            \n",
    "            self.W3 -= self.learning_rate * numerical_derivative(f,self.W3)\n",
    "            self.b3 -= self.learning_rate * numerical_derivative(f,self.b3)\n",
    "            \n",
    "            if (step % 400) == 0:\n",
    "                print(\"step = \", step, \"error_val = \", self.loss_func())\n",
    "        end_time = datetime.now()\n",
    "        print(\"\")\n",
    "        print(\"elasped time: \", end_time - strat_time)"
   ]
  },
  {
   "cell_type": "code",
   "execution_count": 18,
   "metadata": {},
   "outputs": [
    {
     "name": "stdout",
     "output_type": "stream",
     "text": [
      "x_data.ndim =  2 , x_data.shape =  (500, 8)\n",
      "t_data.ndim =  2 , t_data.shape =  (500, 1)\n"
     ]
    }
   ],
   "source": [
    "load_data = np.loadtxt('./diabetes (1).csv',delimiter=',', dtype = np.float32)\n",
    "x_data = load_data[0:500,0:-1]\n",
    "t_data = load_data[0:500,[-1]]\n",
    "\n",
    "test_x_data = load_data[501:,0:-1]\n",
    "test_t_data = load_data[501:,[-1]]\n",
    "\n",
    "#데이터 차원 및 shape 확인\n",
    "print(\"x_data.ndim = \", x_data.ndim,\", x_data.shape = \", x_data.shape)\n",
    "print(\"t_data.ndim = \", t_data.ndim,\", t_data.shape = \", t_data.shape)"
   ]
  },
  {
   "cell_type": "code",
   "execution_count": 15,
   "metadata": {},
   "outputs": [
    {
     "name": "stdout",
     "output_type": "stream",
     "text": [
      "step =  0 error_val =  345.33625296901636\n",
      "step =  400 error_val =  252.6510485779644\n",
      "step =  800 error_val =  245.91983008478226\n",
      "step =  1200 error_val =  244.77191449649752\n",
      "step =  1600 error_val =  244.1521759962049\n",
      "step =  2000 error_val =  243.64553655412647\n",
      "step =  2400 error_val =  243.17071917113623\n",
      "step =  2800 error_val =  242.73666875205134\n",
      "step =  3200 error_val =  242.35334218969678\n",
      "step =  3600 error_val =  242.01237343562036\n",
      "step =  4000 error_val =  241.69206214592435\n",
      "step =  4400 error_val =  241.35798939790016\n",
      "step =  4800 error_val =  240.95884063696172\n",
      "step =  5200 error_val =  240.44993370678696\n",
      "step =  5600 error_val =  239.85891813583356\n",
      "step =  6000 error_val =  239.26592990248363\n",
      "step =  6400 error_val =  238.72574433630558\n",
      "step =  6800 error_val =  238.25387146587227\n",
      "step =  7200 error_val =  237.8392699836998\n",
      "step =  7600 error_val =  237.45930811134687\n",
      "step =  8000 error_val =  237.0896925275495\n",
      "step =  8400 error_val =  236.70780073945525\n",
      "step =  8800 error_val =  236.29283747287818\n",
      "step =  9200 error_val =  235.82656020533759\n",
      "step =  9600 error_val =  235.29645372877988\n",
      "step =  10000 error_val =  234.70075385180388\n",
      "\n",
      "elasped time:  0:00:19.969591\n"
     ]
    }
   ],
   "source": [
    "i_node = x_data.shape[1]\n",
    "h1_node = 2\n",
    "o_node = t_data.shape[1]\n",
    "\n",
    "lr = 1e-3\n",
    "iter_count = 10001\n",
    "\n",
    "obj = Diabetes(\"Diabetes\",x_data,t_data,i_node,h1_node,o_node,lr,iter_count)\n",
    "obj.train()\n",
    "\n",
    "\n"
   ]
  },
  {
   "cell_type": "code",
   "execution_count": 19,
   "metadata": {},
   "outputs": [
    {
     "name": "stdout",
     "output_type": "stream",
     "text": [
      "accuracy =>  0.813953488372093\n",
      "[[0, array([1.], dtype=float32), 1], [1, array([1.], dtype=float32), 1], [2, array([0.], dtype=float32), 1], [3, array([1.], dtype=float32), 1], [4, array([1.], dtype=float32), 1], [5, array([1.], dtype=float32), 1], [6, array([1.], dtype=float32), 1], [7, array([0.], dtype=float32), 0], [8, array([0.], dtype=float32), 0], [9, array([1.], dtype=float32), 1], [10, array([1.], dtype=float32), 1], [11, array([1.], dtype=float32), 1], [12, array([1.], dtype=float32), 1], [13, array([1.], dtype=float32), 1], [14, array([0.], dtype=float32), 0], [15, array([1.], dtype=float32), 1], [16, array([1.], dtype=float32), 1], [17, array([1.], dtype=float32), 1], [18, array([1.], dtype=float32), 1], [19, array([1.], dtype=float32), 1], [20, array([1.], dtype=float32), 1], [21, array([1.], dtype=float32), 1], [22, array([1.], dtype=float32), 1], [23, array([1.], dtype=float32), 1], [24, array([1.], dtype=float32), 1], [25, array([1.], dtype=float32), 1], [26, array([0.], dtype=float32), 1], [27, array([1.], dtype=float32), 1], [28, array([1.], dtype=float32), 1], [29, array([1.], dtype=float32), 1], [30, array([0.], dtype=float32), 0], [31, array([0.], dtype=float32), 1], [32, array([0.], dtype=float32), 1], [33, array([0.], dtype=float32), 1], [34, array([1.], dtype=float32), 1], [35, array([1.], dtype=float32), 1], [36, array([0.], dtype=float32), 0], [37, array([0.], dtype=float32), 0], [38, array([1.], dtype=float32), 1], [39, array([1.], dtype=float32), 1], [40, array([1.], dtype=float32), 0], [41, array([1.], dtype=float32), 1], [42, array([1.], dtype=float32), 1], [43, array([1.], dtype=float32), 1], [44, array([1.], dtype=float32), 1], [45, array([1.], dtype=float32), 1], [46, array([1.], dtype=float32), 1], [47, array([1.], dtype=float32), 1], [48, array([1.], dtype=float32), 1], [49, array([1.], dtype=float32), 0], [50, array([1.], dtype=float32), 1], [51, array([0.], dtype=float32), 1], [52, array([0.], dtype=float32), 0], [53, array([1.], dtype=float32), 1], [54, array([1.], dtype=float32), 1], [55, array([1.], dtype=float32), 1], [56, array([1.], dtype=float32), 1], [57, array([1.], dtype=float32), 1], [58, array([1.], dtype=float32), 1], [59, array([1.], dtype=float32), 0], [60, array([0.], dtype=float32), 1], [61, array([1.], dtype=float32), 1], [62, array([1.], dtype=float32), 1], [63, array([1.], dtype=float32), 1], [64, array([1.], dtype=float32), 1], [65, array([1.], dtype=float32), 1], [66, array([1.], dtype=float32), 1], [67, array([1.], dtype=float32), 1], [68, array([0.], dtype=float32), 0], [69, array([1.], dtype=float32), 0], [70, array([0.], dtype=float32), 0], [71, array([0.], dtype=float32), 0], [72, array([1.], dtype=float32), 1], [73, array([1.], dtype=float32), 1], [74, array([1.], dtype=float32), 1], [75, array([0.], dtype=float32), 0], [76, array([1.], dtype=float32), 1], [77, array([0.], dtype=float32), 0], [78, array([1.], dtype=float32), 1], [79, array([0.], dtype=float32), 0], [80, array([1.], dtype=float32), 1], [81, array([0.], dtype=float32), 0], [82, array([1.], dtype=float32), 1], [83, array([0.], dtype=float32), 0], [84, array([1.], dtype=float32), 1], [85, array([1.], dtype=float32), 0], [86, array([0.], dtype=float32), 0], [87, array([1.], dtype=float32), 1], [88, array([1.], dtype=float32), 1], [89, array([0.], dtype=float32), 0], [90, array([1.], dtype=float32), 1], [91, array([1.], dtype=float32), 1], [92, array([1.], dtype=float32), 1], [93, array([1.], dtype=float32), 1], [94, array([0.], dtype=float32), 0], [95, array([0.], dtype=float32), 0], [96, array([1.], dtype=float32), 1], [97, array([0.], dtype=float32), 0], [98, array([1.], dtype=float32), 1], [99, array([1.], dtype=float32), 0], [100, array([1.], dtype=float32), 1], [101, array([1.], dtype=float32), 1], [102, array([0.], dtype=float32), 0], [103, array([0.], dtype=float32), 0], [104, array([1.], dtype=float32), 1], [105, array([0.], dtype=float32), 0], [106, array([1.], dtype=float32), 1], [107, array([1.], dtype=float32), 1], [108, array([1.], dtype=float32), 1], [109, array([0.], dtype=float32), 0], [110, array([0.], dtype=float32), 1], [111, array([1.], dtype=float32), 1], [112, array([1.], dtype=float32), 1], [113, array([1.], dtype=float32), 0], [114, array([1.], dtype=float32), 1], [115, array([1.], dtype=float32), 1], [116, array([1.], dtype=float32), 1], [117, array([1.], dtype=float32), 1], [118, array([1.], dtype=float32), 0], [119, array([1.], dtype=float32), 0], [120, array([1.], dtype=float32), 1], [121, array([0.], dtype=float32), 1], [122, array([1.], dtype=float32), 1], [123, array([1.], dtype=float32), 1], [124, array([1.], dtype=float32), 1], [125, array([1.], dtype=float32), 1], [126, array([0.], dtype=float32), 1], [127, array([1.], dtype=float32), 1], [128, array([1.], dtype=float32), 1], [129, array([0.], dtype=float32), 1], [130, array([1.], dtype=float32), 1], [131, array([1.], dtype=float32), 1], [132, array([1.], dtype=float32), 1], [133, array([0.], dtype=float32), 0], [134, array([1.], dtype=float32), 1], [135, array([1.], dtype=float32), 1], [136, array([1.], dtype=float32), 0], [137, array([0.], dtype=float32), 1], [138, array([0.], dtype=float32), 0], [139, array([0.], dtype=float32), 1], [140, array([1.], dtype=float32), 1], [141, array([1.], dtype=float32), 1], [142, array([1.], dtype=float32), 1], [143, array([1.], dtype=float32), 1], [144, array([1.], dtype=float32), 1], [145, array([1.], dtype=float32), 1], [146, array([0.], dtype=float32), 0], [147, array([1.], dtype=float32), 1], [148, array([1.], dtype=float32), 0], [149, array([0.], dtype=float32), 1], [150, array([1.], dtype=float32), 0], [151, array([0.], dtype=float32), 0], [152, array([0.], dtype=float32), 0], [153, array([0.], dtype=float32), 0], [154, array([0.], dtype=float32), 1], [155, array([1.], dtype=float32), 1], [156, array([0.], dtype=float32), 1], [157, array([0.], dtype=float32), 1], [158, array([1.], dtype=float32), 1], [159, array([1.], dtype=float32), 1], [160, array([1.], dtype=float32), 0], [161, array([1.], dtype=float32), 1], [162, array([1.], dtype=float32), 1], [163, array([1.], dtype=float32), 1], [164, array([1.], dtype=float32), 1], [165, array([0.], dtype=float32), 0], [166, array([0.], dtype=float32), 0], [167, array([1.], dtype=float32), 1], [168, array([0.], dtype=float32), 1], [169, array([1.], dtype=float32), 1], [170, array([1.], dtype=float32), 1], [171, array([0.], dtype=float32), 0], [172, array([1.], dtype=float32), 1], [173, array([0.], dtype=float32), 1], [174, array([1.], dtype=float32), 1], [175, array([1.], dtype=float32), 1], [176, array([1.], dtype=float32), 1], [177, array([1.], dtype=float32), 1], [178, array([1.], dtype=float32), 1], [179, array([0.], dtype=float32), 0], [180, array([1.], dtype=float32), 1], [181, array([0.], dtype=float32), 0], [182, array([1.], dtype=float32), 0], [183, array([0.], dtype=float32), 0], [184, array([1.], dtype=float32), 1], [185, array([0.], dtype=float32), 0], [186, array([0.], dtype=float32), 0], [187, array([1.], dtype=float32), 1], [188, array([1.], dtype=float32), 1], [189, array([1.], dtype=float32), 1], [190, array([1.], dtype=float32), 1], [191, array([0.], dtype=float32), 1], [192, array([0.], dtype=float32), 0], [193, array([1.], dtype=float32), 0], [194, array([1.], dtype=float32), 1], [195, array([1.], dtype=float32), 1], [196, array([0.], dtype=float32), 1], [197, array([1.], dtype=float32), 1], [198, array([0.], dtype=float32), 0], [199, array([0.], dtype=float32), 1], [200, array([1.], dtype=float32), 0], [201, array([1.], dtype=float32), 1], [202, array([0.], dtype=float32), 0], [203, array([1.], dtype=float32), 1], [204, array([1.], dtype=float32), 1], [205, array([0.], dtype=float32), 0], [206, array([0.], dtype=float32), 0], [207, array([1.], dtype=float32), 1], [208, array([1.], dtype=float32), 1], [209, array([0.], dtype=float32), 1], [210, array([1.], dtype=float32), 1], [211, array([1.], dtype=float32), 1], [212, array([0.], dtype=float32), 1], [213, array([1.], dtype=float32), 1], [214, array([1.], dtype=float32), 1], [215, array([1.], dtype=float32), 1], [216, array([1.], dtype=float32), 1], [217, array([1.], dtype=float32), 1], [218, array([1.], dtype=float32), 1], [219, array([1.], dtype=float32), 1], [220, array([0.], dtype=float32), 1], [221, array([0.], dtype=float32), 1], [222, array([0.], dtype=float32), 0], [223, array([1.], dtype=float32), 1], [224, array([1.], dtype=float32), 1], [225, array([1.], dtype=float32), 1], [226, array([1.], dtype=float32), 1], [227, array([1.], dtype=float32), 1], [228, array([1.], dtype=float32), 1], [229, array([0.], dtype=float32), 1], [230, array([0.], dtype=float32), 0], [231, array([1.], dtype=float32), 1], [232, array([1.], dtype=float32), 1], [233, array([0.], dtype=float32), 0], [234, array([1.], dtype=float32), 0], [235, array([1.], dtype=float32), 1], [236, array([0.], dtype=float32), 0], [237, array([1.], dtype=float32), 1], [238, array([0.], dtype=float32), 0], [239, array([0.], dtype=float32), 1], [240, array([0.], dtype=float32), 1], [241, array([1.], dtype=float32), 1], [242, array([1.], dtype=float32), 1], [243, array([0.], dtype=float32), 0], [244, array([0.], dtype=float32), 0], [245, array([0.], dtype=float32), 0], [246, array([1.], dtype=float32), 0], [247, array([0.], dtype=float32), 0], [248, array([1.], dtype=float32), 1], [249, array([0.], dtype=float32), 0], [250, array([1.], dtype=float32), 1], [251, array([0.], dtype=float32), 0], [252, array([1.], dtype=float32), 1], [253, array([1.], dtype=float32), 1], [254, array([1.], dtype=float32), 1], [255, array([1.], dtype=float32), 1], [256, array([0.], dtype=float32), 1], [257, array([1.], dtype=float32), 1]]\n"
     ]
    }
   ],
   "source": [
    "(matched_list,not_not_matched_list, index_label_prediction_list) = obj.accuracy(test_x_data,test_t_data)\n",
    "print(index_label_prediction_list)"
   ]
  },
  {
   "cell_type": "code",
   "execution_count": null,
   "metadata": {},
   "outputs": [],
   "source": []
  }
 ],
 "metadata": {
  "kernelspec": {
   "display_name": "Python 3",
   "language": "python",
   "name": "python3"
  },
  "language_info": {
   "codemirror_mode": {
    "name": "ipython",
    "version": 3
   },
   "file_extension": ".py",
   "mimetype": "text/x-python",
   "name": "python",
   "nbconvert_exporter": "python",
   "pygments_lexer": "ipython3",
   "version": "3.6.5"
  }
 },
 "nbformat": 4,
 "nbformat_minor": 2
}
