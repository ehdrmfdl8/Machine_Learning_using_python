{
 "cells": [
  {
   "cell_type": "code",
   "execution_count": 1,
   "metadata": {},
   "outputs": [
    {
     "name": "stdout",
     "output_type": "stream",
     "text": [
      "[[1 2]\n",
      " [3 4]\n",
      " [5 6]]\n",
      "[[1 2 3 4 5 6]]\n"
     ]
    }
   ],
   "source": [
    "import numpy as np\n",
    "D = np.array([[1,2,3],[4,5,6]])\n",
    "X = D.reshape(-1,2) # 행은 상관 없이 열을 2로 바꾼다. reshape 만 가능한 방법\n",
    "Y = D.reshape(-1,6) # 행은 상관 없이 열을 6로 바꾼다.\n",
    "print(X)\n",
    "print(Y)"
   ]
  },
  {
   "cell_type": "code",
   "execution_count": 2,
   "metadata": {},
   "outputs": [
    {
     "name": "stdout",
     "output_type": "stream",
     "text": [
      "[[1 2]\n",
      " [3 4]\n",
      " [5 6]]\n",
      "[[1 3 5]\n",
      " [2 4 6]]\n"
     ]
    }
   ],
   "source": [
    "A = np.array([[1,2],[3,4],[5,6]])\n",
    "print(A)\n",
    "print(A.T)"
   ]
  },
  {
   "cell_type": "code",
   "execution_count": 7,
   "metadata": {},
   "outputs": [
    {
     "name": "stdout",
     "output_type": "stream",
     "text": [
      "[1 2 3 4 5]\n",
      "[[1]\n",
      " [2]\n",
      " [3]\n",
      " [4]\n",
      " [5]]\n"
     ]
    }
   ],
   "source": [
    "C = np.array([1,2,3,4,5]) #1행 5열은 벡터로 인식하게 된다.\n",
    "D = C.T #벡터를 전치행렬을 해도 변하지 않는다.\n",
    "E = C.reshape(1,5).T #벡터를 matrix로 변화시키고 전치행렬을 시킨다.\n",
    "print(D)\n",
    "print(E)"
   ]
  },
  {
   "cell_type": "code",
   "execution_count": 8,
   "metadata": {},
   "outputs": [
    {
     "name": "stdout",
     "output_type": "stream",
     "text": [
      "[[10 20]\n",
      " [30 40]\n",
      " [50 60]]\n"
     ]
    }
   ],
   "source": [
    "A = np.array([10,20,30,40,50,60]).reshape(3,2)\n",
    "print(A)"
   ]
  },
  {
   "cell_type": "code",
   "execution_count": 9,
   "metadata": {},
   "outputs": [
    {
     "name": "stdout",
     "output_type": "stream",
     "text": [
      "10   10\n"
     ]
    }
   ],
   "source": [
    "print(A[0,0] , \" \", A[0][0]) # A[0,0] 과 A[0][0] 은 같다."
   ]
  },
  {
   "cell_type": "code",
   "execution_count": 14,
   "metadata": {},
   "outputs": [
    {
     "name": "stdout",
     "output_type": "stream",
     "text": [
      "A[0:-1,1:2] ==  [[20]\n",
      " [40]]\n"
     ]
    }
   ],
   "source": [
    "print(\"A[0:-1,1:2] == \", A[0:-1, 1:2]) #0~-1-1 인 행부터 1~2-1 인 행까지"
   ]
  },
  {
   "cell_type": "code",
   "execution_count": 15,
   "metadata": {},
   "outputs": [
    {
     "name": "stdout",
     "output_type": "stream",
     "text": [
      "[[10 20]\n",
      " [30 40]\n",
      " [50 60]]\n"
     ]
    }
   ],
   "source": [
    "print(A[:,:]) # A[:,:] 은 모든 행, 모든열"
   ]
  },
  {
   "cell_type": "code",
   "execution_count": 1,
   "metadata": {},
   "outputs": [
    {
     "name": "stdout",
     "output_type": "stream",
     "text": [
      "[[10 20 30 40]\n",
      " [50 60 70 80]] \n",
      "\n",
      "A.shape == (2, 4) \n",
      "\n",
      "index = (0, 0) , value = 10\n",
      "index = (0, 1) , value = 20\n",
      "index = (0, 2) , value = 30\n",
      "index = (0, 3) , value = 40\n",
      "index = (1, 0) , value = 50\n",
      "index = (1, 1) , value = 60\n",
      "index = (1, 2) , value = 70\n",
      "index = (1, 3) , value = 80\n"
     ]
    }
   ],
   "source": [
    "import numpy as np\n",
    "A = np.array([[10,20,30,40],[50,60,70,80]])\n",
    "print(A, \"\\n\")\n",
    "print(\"A.shape ==\", A.shape, \"\\n\")\n",
    "#행렬 A의 iterator 생성\n",
    "it = np.nditer(A,flags=['multi_index'],op_flags =['readwrite'])\n",
    "# 순서대로 1.반복할배열,2.반복자릐 동작을 제어하는 플래그,3.피연산자에 대한 플래그 (readonly,readwrite,writeonly)\n",
    "#multiindex는 모든 인덱스를 가리킴 처음에는 (0,0)부터 시작 메모리 순서대로 배열의 요소를 방문한다.\n",
    "while not it.finished:\n",
    "    idx = it.multi_index\n",
    "    print(\"index =\",idx, \", value =\",A[idx])\n",
    "    it.iternext() #다음으로 증가시키는것"
   ]
  },
  {
   "cell_type": "code",
   "execution_count": 9,
   "metadata": {},
   "outputs": [
    {
     "name": "stdout",
     "output_type": "stream",
     "text": [
      "[[ 73.  80.  75. 152.]\n",
      " [ 93.  88.  93. 185.]\n",
      " [ 89.  91.  90. 180.]\n",
      " [ 96.  98. 100. 196.]\n",
      " [ 73.  66.  70. 142.]\n",
      " [ 53.  46.  55. 101.]\n",
      " [ 69.  74.  77. 149.]\n",
      " [ 47.  56.  60. 115.]\n",
      " [ 87.  79.  90. 175.]\n",
      " [ 79.  70.  88. 164.]\n",
      " [ 69.  70.  73. 141.]\n",
      " [ 70.  65.  74. 141.]\n",
      " [ 93.  95.  91. 184.]\n",
      " [ 79.  80.  73. 152.]\n",
      " [ 70.  73.  78. 148.]\n",
      " [ 93.  89.  96. 192.]\n",
      " [ 78.  75.  68. 147.]\n",
      " [ 81.  90.  93. 183.]\n",
      " [ 88.  92.  86. 177.]\n",
      " [ 78.  83.  77. 159.]\n",
      " [ 82.  86.  90. 177.]\n",
      " [ 86.  82.  89. 175.]\n",
      " [ 78.  83.  85. 175.]\n",
      " [ 76.  83.  71. 149.]\n",
      " [ 96.  93.  95. 192.]]\n",
      "(25, 4)\n",
      "[[ 73.  80.  75.]\n",
      " [ 93.  88.  93.]\n",
      " [ 89.  91.  90.]\n",
      " [ 96.  98. 100.]\n",
      " [ 73.  66.  70.]\n",
      " [ 53.  46.  55.]\n",
      " [ 69.  74.  77.]\n",
      " [ 47.  56.  60.]\n",
      " [ 87.  79.  90.]\n",
      " [ 79.  70.  88.]\n",
      " [ 69.  70.  73.]\n",
      " [ 70.  65.  74.]\n",
      " [ 93.  95.  91.]\n",
      " [ 79.  80.  73.]\n",
      " [ 70.  73.  78.]\n",
      " [ 93.  89.  96.]\n",
      " [ 78.  75.  68.]\n",
      " [ 81.  90.  93.]\n",
      " [ 88.  92.  86.]\n",
      " [ 78.  83.  77.]\n",
      " [ 82.  86.  90.]\n",
      " [ 86.  82.  89.]\n",
      " [ 78.  83.  85.]\n",
      " [ 76.  83.  71.]\n",
      " [ 96.  93.  95.]]\n",
      "[[152.]\n",
      " [185.]\n",
      " [180.]\n",
      " [196.]\n",
      " [142.]\n",
      " [101.]\n",
      " [149.]\n",
      " [115.]\n",
      " [175.]\n",
      " [164.]\n",
      " [141.]\n",
      " [141.]\n",
      " [184.]\n",
      " [152.]\n",
      " [148.]\n",
      " [192.]\n",
      " [147.]\n",
      " [183.]\n",
      " [177.]\n",
      " [159.]\n",
      " [177.]\n",
      " [175.]\n",
      " [175.]\n",
      " [149.]\n",
      " [192.]]\n",
      "x_data.ndim = 2 , x_data.shape = (25, 3)\n",
      "t_data.ndim = 2 , t_data.shape = (25, 1)\n"
     ]
    }
   ],
   "source": [
    "loaded_data = np.loadtxt('./data-01.csv', delimiter=',', dtype = np.float32) \n",
    "# np.float32 데이터타입을 실수형으로 바꾸어주어서 연산시간을 줄여준다.\n",
    "x_data = loaded_data[ :, 0:-1]\n",
    "t_data = loaded_data[ :, [-1]]\n",
    "#데이터 차원 및 shape 확인\n",
    "print(loaded_data)\n",
    "print(loaded_data.shape)\n",
    "print(x_data)\n",
    "print(t_data)\n",
    "print(\"x_data.ndim =\", x_data.ndim, \", x_data.shape =\", x_data.shape)\n",
    "print(\"t_data.ndim =\", t_data.ndim, \", t_data.shape =\", t_data.shape)"
   ]
  },
  {
   "cell_type": "code",
   "execution_count": 11,
   "metadata": {},
   "outputs": [
    {
     "name": "stdout",
     "output_type": "stream",
     "text": [
      "random_number1 == [0.3891092  0.85099189 0.09270697] ,random_number1.shape == (3,)\n",
      "random_number2 == [[0.9128904  0.82634673 0.88145618]] ,random_number2.shape == (1, 3)\n",
      "random_number3 == [[0.12577675]\n",
      " [0.27888837]\n",
      " [0.89324772]] ,random_number3.shape == (3, 1)\n"
     ]
    }
   ],
   "source": [
    "#0~1 사이의 random number 발생\n",
    "random_number1 = np.random.rand(3)\n",
    "random_number2 = np.random.rand(1, 3)\n",
    "random_number3 = np.random.rand(3, 1)\n",
    "\n",
    "print(\"random_number1 ==\", random_number1, \",random_number1.shape ==\",random_number1.shape)\n",
    "print(\"random_number2 ==\", random_number2, \",random_number2.shape ==\",random_number2.shape)\n",
    "print(\"random_number3 ==\", random_number3, \",random_number3.shape ==\",random_number3.shape)"
   ]
  },
  {
   "cell_type": "code",
   "execution_count": 13,
   "metadata": {},
   "outputs": [
    {
     "name": "stdout",
     "output_type": "stream",
     "text": [
      "10\n",
      "np.sum(X) == 20\n",
      "np.exp(X) == [   7.3890561    54.59815003  403.42879349 2980.95798704]\n",
      "np.log(X) == [0.69314718 1.38629436 1.79175947 2.07944154]\n"
     ]
    }
   ],
   "source": [
    "X = np.array([2,4,6,8]) # vector나 matrix 형이다.\n",
    "Y = [1,2,3,4] #list 형이다\n",
    "print(np.sum(Y))\n",
    "print(\"np.sum(X) ==\", np.sum(X)) # 합을 구하는 매서드\n",
    "print(\"np.exp(X) ==\", np.exp(X)) # e의 지수승을 구하는 매서드\n",
    "print(\"np.log(X) ==\", np.log(X)) # e의 로그승을 구하는 매서드"
   ]
  },
  {
   "cell_type": "code",
   "execution_count": 15,
   "metadata": {},
   "outputs": [
    {
     "name": "stdout",
     "output_type": "stream",
     "text": [
      "np.max(X) ==  8\n",
      "np.min(X) ==  2\n",
      "np.argmax(X) == 3\n",
      "np.argmin(X) == 0\n"
     ]
    }
   ],
   "source": [
    "X = np.array([2,4,6,8])\n",
    "print(\"np.max(X) == \", np.max(X)) #최대값으로 반환\n",
    "print(\"np.min(X) == \", np.min(X)) #최솟값으로 반환\n",
    "print(\"np.argmax(X) ==\", np.argmax(X)) #최대값의 index를 반환\n",
    "print(\"np.argmin(X) ==\", np.argmin(X)) #최솟값의 index를 반환"
   ]
  },
  {
   "cell_type": "code",
   "execution_count": 16,
   "metadata": {},
   "outputs": [
    {
     "name": "stdout",
     "output_type": "stream",
     "text": [
      "A.shape == (3, 3) , A == [[1. 1. 1.]\n",
      " [1. 1. 1.]\n",
      " [1. 1. 1.]]\n",
      "B.shape == (3, 2) , B == [[0. 0.]\n",
      " [0. 0.]\n",
      " [0. 0.]]\n"
     ]
    }
   ],
   "source": [
    "A = np.ones([3,3]) # 행렬을 모두 1로 채운다\n",
    "print(\"A.shape ==\", A.shape, \", A ==\", A) \n",
    "B = np.zeros([3,2]) #행렬을 모두 0으로 채운다.\n",
    "print(\"B.shape ==\", B.shape, \", B ==\", B)"
   ]
  },
  {
   "cell_type": "code",
   "execution_count": 18,
   "metadata": {},
   "outputs": [
    {
     "name": "stdout",
     "output_type": "stream",
     "text": [
      "np.max(X) == [2 5 8]\n",
      "np.min(X) == [0 2 3]\n",
      "np.max(X) == [6 3 8]\n",
      "np.min(X) == [2 1 0]\n",
      "np.max(X) == [0 2 2]\n",
      "np.min(X) == [2 1 1]\n",
      "np.max(X) == [2 2 2]\n",
      "np.min(X) == [0 0 0]\n"
     ]
    }
   ],
   "source": [
    "X = np.array([[2,4,6],[1,2,3],[0,5,8]])\n",
    "print(\"np.max(X) ==\", np.max(X, axis =0)) # axix =0 ,열 기준\n",
    "print(\"np.min(X) ==\", np.min(X, axis =0)) # axix =0 ,열 기준\n",
    "print(\"np.max(X) ==\", np.max(X, axis =1)) # axix =1 ,행 기준\n",
    "print(\"np.min(X) ==\", np.min(X, axis =1)) # axix =1 ,행 기준\n",
    "print(\"np.max(X) ==\", np.argmax(X, axis =0)) # axix =0 ,열 기준\n",
    "print(\"np.min(X) ==\", np.argmin(X, axis =0)) # axix =0 ,열 기준\n",
    "print(\"np.max(X) ==\", np.argmax(X, axis =1)) # axix =1 ,행 기준\n",
    "print(\"np.min(X) ==\", np.argmin(X, axis =1)) # axix =1 ,행 기준"
   ]
  },
  {
   "cell_type": "code",
   "execution_count": 37,
   "metadata": {},
   "outputs": [
    {
     "data": {
      "image/png": "[encoded data removed]",
      "text/plain": [
       "<Figure size 432x288 with 1 Axes>"
      ]
     },
     "metadata": {},
     "output_type": "display_data"
    }
   ],
   "source": [
    "import matplotlib.pyplot as plt\n",
    "import numpy as np\n",
    "# 주피터 노트북을 사용하는 경우 노트북 내부에 그림표시\n",
    "%matplotlib inline\n",
    "\n",
    "# x data, y data 생성\n",
    "x_data = np.random.rand(100)\n",
    "y_data = np.random.rand(100)\n",
    "\n",
    "plt.title('scatter plot')\n",
    "plt.grid() # 칸마다 점선 표시\n",
    "plt.scatter(x_data, y_data, color='b', marker='o')\n",
    "plt.show() "
   ]
  },
  {
   "cell_type": "code",
   "execution_count": 41,
   "metadata": {},
   "outputs": [
    {
     "data": {
      "image/png": "[encoded data removed]",
      "text/plain": [
       "<Figure size 432x288 with 1 Axes>"
      ]
     },
     "metadata": {},
     "output_type": "display_data"
    }
   ],
   "source": [
    "import matplotlib.pyplot as plt\n",
    "# 주피터 노트북을 사용하는 경우 노트북 내부에 그림표시\n",
    "%matplotlib inline\n",
    "\n",
    "x_data = [-3, -2, -1, 0, 1, 2, 3, 4, 5, 6, 7, 8, 9]\n",
    "y_data = [-8, -13, 0, 3, 6, -1, -5, -7, 1, 8 ,7, 12, 13]\n",
    "\n",
    "plt.title('line plot')\n",
    "plt.grid()\n",
    "plt.plot(x_data, y_data, color = 'b')\n",
    "plt.show()"
   ]
  },
  {
   "cell_type": "code",
   "execution_count": 43,
   "metadata": {},
   "outputs": [
    {
     "data": {
      "image/png": "[encoded data removed]",
      "text/plain": [
       "<Figure size 432x288 with 1 Axes>"
      ]
     },
     "metadata": {},
     "output_type": "display_data"
    }
   ],
   "source": [
    "import matplotlib.pyplot as plt\n",
    "# 주피터 노트북을 사용하는 경우 노트북 내부에 그림표시\n",
    "%matplotlib inline\n",
    "\n",
    "x_data = [x for x in range(-5,5)]\n",
    "y_data = [y*y for y in range(-5,5)]\n",
    "\n",
    "plt.title('line plot')\n",
    "plt.grid()\n",
    "plt.plot(x_data, y_data, color = 'b')\n",
    "plt.show()"
   ]
  },
  {
   "cell_type": "code",
   "execution_count": null,
   "metadata": {},
   "outputs": [],
   "source": []
  }
 ],
 "metadata": {
  "kernelspec": {
   "display_name": "Python 3",
   "language": "python",
   "name": "python3"
  },
  "language_info": {
   "codemirror_mode": {
    "name": "ipython",
    "version": 3
   },
   "file_extension": ".py",
   "mimetype": "text/x-python",
   "name": "python",
   "nbconvert_exporter": "python",
   "pygments_lexer": "ipython3",
   "version": "3.6.5"
  }
 },
 "nbformat": 4,
 "nbformat_minor": 2
}
