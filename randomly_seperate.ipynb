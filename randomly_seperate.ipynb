{
 "cells": [
  {
   "cell_type": "code",
   "execution_count": 6,
   "metadata": {},
   "outputs": [
    {
     "name": "stdout",
     "output_type": "stream",
     "text": [
      "[7, 4, 9]\n"
     ]
    }
   ],
   "source": [
    "import random\n",
    "\n",
    "total_data = [3,1,2,4,7,5,8,9,10]\n",
    "print (random.sample(total_data, 3))"
   ]
  },
  {
   "cell_type": "code",
   "execution_count": 5,
   "metadata": {},
   "outputs": [
    {
     "name": "stdout",
     "output_type": "stream",
     "text": [
      "<generator object <genexpr> at 0x0000018198BE3570>\n",
      "['a', 'd']\n"
     ]
    }
   ],
   "source": [
    "import random\n",
    "\n",
    "# 중복 허용\n",
    "count = 2\n",
    "sampleList = ['a', 'b', 'c', 'd', 'e']\n",
    "print (random.choice(sampleList) for i in range(count))\n",
    "\n",
    "# 중복 허용 X \n",
    "print (random.sample(sampleList, count))"
   ]
  },
  {
   "cell_type": "code",
   "execution_count": 8,
   "metadata": {},
   "outputs": [
    {
     "name": "stdout",
     "output_type": "stream",
     "text": [
      "[7, 2, 0]\n"
     ]
    }
   ],
   "source": [
    "import random\n",
    "\n",
    "list = []\n",
    "ran_num = random.randint(0,9)\n",
    "\n",
    "for i in range(3):\n",
    "    while ran_num in list:\n",
    "        ran_num = random.randint(0,9)\n",
    "    list.append(ran_num)\n",
    "\n",
    "print(list)"
   ]
  },
  {
   "cell_type": "code",
   "execution_count": 14,
   "metadata": {},
   "outputs": [
    {
     "name": "stdout",
     "output_type": "stream",
     "text": [
      "[6, 1, 5]\n",
      "[2, 3, 4]\n"
     ]
    }
   ],
   "source": [
    "import random\n",
    "True_list = []\n",
    "not_True_list = []\n",
    "lists = [1, 2, 3, 4, 5, 6]\n",
    "True_list = random.sample(list, 3)\n",
    "print(True_list)\n",
    "for index in range(6):\n",
    "    if lists[index] not in True_list:\n",
    "        not_True_list.append(lists[index])\n",
    "print(not_True_list)"
   ]
  },
  {
   "cell_type": "code",
   "execution_count": 21,
   "metadata": {},
   "outputs": [
    {
     "name": "stdout",
     "output_type": "stream",
     "text": [
      "load_data.shape =  (6497, 13)\n",
      "total_data_num =  6497 , test_data_num =  2598\n",
      "length of test_data_index_list =  2598\n",
      "training_data.shape =  (3899, 13)\n",
      "test_data.shape =  (2598, 13)\n"
     ]
    }
   ],
   "source": [
    "import numpy as np\n",
    "import random\n",
    "# Normalize 않되어 있는 ThoracicSurgery.csv 읽어옴\n",
    "load_data = np.loadtxt('./wine.csv',delimiter = ',')\n",
    "print(\"load_data.shape = \", load_data.shape)\n",
    "\n",
    "training_data_list = []\n",
    "test_data_list = []\n",
    "\n",
    "total_data_num = len(load_data)\n",
    "seperate_rate = 0.4\n",
    "test_data_num = int(len(load_data) * seperate_rate)\n",
    "\n",
    "print(\"total_data_num = \", total_data_num, \", test_data_num = \", test_data_num)\n",
    "total_data_index_list = [index for index in range(total_data_num)]\n",
    "\n",
    "test_data_index_list = random.sample(range(total_data_num), test_data_num)\n",
    "\n",
    "print(\"length of test_data_index_list = \", len(test_data_index_list))\n",
    "\n",
    "for index in range(len(test_data_index_list)):\n",
    "    total_data_index_list.remove(test_data_index_list[index])\n",
    "    \n",
    "for training_data_index in total_data_index_list:\n",
    "    \n",
    "    training_data_list.append(load_data[training_data_index])\n",
    "\n",
    "for test_data_index in test_data_index_list:\n",
    "    test_data_list.append(load_data[test_data_index])\n",
    "    \n",
    "training_data = np.array(training_data_list)\n",
    "\n",
    "test_data = np.array(test_data_list)\n",
    "\n",
    "# verification shape\n",
    "print(\"training_data.shape = \", training_data.shape)\n",
    "print(\"test_data.shape = \", test_data.shape)\n",
    "\n",
    "# save training & test data (.csv)\n",
    "np.savetxt('./random_wine_normalized_training_data.csv', training_data, delimiter=',')\n",
    "np.savetxt('./random_wine_normalized_test_data.csv', test_data, delimiter=',')"
   ]
  },
  {
   "cell_type": "code",
   "execution_count": null,
   "metadata": {},
   "outputs": [],
   "source": []
  }
 ],
 "metadata": {
  "kernelspec": {
   "display_name": "Python 3",
   "language": "python",
   "name": "python3"
  },
  "language_info": {
   "codemirror_mode": {
    "name": "ipython",
    "version": 3
   },
   "file_extension": ".py",
   "mimetype": "text/x-python",
   "name": "python",
   "nbconvert_exporter": "python",
   "pygments_lexer": "ipython3",
   "version": "3.6.5"
  }
 },
 "nbformat": 4,
 "nbformat_minor": 2
}
