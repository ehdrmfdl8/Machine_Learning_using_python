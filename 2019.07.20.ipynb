{
 "cells": [
  {
   "cell_type": "markdown",
   "metadata": {},
   "source": [
    " Domain free AI 공정성(fairness) Deeper Learning\n",
    " 특정분야 뿐만 아니라 여러분야도 해결할수있는 딥러닝 모델\n",
    " 공정한 데이타를 정의해야한다. \n",
    " \n",
    " 딥러닝 문제점:\n",
    " 1.고비용 - 시간과 노력이 많이 든다.\n",
    " 2.설명성 - 결과에 대한 설명이 부족하며 이로인한 딥러닝 문제점\n",
    " 3.확장성 - 특정분야 뿐만 아니라 여러분야도 해결할수 있는 딥러닝이 필요함\n",
    " 4.플랫폼 서비스 - 문제점을 파악하고 디버깅할 프로그램이 부족함\n",
    " \n",
    " 해결방안\n",
    " 1.딥퍼러닝 - GAN을 이용하여 대량의 데이터를 AI를 통하여 생성함\n",
    " \n",
    " 도전이슈\n",
    " 효율적인 딥러닝 학습을 위한 대규모 학습 파라미터 튜닝 기술"
   ]
  },
  {
   "cell_type": "markdown",
   "metadata": {},
   "source": [
    "UML : 시스템을 모델로 표현해주는 대표적인 모델링 언어\n",
    "    클래스 다이어그램\n",
    "sigmoid : 기본적인 활성함수\n",
    "ReLU : 학습속도를 높이기 위해서 사용\n",
    "Leaky ReLU : 뉴런이 죽는현상을 해결하기 위한 함수\n",
    "tanh : 순서가 있는 데이터를 처리할때 용이\n",
    "feed forward : 완전연결되어있는 시스템에서 입력에서 출력으로 가는 방식\n",
    "               = 성공을 위한 정보를 미리 제공하는 기법 , \n",
    "               = 어떤 사안이나 문제에 대한 미래 지향적인 아이디어나 해결책을 제공하는것\n"
   ]
  },
  {
   "cell_type": "markdown",
   "metadata": {},
   "source": [
    "딥러닝 concept 아키텍쳐\n",
    "    인간의 뇌구조를 형성한것이고\n",
    "    입력층과 1개이상의 은닉층 출력층이 존재한다.\n",
    "    노드 : 1개의 logistic regression을 나타냄\n",
    "    노드의 개수는 입력의 개수만큼 요구된다. \n",
    "    ex) 728개의 입력에는 10개의 출력이 있다. why? 10개인가?\n",
    "        노드당 표현할수있는 값은 1보다 작다. 출력의 각 노드는 순서대로 숫자를 나타내며 각 노드는 확률을 \n",
    "        의미하며 가장 높은 확률에 해당하는 노드값을 반환한다. 10진수를 표현하기 위해 one-hot encoding 사용\n",
    "        은닉층의 노드의 개수는 가변적이고 많이질수록 시간이 많이걸리는대신 정확도가 높아진다. (하이퍼파라미터)\n",
    "        은닉층의 개수도 하이퍼파라미터 이다.\n",
    "    입력층의 노드는 가중치(logistic regresstion)가 없다. 그대로 내보냄.\n",
    "    consistancy 와 readablilty를 높이기 위해서 입력층을 만든다. \n",
    "    각층의 노드는 이전의 모든 출력들을 가중치를 곱하고 다 더해서(시그마) 받아들인다. (Fully connected) \n",
    "    이러한 연결을 feed forward 라고 부른다."
   ]
  },
  {
   "cell_type": "markdown",
   "metadata": {},
   "source": [
    "notation : 표기법\n",
    "    Ex) W 가중치를 표기할때 W_(뒤 노드 숫자 + 앞 노드 숫자)\n",
    "    f = np.dot(np.array([a1 , a2]), np.array([[W11, W21],[W12, W22]]))\n",
    "    하나의 행은 이전층의 출력 노드를 기준으로 만들어진다. 이전층의 출력이 10개면 10행이된다.\n",
    "    하나의 열은 앞의층의 노드개수를 기준으로 만들어진다. 앞의 노드가 5개면 5열이다."
   ]
  },
  {
   "cell_type": "code",
   "execution_count": 1,
   "metadata": {},
   "outputs": [],
   "source": [
    "import numpy as np\n",
    "from datetime import datetime\n",
    "\n",
    "def sigmoid(z):\n",
    "    return 1 / (1 + np.exp(-z))\n",
    "\n",
    "def numerical_derivative(f, x):\n",
    "    delta_x = 1e-4 # 0.0001\n",
    "    grad = np.zeros_like(x)\n",
    "    \n",
    "    it = np.nditer(x, flags=['multi_index'], op_flags=['readwrite'])\n",
    "    \n",
    "    while not it.finished:\n",
    "        idx = it.multi_index        \n",
    "        tmp_val = x[idx]\n",
    "        x[idx] = float(tmp_val) + delta_x\n",
    "        fx1 = f(x) # f(x+delta_x)\n",
    "        \n",
    "        x[idx] = tmp_val - delta_x \n",
    "        fx2 = f(x) # f(x-delta_x)\n",
    "        grad[idx] = (fx1 - fx2) / (2*delta_x)\n",
    "        \n",
    "        x[idx] = tmp_val \n",
    "        it.iternext()   \n",
    "        \n",
    "    return grad"
   ]
  },
  {
   "cell_type": "code",
   "execution_count": null,
   "metadata": {},
   "outputs": [],
   "source": [
    "import numpy as np\n",
    "from datetime import datetime\n",
    "\n",
    "class LogicGate:\n",
    "    def __init__(self,gatename,x_data,t_data):\n",
    "        self.gatename = gatename\n",
    "        if x_data.ndim ==1:\n",
    "            self.x_data = x_data.reshape(-1,1)\n",
    "            self.t_data = t_data.reshape(-1,1)\n",
    "        elif x_data.ndim == 2:\n",
    "            self.x_data = x_data\n",
    "            self.t_data = t_data.reshape(-1,1)\n",
    "        "
   ]
  }
 ],
 "metadata": {
  "kernelspec": {
   "display_name": "Python 3",
   "language": "python",
   "name": "python3"
  },
  "language_info": {
   "codemirror_mode": {
    "name": "ipython",
    "version": 3
   },
   "file_extension": ".py",
   "mimetype": "text/x-python",
   "name": "python",
   "nbconvert_exporter": "python",
   "pygments_lexer": "ipython3",
   "version": "3.6.5"
  }
 },
 "nbformat": 4,
 "nbformat_minor": 2
}
