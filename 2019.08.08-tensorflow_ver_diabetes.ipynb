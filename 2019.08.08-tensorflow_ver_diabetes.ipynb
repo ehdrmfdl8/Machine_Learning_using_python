{
 "cells": [
  {
   "cell_type": "code",
   "execution_count": 1,
   "metadata": {},
   "outputs": [
    {
     "name": "stderr",
     "output_type": "stream",
     "text": [
      "C:\\Users\\USER\\anaconda\\lib\\importlib\\_bootstrap.py:219: RuntimeWarning: numpy.ufunc size changed, may indicate binary incompatibility. Expected 192 from C header, got 216 from PyObject\n",
      "  return f(*args, **kwds)\n",
      "C:\\Users\\USER\\anaconda\\lib\\importlib\\_bootstrap.py:219: RuntimeWarning: numpy.ufunc size changed, may indicate binary incompatibility. Expected 192 from C header, got 216 from PyObject\n",
      "  return f(*args, **kwds)\n"
     ]
    },
    {
     "name": "stdout",
     "output_type": "stream",
     "text": [
      "loaded_data =  (759, 9)\n",
      "x_data =  (759, 8) , t_data =  (759, 1)\n"
     ]
    }
   ],
   "source": [
    "import tensorflow as tf\n",
    "import numpy as np\n",
    "\n",
    "loaded_data = np.loadtxt('./diabetes.csv', delimiter = ',')\n"
   ]
  },
  {
   "cell_type": "code",
   "execution_count": 13,
   "metadata": {},
   "outputs": [
    {
     "name": "stdout",
     "output_type": "stream",
     "text": [
      "training_data.shape =  (506, 9)\n",
      "test_data.shape =  (253, 9)\n",
      "training_data =  (506, 9)\n",
      "training_x_data =  (506, 8) , training_t_data =  (506, 1)\n",
      "test_data =  (253, 9)\n",
      "test_x_data =  (253, 8) , test_t_data =  (253, 1)\n"
     ]
    }
   ],
   "source": [
    "import numpy as np\n",
    "#임시 저장 리스트\n",
    "training_data_list = []\n",
    "test_data_list = []\n",
    "\n",
    "seperate_rate = 3\n",
    "\n",
    "for index in range(len(loaded_data)):\n",
    "    if (index % seperate_rate) == 0:\n",
    "        test_data_list.append(loaded_data[index])\n",
    "    else:\n",
    "        training_data_list.append(loaded_data[index])\n",
    "\n",
    "training_data = np.array(training_data_list)\n",
    "test_data = np.array(test_data_list)\n",
    "\n",
    "print(\"training_data.shape = \", training_data.shape)\n",
    "print(\"test_data.shape = \", test_data.shape)\n",
    "\n",
    "training_x_data = training_data[:, :-1]\n",
    "training_t_data = training_data[:, [-1]]\n",
    "\n",
    "print(\"training_data = \", training_data.shape)\n",
    "print(\"training_x_data = \", training_x_data.shape, \", training_t_data = \", training_t_data.shape)\n",
    "\n",
    "test_x_data = test_data[:, :-1]\n",
    "test_t_data = test_data[:, [-1]]\n",
    "\n",
    "print(\"test_data = \", test_data.shape)\n",
    "print(\"test_x_data = \", test_x_data.shape, \", test_t_data = \", test_t_data.shape)"
   ]
  },
  {
   "cell_type": "code",
   "execution_count": 2,
   "metadata": {},
   "outputs": [
    {
     "name": "stdout",
     "output_type": "stream",
     "text": [
      "WARNING:tensorflow:From C:\\Users\\USER\\anaconda\\lib\\site-packages\\tensorflow\\python\\framework\\op_def_library.py:263: colocate_with (from tensorflow.python.framework.ops) is deprecated and will be removed in a future version.\n",
      "Instructions for updating:\n",
      "Colocations handled automatically by placer.\n"
     ]
    }
   ],
   "source": [
    "X = tf.placeholder(tf.float32, [None, 8])\n",
    "T = tf.placeholder(tf.float32, [None, 1])\n",
    "\n",
    "W = tf.Variable(tf.random_normal([8,1]))\n",
    "b = tf.Variable(tf.random_normal([1]))\n"
   ]
  },
  {
   "cell_type": "code",
   "execution_count": 3,
   "metadata": {},
   "outputs": [],
   "source": [
    "z = tf.matmul(X , W) + b\n",
    "y = tf.sigmoid(z)\n",
    "\n",
    "loss = -tf.reduce_mean(T*tf.log(y) + (1-T)*tf.log(1-y))\n"
   ]
  },
  {
   "cell_type": "code",
   "execution_count": 19,
   "metadata": {},
   "outputs": [],
   "source": [
    "learning_rate = 0.01\n",
    "\n",
    "optimizer = tf.train.GradientDescentOptimizer(learning_rate)\n",
    "\n",
    "train = optimizer.minimize(loss)"
   ]
  },
  {
   "cell_type": "code",
   "execution_count": 6,
   "metadata": {},
   "outputs": [],
   "source": [
    "predicted = tf.cast(y > 0.5, dtype = tf.float32)\n",
    "\n",
    "accuracy = tf.reduce_mean(tf.cast(tf.equal(predicted, T), dtype = tf.float32))"
   ]
  },
  {
   "cell_type": "code",
   "execution_count": 20,
   "metadata": {},
   "outputs": [
    {
     "name": "stdout",
     "output_type": "stream",
     "text": [
      "step =  0 , loss_val =  0.82111925\n",
      "step =  1000 , loss_val =  0.6598901\n",
      "step =  2000 , loss_val =  0.5806113\n",
      "step =  3000 , loss_val =  0.54076695\n",
      "step =  4000 , loss_val =  0.51942194\n",
      "step =  5000 , loss_val =  0.50701326\n",
      "step =  6000 , loss_val =  0.49924788\n",
      "step =  7000 , loss_val =  0.49408862\n",
      "step =  8000 , loss_val =  0.4904968\n",
      "step =  9000 , loss_val =  0.48790395\n",
      "step =  10000 , loss_val =  0.48597863\n",
      "step =  11000 , loss_val =  0.48451656\n",
      "step =  12000 , loss_val =  0.4833861\n",
      "step =  13000 , loss_val =  0.4824989\n",
      "step =  14000 , loss_val =  0.48179394\n",
      "step =  15000 , loss_val =  0.48122746\n",
      "step =  16000 , loss_val =  0.48076808\n",
      "step =  17000 , loss_val =  0.4803921\n",
      "step =  18000 , loss_val =  0.48008218\n",
      "step =  19000 , loss_val =  0.4798247\n",
      "step =  20000 , loss_val =  0.47960943\n",
      "(253, 1) (253, 1)\n",
      "0.770751\n"
     ]
    }
   ],
   "source": [
    "with tf.Session() as sess:\n",
    "    sess.run(tf.global_variables_initializer())\n",
    "    for step in range(20001):\n",
    "        loss_val, _ = sess.run([loss, train], feed_dict = {X: training_x_data, T: training_t_data})\n",
    "        \n",
    "        if step % 1000 == 0:\n",
    "            print(\"step = \", step, \", loss_val = \", loss_val)\n",
    "    \n",
    "    y_val , predicted_val, accuracy_val = sess.run([y, predicted, accuracy], feed_dict={X: test_x_data, T: test_t_data})\n",
    "    \n",
    "    print(y_val.shape, predicted_val.shape)\n",
    "    print(accuracy_val)"
   ]
  },
  {
   "cell_type": "code",
   "execution_count": null,
   "metadata": {},
   "outputs": [],
   "source": []
  }
 ],
 "metadata": {
  "kernelspec": {
   "display_name": "Python 3",
   "language": "python",
   "name": "python3"
  },
  "language_info": {
   "codemirror_mode": {
    "name": "ipython",
    "version": 3
   },
   "file_extension": ".py",
   "mimetype": "text/x-python",
   "name": "python",
   "nbconvert_exporter": "python",
   "pygments_lexer": "ipython3",
   "version": "3.6.9"
  }
 },
 "nbformat": 4,
 "nbformat_minor": 2
}
