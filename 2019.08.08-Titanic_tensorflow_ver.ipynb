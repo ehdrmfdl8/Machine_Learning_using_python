{
 "cells": [
  {
   "cell_type": "code",
   "execution_count": 27,
   "metadata": {},
   "outputs": [],
   "source": [
    "import numpy as np\n",
    "import pandas as pd\n",
    "import tensorflow as tf"
   ]
  },
  {
   "cell_type": "code",
   "execution_count": 28,
   "metadata": {},
   "outputs": [
    {
     "name": "stdout",
     "output_type": "stream",
     "text": [
      "train_csv_data.shape =  (891, 12)\n",
      "test_csv_data.shape =  (418, 11)\n",
      "test_csv_sub.shape =  (418, 2)\n"
     ]
    }
   ],
   "source": [
    "train_csv_data = pd.read_csv('./train.csv').values\n",
    "test_csv_data = pd.read_csv('./test.csv').values\n",
    "test_csv_sub = pd.read_csv('./gender_submission.csv').values\n",
    "\n",
    "print(\"train_csv_data.shape = \", train_csv_data.shape)\n",
    "print(\"test_csv_data.shape = \", test_csv_data.shape)\n",
    "print(\"test_csv_sub.shape = \", test_csv_sub.shape)"
   ]
  },
  {
   "cell_type": "code",
   "execution_count": 29,
   "metadata": {},
   "outputs": [],
   "source": [
    "#train data 에서 male ->1, female -> 0\n",
    "for i in range(len(train_csv_data)):\n",
    "    if train_csv_data[i, 4] == 'male':\n",
    "        train_csv_data[i, 4] = 1\n",
    "    else:\n",
    "        train_csv_data[i, 4] = 0\n",
    "\n",
    "#test data 에사 male ->1, female -> 0\n",
    "\n",
    "for i in range(len(test_csv_data)):\n",
    "    if test_csv_data[i, 3] == 'male':\n",
    "        \n",
    "        test_csv_data[i, 3] = 1\n",
    "    else:\n",
    "        test_csv_data[i, 3] = 0"
   ]
  },
  {
   "cell_type": "code",
   "execution_count": 30,
   "metadata": {},
   "outputs": [],
   "source": [
    "# train data 에서 Embarked, Empty -> 0, S -> 1, C -> 2, Q -> 3\n",
    "for i in range(len(train_csv_data)):\n",
    "    \n",
    "    if train_csv_data[i, 11] == 'S':\n",
    "        \n",
    "        train_csv_data[i, 11] = 1\n",
    "        \n",
    "    elif train_csv_data [i, 11] == 'C':\n",
    "        \n",
    "        train_csv_data[i, 11] = 2\n",
    "        \n",
    "    elif train_csv_data [i, 11] == 'Q':\n",
    "        \n",
    "        train_csv_data[i, 11] = 3\n",
    "    \n",
    "    \n",
    "    if np.isnan(train_csv_data[i, 11]):\n",
    "        \n",
    "        train_csv_data[i, 11] = 0\n",
    "        \n",
    "for i in range(len(test_csv_data)):\n",
    "    \n",
    "    if test_csv_data[i, 10] == 'S':\n",
    "        \n",
    "        test_csv_data[i, 10] = 1\n",
    "        \n",
    "    elif test_csv_data [i, 10] == 'C':\n",
    "        \n",
    "        test_csv_data[i, 10] = 2\n",
    "        \n",
    "    elif test_csv_data [i, 10] == 'Q':\n",
    "        \n",
    "        test_csv_data[i, 10] = 3\n",
    "    \n",
    "    \n",
    "    if np.isnan(test_csv_data[i, 10]):\n",
    "        \n",
    "        test_csv_data[i, 10] = 0"
   ]
  },
  {
   "cell_type": "code",
   "execution_count": 31,
   "metadata": {},
   "outputs": [],
   "source": [
    "training_x_data = train_csv_data[ : , [2, 4, 6, 7, 11] ] # Pclass, Sex, SibSp, Parch, Embarked\n",
    "\n",
    "training_t_data = train_csv_data[ : , 1:2 ]\n",
    "\n",
    "test_x_data = test_csv_data[ : , [1, 3, 5, 6, 10] ]\n",
    "\n",
    "test_t_data = test_csv_sub[ : , 1:2]"
   ]
  },
  {
   "cell_type": "code",
   "execution_count": 32,
   "metadata": {},
   "outputs": [
    {
     "name": "stdout",
     "output_type": "stream",
     "text": [
      "training_x_data.shape =  (891, 5)  test_x_data.shape =  (418, 5)\n",
      "training_t_data.shape =  (891, 1)  test_t_data.shape =  (418, 1)\n"
     ]
    }
   ],
   "source": [
    "print(\"training_x_data.shape = \", training_x_data.shape, \" test_x_data.shape = \", test_x_data.shape)\n",
    "print(\"training_t_data.shape = \", training_t_data.shape, \" test_t_data.shape = \", test_t_data.shape)"
   ]
  },
  {
   "cell_type": "code",
   "execution_count": 33,
   "metadata": {},
   "outputs": [],
   "source": [
    "# Placeholder\n",
    "X = tf.placeholder(tf.float32, shape = [None, 5])\n",
    "T = tf.placeholder(tf.float32, shape = [None, 1])\n",
    "\n",
    "W = tf.Variable(tf.random_normal([5,1]), name = 'weight')\n",
    "b = tf.Variable(tf.random_normal([1]), name = 'bias')"
   ]
  },
  {
   "cell_type": "code",
   "execution_count": 34,
   "metadata": {},
   "outputs": [],
   "source": [
    "z = tf.matmul(X , W) + b\n",
    "\n",
    "y = tf.sigmoid(z)\n",
    "\n",
    "# loss\n",
    "loss = -tf.reduce_mean(T * tf.log(y) + (1-T)*tf.log(1-y))\n"
   ]
  },
  {
   "cell_type": "code",
   "execution_count": 35,
   "metadata": {},
   "outputs": [],
   "source": [
    "learning_rate = 0.01\n",
    "\n",
    "# optimizer\n",
    "optimizer = tf.train.GradientDescentOptimizer(learning_rate)\n",
    "\n",
    "train_op = optimizer.minimize(loss)\n",
    "\n",
    "#Accuracy computation\n",
    "# True if y > 0.5 else False\n",
    "predicted = tf.cast(y > 0.5, dtype = tf.float32)\n",
    "accuracy = tf.reduce_mean(tf.cast(tf.equal(predicted, T), dtype = tf.float32))"
   ]
  },
  {
   "cell_type": "code",
   "execution_count": 36,
   "metadata": {},
   "outputs": [
    {
     "name": "stdout",
     "output_type": "stream",
     "text": [
      "step =  0 , loss =  2.9844737\n",
      "step =  500 , loss =  0.76593065\n",
      "step =  1000 , loss =  0.6409392\n",
      "step =  1500 , loss =  0.56863004\n",
      "step =  2000 , loss =  0.53001034\n",
      "step =  2500 , loss =  0.5092138\n",
      "step =  3000 , loss =  0.4970642\n",
      "step =  3500 , loss =  0.4893276\n",
      "step =  4000 , loss =  0.48403785\n",
      "step =  4500 , loss =  0.4802059\n",
      "step =  5000 , loss =  0.47729394\n",
      "step =  5500 , loss =  0.4749901\n",
      "\n",
      "Accuracy:  0.9569378\n"
     ]
    }
   ],
   "source": [
    "with tf.Session() as sess:\n",
    "    sess.run(tf.global_variables_initializer())\n",
    "    \n",
    "    for step in range(6000):\n",
    "        \n",
    "        loss_val, y_val, _ = sess.run([loss, y, train_op], feed_dict \n",
    "                                      = {X : training_x_data, T: training_t_data})\n",
    "        \n",
    "        if step % 500 == 0:\n",
    "            print(\"step = \", step, \", loss = \", loss_val)\n",
    "    \n",
    "    y_val, predicted_val, accuracy_val = sess.run([y, predicted, accuracy], feed_dict = {X : test_x_data, T : test_t_data})\n",
    "    \n",
    "    print(\"\")\n",
    "    print(\"Accuracy: \", accuracy_val)"
   ]
  },
  {
   "cell_type": "code",
   "execution_count": 37,
   "metadata": {},
   "outputs": [
    {
     "name": "stdout",
     "output_type": "stream",
     "text": [
      "[1 0 3 'Braund, Mr. Owen Harris' 1 22.0 1 0 'A/5 21171' 7.25 nan 1]\n"
     ]
    }
   ],
   "source": [
    "print(train_csv_data[0])"
   ]
  },
  {
   "cell_type": "code",
   "execution_count": 38,
   "metadata": {},
   "outputs": [
    {
     "name": "stdout",
     "output_type": "stream",
     "text": [
      "Braund, Mr. Owen Harris\n"
     ]
    }
   ],
   "source": [
    "print(train_csv_data[0, 3])"
   ]
  },
  {
   "cell_type": "code",
   "execution_count": null,
   "metadata": {},
   "outputs": [],
   "source": []
  }
 ],
 "metadata": {
  "kernelspec": {
   "display_name": "Python 3",
   "language": "python",
   "name": "python3"
  },
  "language_info": {
   "codemirror_mode": {
    "name": "ipython",
    "version": 3
   },
   "file_extension": ".py",
   "mimetype": "text/x-python",
   "name": "python",
   "nbconvert_exporter": "python",
   "pygments_lexer": "ipython3",
   "version": "3.6.9"
  }
 },
 "nbformat": 4,
 "nbformat_minor": 2
}
