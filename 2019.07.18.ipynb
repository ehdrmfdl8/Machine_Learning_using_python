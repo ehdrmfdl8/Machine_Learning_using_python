{
 "cells": [
  {
   "cell_type": "markdown",
   "metadata": {},
   "source": [
    "# AND, OR, NAND, XOR LogicGate Class"
   ]
  },
  {
   "cell_type": "code",
   "execution_count": 5,
   "metadata": {},
   "outputs": [
    {
     "name": "stdout",
     "output_type": "stream",
     "text": [
      "(4, 2) (4, 1)\n"
     ]
    }
   ],
   "source": [
    "import numpy as np\n",
    "from datetime import datetime\n",
    "x_data = np.array([[0,0],[0,1],[1,0],[1,1]]).reshape(-1,2)\n",
    "t_data = np.array([0,0,0,1]).reshape(-1,1)\n",
    "\n",
    "print(x_data.shape,t_data.shape)"
   ]
  },
  {
   "cell_type": "code",
   "execution_count": 44,
   "metadata": {},
   "outputs": [],
   "source": [
    "def numerical_derivative(f, x):\n",
    "    delta_x = 1e-4 # 0.0001\n",
    "    grad = np.zeros_like(x)\n",
    "    \n",
    "    it = np.nditer(x, flags=['multi_index'], op_flags=['readwrite'])\n",
    "    \n",
    "    while not it.finished:\n",
    "        idx = it.multi_index        \n",
    "        tmp_val = x[idx]\n",
    "        x[idx] = float(tmp_val) + delta_x\n",
    "        fx1 = f(x) # f(x+delta_x)\n",
    "        \n",
    "        x[idx] = tmp_val - delta_x \n",
    "        fx2 = f(x) # f(x-delta_x)\n",
    "        grad[idx] = (fx1 - fx2) / (2*delta_x)\n",
    "        \n",
    "        x[idx] = tmp_val \n",
    "        it.iternext()   \n",
    "        \n",
    "    return grad"
   ]
  },
  {
   "cell_type": "code",
   "execution_count": 7,
   "metadata": {},
   "outputs": [],
   "source": [
    "import numpy as np\n",
    "from datetime import datetime\n",
    "\n",
    "class LogicGate:\n",
    "    def __init__(self,x_data,t_data,learning_rate,iteration_count):\n",
    "        if x_data.ndim == 1:\n",
    "            self.x_data = x_data.reshape(len(x_data),1)\n",
    "            self.t_data = t_data.reshape(len(t_data),1)\n",
    "        elif x_data.ndim >= 2:\n",
    "            self.x_data = x_data\n",
    "            self.t_data = t_data\n",
    "        self.learning_rate = learning_rate\n",
    "        self.iteration_count = iteration_count\n",
    "        self.W = np.random.rand(self.x_data.shape[1],1)\n",
    "        self.b = np.random.rand(1)\n",
    "        print(\"W = \", self.W, \",W.shape = \", self.W.shape, \",b = \", self.b, \",b.shape = \", self.b.shape)\n",
    "        \n",
    "    def sigmoid(self,z):\n",
    "        self.z = z\n",
    "        return 1/(1+np.exp(-z))\n",
    "    \n",
    "    def loss_func(self):\n",
    "        delta = 1e-7\n",
    "        z = np.dot(self.x_data,self.W)+self.b\n",
    "        y = self.sigmoid(z)\n",
    "        return -np.sum(self.t_data*np.log(y+delta)+(1-self.t_data)*np.log(1-y+delta))\n",
    "    \n",
    "    def error_val(self):\n",
    "        delta = 1e-7\n",
    "        z = np.dot(self.x_data,self.W)+self.b\n",
    "        y = self.sigmoid(z)\n",
    "        return -np.sum(self.t_data*np.log(y+delta)+(1-self.t_data)*np.log(1-y+delta))\n",
    "    \n",
    "    def predict(self,Test_data):\n",
    "        z = np.dot(Test_data,self.W) + self.b\n",
    "        y = self.sigmoid(z)\n",
    "        \n",
    "        if y >= 0.5:\n",
    "            result = 1\n",
    "        else:\n",
    "            result = 0\n",
    "        return y,result\n",
    "    \n",
    "    def accuracy(self,test_xdata, test_tdata):\n",
    "        \n",
    "        matched_list = []\n",
    "        \n",
    "        for index in range(len(test_xdata)):\n",
    "            (real_val, logical_val) = self.predict(test_xdata[index])\n",
    "            \n",
    "            if logical_val == test_tdata[index]:\n",
    "                matched_list.append(True)\n",
    "        \n",
    "        return (len(matched_list) / len(test_tdata))\n",
    "    \n",
    "    def train(self):\n",
    "        f = lambda x : self.loss_func()\n",
    "        print(\"Initial error value = \", self.error_val() ,\"W = \",self.W,\"b = \",self.b)\n",
    "        start_time = datetime.now()\n",
    "        for step in range(self.iteration_count):\n",
    "            self.W -= self.learning_rate * numerical_derivative(f,self.W)\n",
    "            self.b -= self.learning_rate * numerical_derivative(f,self.b)\n",
    "            \n",
    "            if(step % 2000 == 0):\n",
    "                print(\"step = \", step, \"error_value = \", self.error_val(),\"W = \",self.W,\"b = \",self.b)\n",
    "        end_time = datetime.now()\n",
    "        print(\"\")\n",
    "        print(\"Elapsed Time => \",end_time - start_time)\n",
    "        \n",
    "    "
   ]
  },
  {
   "cell_type": "code",
   "execution_count": 38,
   "metadata": {},
   "outputs": [
    {
     "name": "stdout",
     "output_type": "stream",
     "text": [
      "W =  [[0.54584465]\n",
      " [0.39361119]] ,W.shape =  (2, 1) ,b =  [0.12684905] ,b.shape =  (1,)\n",
      "Initial error value =  3.1263230595231417 W =  [[0.54584465]\n",
      " [0.39361119]] b =  [0.12684905]\n",
      "step =  0 error_value =  3.0990281509569426 W =  [[0.54178465]\n",
      " [0.3898997 ]] b =  [0.11123241]\n",
      "step =  2000 error_value =  0.6568702898213487 W =  [[2.7471057 ]\n",
      " [2.74309078]] b =  [-4.34584187]\n",
      "step =  4000 error_value =  0.3890569432856403 W =  [[3.86758359]\n",
      " [3.86717913]] b =  [-5.99903052]\n",
      "step =  6000 error_value =  0.2742867222798214 W =  [[4.60296658]\n",
      " [4.60288768]] b =  [-7.09215735]\n",
      "step =  8000 error_value =  0.2108824621938627 W =  [[5.14978284]\n",
      " [5.14976042]] b =  [-7.90736565]\n",
      "step =  10000 error_value =  0.1708703243747894 W =  [[5.58419979]\n",
      " [5.58419169]] b =  [-8.55599508]\n",
      "\n",
      "Elapsed Time =>  0:00:01.245668\n"
     ]
    }
   ],
   "source": [
    "x_data = np.array([[0,0],[0,1],[1,0],[1,1]]).reshape(-1,2)\n",
    "t_data = np.array([0,0,0,1]).reshape(-1,1)\n",
    "AND_obj = LogicGate(x_data, t_data,1e-2,10001)\n",
    "AND_obj.train()"
   ]
  },
  {
   "cell_type": "code",
   "execution_count": 45,
   "metadata": {},
   "outputs": [
    {
     "name": "stdout",
     "output_type": "stream",
     "text": [
      "Accuracy =>  1.0\n"
     ]
    }
   ],
   "source": [
    "test_xdata = np.array([ [0, 0], [0, 1], [1, 0], [1, 1] ])\n",
    "test_tdata = np.array([ 0, 0, 0, 1])\n",
    "accuracy_ret = AND_obj.accuracy(test_xdata,test_tdata)\n",
    "print(\"Accuracy => \",accuracy_ret)"
   ]
  },
  {
   "cell_type": "code",
   "execution_count": 46,
   "metadata": {},
   "outputs": [
    {
     "name": "stdout",
     "output_type": "stream",
     "text": [
      "W =  [[0.62197981]\n",
      " [0.14045973]] ,W.shape =  (2, 1) ,b =  [0.2837311] ,b.shape =  (1,)\n",
      "Initial error value =  1.988977795399086 W =  [[0.62197981]\n",
      " [0.14045973]] b =  [0.2837311]\n",
      "step =  0 error_value =  1.9803546134054915 W =  [[0.6274582 ]\n",
      " [0.14701449]] b =  [0.28741007]\n",
      "step =  2000 error_value =  0.4260937096800737 W =  [[3.67913638]\n",
      " [3.63137126]] b =  [-1.26956287]\n",
      "step =  4000 error_value =  0.23087568584554788 W =  [[4.949665  ]\n",
      " [4.93506509]] b =  [-1.96499025]\n",
      "step =  6000 error_value =  0.15629290881428035 W =  [[5.75145893]\n",
      " [5.74469397]] b =  [-2.38469895]\n",
      "step =  8000 error_value =  0.11756101846099302 W =  [[6.33308553]\n",
      " [6.32923942]] b =  [-2.68445544]\n",
      "step =  10000 error_value =  0.09399907427576024 W =  [[6.78807742]\n",
      " [6.78561194]] b =  [-2.91712796]\n",
      "\n",
      "Elapsed Time =>  0:00:01.239712\n"
     ]
    }
   ],
   "source": [
    "x_data = np.array([ [0, 0], [0, 1], [1, 0], [1, 1] ]).reshape(-1,2)\n",
    "t_data = np.array([0, 1, 1, 1]).reshape(-1,1)\n",
    "\n",
    "OR_obj = LogicGate(x_data, t_data,1e-2,10001)\n",
    "\n",
    "OR_obj.train() "
   ]
  },
  {
   "cell_type": "code",
   "execution_count": 47,
   "metadata": {},
   "outputs": [
    {
     "name": "stdout",
     "output_type": "stream",
     "text": [
      "Accuracy =>  1.0\n"
     ]
    }
   ],
   "source": [
    "test_xdata = np.array([ [0, 0], [0, 1], [1, 0], [1, 1] ])\n",
    "test_tdata = np.array([ 0, 1, 1, 1])\n",
    "\n",
    "accuracy_ret2 = OR_obj.accuracy(test_xdata, test_tdata)\n",
    "\n",
    "print(\"Accuracy => \", accuracy_ret2)"
   ]
  },
  {
   "cell_type": "code",
   "execution_count": 49,
   "metadata": {},
   "outputs": [
    {
     "name": "stdout",
     "output_type": "stream",
     "text": [
      "W =  [[0.15310956]\n",
      " [0.77152435]] ,W.shape =  (2, 1) ,b =  [0.90765689] ,b.shape =  (1,)\n",
      "Initial error value =  2.788005349725611 W =  [[0.15310956]\n",
      " [0.77152435]] b =  [0.90765689]\n",
      "step =  0 error_value =  2.779151620623062 W =  [[0.14706086]\n",
      " [0.76447605]] b =  [0.90609159]\n",
      "step =  2000 error_value =  0.669174873681187 W =  [[-2.71342979]\n",
      " [-2.69646744]] b =  [4.28727486]\n",
      "step =  4000 error_value =  0.3934450092273747 W =  [[-3.84443915]\n",
      " [-3.84277171]] b =  [5.96378559]\n",
      "step =  6000 error_value =  0.27651170862815455 W =  [[-4.58620076]\n",
      " [-4.58587974]] b =  [7.06701149]\n",
      "step =  8000 error_value =  0.21221598862712332 W =  [[-5.13675935]\n",
      " [-5.13666885]] b =  [7.88788195]\n",
      "step =  10000 error_value =  0.1717542927672293 W =  [[-5.57358833]\n",
      " [-5.57355583]] b =  [8.54012456]\n",
      "\n",
      "Elapsed Time =>  0:00:01.250691\n"
     ]
    }
   ],
   "source": [
    "x_data = np.array([ [0, 0], [0, 1], [1, 0], [1, 1] ]).reshape(-1,2)\n",
    "t_data = np.array([1, 1, 1, 0]).reshape(-1,1)\n",
    "\n",
    "NAND_obj = LogicGate(x_data, t_data,1e-2,10001)\n",
    "\n",
    "NAND_obj.train() "
   ]
  },
  {
   "cell_type": "code",
   "execution_count": 51,
   "metadata": {},
   "outputs": [
    {
     "name": "stdout",
     "output_type": "stream",
     "text": [
      "Accuracy =>  1.0\n"
     ]
    }
   ],
   "source": [
    "test_xdata = np.array([ [0, 0], [0, 1], [1, 0], [1, 1] ])\n",
    "test_tdata = np.array([ 1, 1, 1, 0])\n",
    "\n",
    "accuracy_ret2 = NAND_obj.accuracy(test_xdata, test_tdata)\n",
    "\n",
    "print(\"Accuracy => \", accuracy_ret2)"
   ]
  },
  {
   "cell_type": "code",
   "execution_count": 86,
   "metadata": {},
   "outputs": [
    {
     "name": "stdout",
     "output_type": "stream",
     "text": [
      "[0] [1]\n",
      "[0]\n",
      "[1] [1]\n",
      "[1]\n",
      "[1] [1]\n",
      "[1]\n",
      "[1] [0]\n",
      "[0]\n"
     ]
    }
   ],
   "source": [
    "list1 = []\n",
    "for index in range(len(x_data)):\n",
    "    \n",
    "    s1 = OR_obj.t_data[index]\n",
    "    s2 = NAND_obj.t_data[index]\n",
    "    temp = AND_obj.x_data\n",
    "    print(s1,s2)\n",
    "    \n",
    "    for i in range(len(x_data)):\n",
    "        if (temp[i][0] == s1) * (temp[i][1] == s2) == 1:\n",
    "            print(AND_obj.t_data[i])\n",
    "            \n",
    "    #print(AND_obj.x_data[index])\n",
    "    #print((s1==AND_obj.x_data[0][0]) * (s2 == AND_obj.x_data[0][1]))\n"
   ]
  },
  {
   "cell_type": "code",
   "execution_count": 87,
   "metadata": {},
   "outputs": [
    {
     "name": "stdout",
     "output_type": "stream",
     "text": [
      "[0 0]  =  0\n",
      "\n",
      "[0 1]  =  1\n",
      "\n",
      "[1 0]  =  1\n",
      "\n",
      "[1 1]  =  0\n",
      "\n"
     ]
    }
   ],
   "source": [
    "input_data = np.array([[0,0],[0,1],[1,0],[1,1]])\n",
    "s1 = []    # NAND 출력\n",
    "s2 = []    # OR 출력\n",
    "\n",
    "new_input_data = []  # AND 입력\n",
    "final_output = []    # AND 출력\n",
    "\n",
    "for index in range(len(input_data)):\n",
    "    \n",
    "    s1 = NAND_obj.predict(input_data[index])  # NAND 출력\n",
    "    s2 = OR_obj.predict(input_data[index])    # OR 출력\n",
    "    \n",
    "    new_input_data.append(s1[-1])    # AND 입력\n",
    "    new_input_data.append(s2[-1])    # AND 입력\n",
    "    \n",
    "    (sigmoid_val, logical_val) = AND_obj.predict(np.array(new_input_data))\n",
    "    \n",
    "    final_output.append(logical_val)    # AND 출력, 즉 XOR 출력    \n",
    "    new_input_data = []    # AND 입력 초기화\n",
    "\n",
    "\n",
    "for index in range(len(input_data)):    \n",
    "    print(input_data[index], \" = \", final_output[index], end='')\n",
    "    print(\"\\n\")"
   ]
  },
  {
   "cell_type": "code",
   "execution_count": null,
   "metadata": {},
   "outputs": [],
   "source": []
  }
 ],
 "metadata": {
  "kernelspec": {
   "display_name": "Python 3",
   "language": "python",
   "name": "python3"
  },
  "language_info": {
   "codemirror_mode": {
    "name": "ipython",
    "version": 3
   },
   "file_extension": ".py",
   "mimetype": "text/x-python",
   "name": "python",
   "nbconvert_exporter": "python",
   "pygments_lexer": "ipython3",
   "version": "3.6.5"
  }
 },
 "nbformat": 4,
 "nbformat_minor": 2
}
